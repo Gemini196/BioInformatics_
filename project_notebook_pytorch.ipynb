{
 "cells": [
  {
   "cell_type": "code",
   "execution_count": 154,
   "metadata": {
    "collapsed": false,
    "ExecuteTime": {
     "end_time": "2024-05-11T09:43:50.847453400Z",
     "start_time": "2024-05-11T09:43:50.760343100Z"
    }
   },
   "outputs": [
    {
     "data": {
      "text/plain": "<torch._C.Generator at 0x1b287107a90>"
     },
     "execution_count": 154,
     "metadata": {},
     "output_type": "execute_result"
    }
   ],
   "source": [
    "# Data Processing\n",
    "import pandas as pd\n",
    "import numpy as np\n",
    "from scipy.stats import pearsonr, spearmanr\n",
    "import matplotlib.pyplot as plt\n",
    "from numpy.polynomial.polynomial import polyfit\n",
    "\n",
    "# Modelling\n",
    "from sklearn.metrics import mean_squared_error, r2_score\n",
    "from sklearn.ensemble import RandomForestRegressor\n",
    "from sklearn.model_selection import train_test_split\n",
    "from sklearn.linear_model import LinearRegression\n",
    "\n",
    "from sklearn.preprocessing import StandardScaler\n",
    "import torch\n",
    "import torch.nn as nn\n",
    "import torch.optim as optim\n",
    "\n",
    "torch.manual_seed(3)"
   ]
  },
  {
   "cell_type": "code",
   "execution_count": 155,
   "metadata": {
    "ExecuteTime": {
     "end_time": "2024-05-11T09:43:50.874922200Z",
     "start_time": "2024-05-11T09:43:50.851250900Z"
    }
   },
   "outputs": [],
   "source": [
    "def train_and_predict(model, X_train, X_test, y_train, y_test):\n",
    "    model.fit(X_train, y_train) # Train the model\n",
    "    predictions = model.predict(X_test) # Make predictions on the test set\n",
    "\n",
    "    # Removing negative values in predictions\n",
    "    mask = predictions >= 0\n",
    "    predictions = predictions[mask]\n",
    "    y_test = y_test[mask]\n",
    "    r2 = r2_score(y_test, predictions)\n",
    "    return predictions, y_test"
   ]
  },
  {
   "cell_type": "code",
   "execution_count": 156,
   "metadata": {
    "ExecuteTime": {
     "end_time": "2024-05-11T09:43:50.877536800Z",
     "start_time": "2024-05-11T09:43:50.855438800Z"
    }
   },
   "outputs": [],
   "source": [
    "\n",
    "def print_stats(y_test, predictions):\n",
    "    print('Mean Squared Error (MSE):', mean_squared_error(y_test, predictions))\n",
    "    print('Root Mean Squared Error (RMSE):', np.sqrt(mean_squared_error(y_test, predictions)))\n",
    "    mape = np.mean(np.abs((y_test - predictions) / np.abs(y_test)))\n",
    "    print('Mean Absolute Percentage Error (MAPE):', round(mape * 100, 2))\n",
    "    print('Accuracy:', round(100 * (1 - mape), 2))\n",
    "\n",
    "    correlation_coefficient, p_value = spearmanr(y_test, predictions)\n",
    "    print(f\"\\nSpearman Rho:{correlation_coefficient}\\np-value:{p_value}\")"
   ]
  },
  {
   "cell_type": "code",
   "execution_count": 157,
   "metadata": {
    "ExecuteTime": {
     "end_time": "2024-05-11T09:43:50.878578100Z",
     "start_time": "2024-05-11T09:43:50.863275100Z"
    }
   },
   "outputs": [],
   "source": [
    "\n",
    "def merge_identical_xlsx_columns(df, col_name1, col_name2, merged_col_name):\n",
    "    df[merged_col_name] = df[col_name1].fillna(df[col_name2])\n",
    "    if merged_col_name == col_name1:\n",
    "        df.drop(col_name2, axis=1, inplace=True)\n",
    "    elif merged_col_name == col_name2:\n",
    "        df.drop(col_name1, axis=1, inplace=True)\n",
    "    else:\n",
    "        df.drop([col_name1, col_name2], axis=1, inplace=True)\n",
    "    return df"
   ]
  },
  {
   "cell_type": "markdown",
   "metadata": {},
   "source": [
    "Load and Clean Data"
   ]
  },
  {
   "cell_type": "code",
   "execution_count": 158,
   "metadata": {
    "ExecuteTime": {
     "end_time": "2024-05-11T09:43:50.954725800Z",
     "start_time": "2024-05-11T09:43:50.881509300Z"
    }
   },
   "outputs": [
    {
     "data": {
      "text/plain": "             Study ID                               Patient ID  \\\n0     ccle_broad_2019                       127399_SOFT_TISSUE   \n1     ccle_broad_2019            1321N1_CENTRAL_NERVOUS_SYSTEM   \n2     ccle_broad_2019                                143B_BONE   \n3     ccle_broad_2019                                201T_LUNG   \n4     ccle_broad_2019                           22RV1_PROSTATE   \n...               ...                                      ...   \n1734  ccle_broad_2019                              YMB1_BREAST   \n1735  ccle_broad_2019    YT_HAEMATOPOIETIC_AND_LYMPHOID_TISSUE   \n1736  ccle_broad_2019  Z138_HAEMATOPOIETIC_AND_LYMPHOID_TISSUE   \n1737  ccle_broad_2019                             ZR751_BREAST   \n1738  ccle_broad_2019                            ZR7530_BREAST   \n\n                                    Sample ID   Age Annotation Source  \\\n0                          127399_SOFT_TISSUE   NaN               NaN   \n1               1321N1_CENTRAL_NERVOUS_SYSTEM   NaN              CCLE   \n2                                   143B_BONE  13.0              CCLE   \n3                                   201T_LUNG   NaN               NaN   \n4                              22RV1_PROSTATE   NaN              CCLE   \n...                                       ...   ...               ...   \n1734                              YMB1_BREAST  63.0              CCLE   \n1735    YT_HAEMATOPOIETIC_AND_LYMPHOID_TISSUE   NaN               NaN   \n1736  Z138_HAEMATOPOIETIC_AND_LYMPHOID_TISSUE   NaN               NaN   \n1737                             ZR751_BREAST  63.0              CCLE   \n1738                            ZR7530_BREAST  47.0              CCLE   \n\n                            Cancer Type  \\\n0                   Soft Tissue Sarcoma   \n1                                Glioma   \n2                           Bone Cancer   \n3            Non-Small Cell Lung Cancer   \n4                       Prostate Cancer   \n...                                 ...   \n1734                      Breast Cancer   \n1735  T-Lymphoblastic Leukemia/Lymphoma   \n1736            Mature B-Cell Neoplasms   \n1737                      Breast Cancer   \n1738                      Breast Cancer   \n\n                                   Cancer Type Detailed Cell Line Source  \\\n0                                      Synovial Sarcoma              NaN   \n1                                           Astrocytoma              NaN   \n2                                          Osteosarcoma              NaN   \n3                                   Lung Adenocarcinoma              NaN   \n4                               Prostate Adenocarcinoma             ATCC   \n...                                                 ...              ...   \n1734                          Invasive Breast Carcinoma              NaN   \n1735  Natural Killer (NK) Cell Lymphoblastic Leukemi...              NaN   \n1736                               Mantle Cell Lymphoma              NaN   \n1737                          Invasive Breast Carcinoma             ATCC   \n1738                          Invasive Breast Carcinoma              GNF   \n\n          Characteristics   DepMap ID  ...     Sex  Site of Finding  \\\n0                     NaN  ACH-001270  ...     NaN              NaN   \n1                     NaN  ACH-001000  ...     NaN              NaN   \n2                     NaN  ACH-001001  ...  Female              NaN   \n3                     NaN  ACH-002089  ...     NaN              NaN   \n4     Adherent epithelial  ACH-000956  ...    Male              NaN   \n...                   ...         ...  ...     ...              ...   \n1734                  NaN  ACH-001249  ...  Female              NaN   \n1735                  NaN  ACH-002317  ...     NaN              NaN   \n1736                  NaN  ACH-002500  ...     NaN              NaN   \n1737  adherent epithelial  ACH-000097  ...  Female          ascites   \n1738                  NaN  ACH-000828  ...  Female          ascites   \n\n     Site Subtype 1 Site Subtype 2  Site Subtype 3  \\\n0               NaN            NaN             NaN   \n1             brain             NS              NS   \n2                NS             NS              NS   \n3               NaN            NaN             NaN   \n4                NS             NS              NS   \n...             ...            ...             ...   \n1734             NS             NS              NS   \n1735            NaN            NaN             NaN   \n1736            NaN            NaN             NaN   \n1737             NS             NS              NS   \n1738             NS             NS              NS   \n\n                                                Subtype  Supplements  \\\n0                                              Synovial          NaN   \n1                                           Astrocytoma          NaN   \n2                                          Osteosarcoma          NaN   \n3     Non-Small Cell Lung Cancer (NSCLC), Adenocarci...          NaN   \n4                                        Adenocarcinoma          NaN   \n...                                                 ...          ...   \n1734                                          Carcinoma          NaN   \n1735  Natural Killer Cell Lymphoblastic Leukemia/Lym...          NaN   \n1736                  B-cell, Non-Hodgkins, Mantle Cell          NaN   \n1737                            Breast Ductal Carcinoma          NaN   \n1738                            Breast Ductal Carcinoma          NaN   \n\n     TMB (nonsynonymous)    Tumor Type  Type Refined  \n0               5.533333           NaN           NaN  \n1                    NaN        glioma        glioma  \n2                    NaN  osteosarcoma  osteosarcoma  \n3              10.100000           NaN      lung_NSC  \n4              73.700000      prostate      prostate  \n...                  ...           ...           ...  \n1734                 NaN        breast        breast  \n1735           18.200000           NaN           NaN  \n1736                 NaN           NaN           NaN  \n1737            8.500000        breast        breast  \n1738           12.966667        breast        breast  \n\n[1739 rows x 51 columns]",
      "text/html": "<div>\n<style scoped>\n    .dataframe tbody tr th:only-of-type {\n        vertical-align: middle;\n    }\n\n    .dataframe tbody tr th {\n        vertical-align: top;\n    }\n\n    .dataframe thead th {\n        text-align: right;\n    }\n</style>\n<table border=\"1\" class=\"dataframe\">\n  <thead>\n    <tr style=\"text-align: right;\">\n      <th></th>\n      <th>Study ID</th>\n      <th>Patient ID</th>\n      <th>Sample ID</th>\n      <th>Age</th>\n      <th>Annotation Source</th>\n      <th>Cancer Type</th>\n      <th>Cancer Type Detailed</th>\n      <th>Cell Line Source</th>\n      <th>Characteristics</th>\n      <th>DepMap ID</th>\n      <th>...</th>\n      <th>Sex</th>\n      <th>Site of Finding</th>\n      <th>Site Subtype 1</th>\n      <th>Site Subtype 2</th>\n      <th>Site Subtype 3</th>\n      <th>Subtype</th>\n      <th>Supplements</th>\n      <th>TMB (nonsynonymous)</th>\n      <th>Tumor Type</th>\n      <th>Type Refined</th>\n    </tr>\n  </thead>\n  <tbody>\n    <tr>\n      <th>0</th>\n      <td>ccle_broad_2019</td>\n      <td>127399_SOFT_TISSUE</td>\n      <td>127399_SOFT_TISSUE</td>\n      <td>NaN</td>\n      <td>NaN</td>\n      <td>Soft Tissue Sarcoma</td>\n      <td>Synovial Sarcoma</td>\n      <td>NaN</td>\n      <td>NaN</td>\n      <td>ACH-001270</td>\n      <td>...</td>\n      <td>NaN</td>\n      <td>NaN</td>\n      <td>NaN</td>\n      <td>NaN</td>\n      <td>NaN</td>\n      <td>Synovial</td>\n      <td>NaN</td>\n      <td>5.533333</td>\n      <td>NaN</td>\n      <td>NaN</td>\n    </tr>\n    <tr>\n      <th>1</th>\n      <td>ccle_broad_2019</td>\n      <td>1321N1_CENTRAL_NERVOUS_SYSTEM</td>\n      <td>1321N1_CENTRAL_NERVOUS_SYSTEM</td>\n      <td>NaN</td>\n      <td>CCLE</td>\n      <td>Glioma</td>\n      <td>Astrocytoma</td>\n      <td>NaN</td>\n      <td>NaN</td>\n      <td>ACH-001000</td>\n      <td>...</td>\n      <td>NaN</td>\n      <td>NaN</td>\n      <td>brain</td>\n      <td>NS</td>\n      <td>NS</td>\n      <td>Astrocytoma</td>\n      <td>NaN</td>\n      <td>NaN</td>\n      <td>glioma</td>\n      <td>glioma</td>\n    </tr>\n    <tr>\n      <th>2</th>\n      <td>ccle_broad_2019</td>\n      <td>143B_BONE</td>\n      <td>143B_BONE</td>\n      <td>13.0</td>\n      <td>CCLE</td>\n      <td>Bone Cancer</td>\n      <td>Osteosarcoma</td>\n      <td>NaN</td>\n      <td>NaN</td>\n      <td>ACH-001001</td>\n      <td>...</td>\n      <td>Female</td>\n      <td>NaN</td>\n      <td>NS</td>\n      <td>NS</td>\n      <td>NS</td>\n      <td>Osteosarcoma</td>\n      <td>NaN</td>\n      <td>NaN</td>\n      <td>osteosarcoma</td>\n      <td>osteosarcoma</td>\n    </tr>\n    <tr>\n      <th>3</th>\n      <td>ccle_broad_2019</td>\n      <td>201T_LUNG</td>\n      <td>201T_LUNG</td>\n      <td>NaN</td>\n      <td>NaN</td>\n      <td>Non-Small Cell Lung Cancer</td>\n      <td>Lung Adenocarcinoma</td>\n      <td>NaN</td>\n      <td>NaN</td>\n      <td>ACH-002089</td>\n      <td>...</td>\n      <td>NaN</td>\n      <td>NaN</td>\n      <td>NaN</td>\n      <td>NaN</td>\n      <td>NaN</td>\n      <td>Non-Small Cell Lung Cancer (NSCLC), Adenocarci...</td>\n      <td>NaN</td>\n      <td>10.100000</td>\n      <td>NaN</td>\n      <td>lung_NSC</td>\n    </tr>\n    <tr>\n      <th>4</th>\n      <td>ccle_broad_2019</td>\n      <td>22RV1_PROSTATE</td>\n      <td>22RV1_PROSTATE</td>\n      <td>NaN</td>\n      <td>CCLE</td>\n      <td>Prostate Cancer</td>\n      <td>Prostate Adenocarcinoma</td>\n      <td>ATCC</td>\n      <td>Adherent epithelial</td>\n      <td>ACH-000956</td>\n      <td>...</td>\n      <td>Male</td>\n      <td>NaN</td>\n      <td>NS</td>\n      <td>NS</td>\n      <td>NS</td>\n      <td>Adenocarcinoma</td>\n      <td>NaN</td>\n      <td>73.700000</td>\n      <td>prostate</td>\n      <td>prostate</td>\n    </tr>\n    <tr>\n      <th>...</th>\n      <td>...</td>\n      <td>...</td>\n      <td>...</td>\n      <td>...</td>\n      <td>...</td>\n      <td>...</td>\n      <td>...</td>\n      <td>...</td>\n      <td>...</td>\n      <td>...</td>\n      <td>...</td>\n      <td>...</td>\n      <td>...</td>\n      <td>...</td>\n      <td>...</td>\n      <td>...</td>\n      <td>...</td>\n      <td>...</td>\n      <td>...</td>\n      <td>...</td>\n      <td>...</td>\n    </tr>\n    <tr>\n      <th>1734</th>\n      <td>ccle_broad_2019</td>\n      <td>YMB1_BREAST</td>\n      <td>YMB1_BREAST</td>\n      <td>63.0</td>\n      <td>CCLE</td>\n      <td>Breast Cancer</td>\n      <td>Invasive Breast Carcinoma</td>\n      <td>NaN</td>\n      <td>NaN</td>\n      <td>ACH-001249</td>\n      <td>...</td>\n      <td>Female</td>\n      <td>NaN</td>\n      <td>NS</td>\n      <td>NS</td>\n      <td>NS</td>\n      <td>Carcinoma</td>\n      <td>NaN</td>\n      <td>NaN</td>\n      <td>breast</td>\n      <td>breast</td>\n    </tr>\n    <tr>\n      <th>1735</th>\n      <td>ccle_broad_2019</td>\n      <td>YT_HAEMATOPOIETIC_AND_LYMPHOID_TISSUE</td>\n      <td>YT_HAEMATOPOIETIC_AND_LYMPHOID_TISSUE</td>\n      <td>NaN</td>\n      <td>NaN</td>\n      <td>T-Lymphoblastic Leukemia/Lymphoma</td>\n      <td>Natural Killer (NK) Cell Lymphoblastic Leukemi...</td>\n      <td>NaN</td>\n      <td>NaN</td>\n      <td>ACH-002317</td>\n      <td>...</td>\n      <td>NaN</td>\n      <td>NaN</td>\n      <td>NaN</td>\n      <td>NaN</td>\n      <td>NaN</td>\n      <td>Natural Killer Cell Lymphoblastic Leukemia/Lym...</td>\n      <td>NaN</td>\n      <td>18.200000</td>\n      <td>NaN</td>\n      <td>NaN</td>\n    </tr>\n    <tr>\n      <th>1736</th>\n      <td>ccle_broad_2019</td>\n      <td>Z138_HAEMATOPOIETIC_AND_LYMPHOID_TISSUE</td>\n      <td>Z138_HAEMATOPOIETIC_AND_LYMPHOID_TISSUE</td>\n      <td>NaN</td>\n      <td>NaN</td>\n      <td>Mature B-Cell Neoplasms</td>\n      <td>Mantle Cell Lymphoma</td>\n      <td>NaN</td>\n      <td>NaN</td>\n      <td>ACH-002500</td>\n      <td>...</td>\n      <td>NaN</td>\n      <td>NaN</td>\n      <td>NaN</td>\n      <td>NaN</td>\n      <td>NaN</td>\n      <td>B-cell, Non-Hodgkins, Mantle Cell</td>\n      <td>NaN</td>\n      <td>NaN</td>\n      <td>NaN</td>\n      <td>NaN</td>\n    </tr>\n    <tr>\n      <th>1737</th>\n      <td>ccle_broad_2019</td>\n      <td>ZR751_BREAST</td>\n      <td>ZR751_BREAST</td>\n      <td>63.0</td>\n      <td>CCLE</td>\n      <td>Breast Cancer</td>\n      <td>Invasive Breast Carcinoma</td>\n      <td>ATCC</td>\n      <td>adherent epithelial</td>\n      <td>ACH-000097</td>\n      <td>...</td>\n      <td>Female</td>\n      <td>ascites</td>\n      <td>NS</td>\n      <td>NS</td>\n      <td>NS</td>\n      <td>Breast Ductal Carcinoma</td>\n      <td>NaN</td>\n      <td>8.500000</td>\n      <td>breast</td>\n      <td>breast</td>\n    </tr>\n    <tr>\n      <th>1738</th>\n      <td>ccle_broad_2019</td>\n      <td>ZR7530_BREAST</td>\n      <td>ZR7530_BREAST</td>\n      <td>47.0</td>\n      <td>CCLE</td>\n      <td>Breast Cancer</td>\n      <td>Invasive Breast Carcinoma</td>\n      <td>GNF</td>\n      <td>NaN</td>\n      <td>ACH-000828</td>\n      <td>...</td>\n      <td>Female</td>\n      <td>ascites</td>\n      <td>NS</td>\n      <td>NS</td>\n      <td>NS</td>\n      <td>Breast Ductal Carcinoma</td>\n      <td>NaN</td>\n      <td>12.966667</td>\n      <td>breast</td>\n      <td>breast</td>\n    </tr>\n  </tbody>\n</table>\n<p>1739 rows × 51 columns</p>\n</div>"
     },
     "execution_count": 158,
     "metadata": {},
     "output_type": "execute_result"
    }
   ],
   "source": [
    "# Load original clinical data file\n",
    "df = pd.read_csv('./DATA/ccle_broad_2019_clinical_data.csv')\n",
    "df"
   ]
  },
  {
   "cell_type": "code",
   "execution_count": 159,
   "metadata": {
    "ExecuteTime": {
     "end_time": "2024-05-11T09:43:51.040501900Z",
     "start_time": "2024-05-11T09:43:50.920308800Z"
    }
   },
   "outputs": [
    {
     "data": {
      "text/plain": "     Parental cell line ID Cell Line Name  \\\n0               ACH-000014         Hs294T   \n1               ACH-000021       NCIH1693   \n2               ACH-000022      PATU8988S   \n3               ACH-000025        CH157MN   \n4               ACH-000037           S117   \n...                    ...            ...   \n1252            ACH-002994         WSUAML   \n1253            ACH-003016       TELOHAEC   \n1254            ACH-003019       LASCPC01   \n1255            ACH-003065     CHLA02ATRT   \n1256            ACH-003070      CHLA01MED   \n\n      GPP (screeners) Cell Doubling Time (hrs)  \\\n0                                         66.0   \n1                                         50.0   \n2                                         36.0   \n3                                         35.0   \n4                                         45.0   \n...                                        ...   \n1252                                      53.0   \n1253                                      48.0   \n1254                                      27.0   \n1255                                      72.0   \n1256                                      56.0   \n\n      DepMap expansion Doubling time (hrs)  CCLE Doubling Time (hrs)  \\\n0                                      NaN                      67.5   \n1                                      NaN                      94.7   \n2                                      NaN                     110.0   \n3                                      NaN                       NaN   \n4                                      NaN                     107.6   \n...                                    ...                       ...   \n1252                                   NaN                       NaN   \n1253                                   NaN                       NaN   \n1254                                   NaN                       NaN   \n1255                                   NaN                       NaN   \n1256                                   NaN                       NaN   \n\n                Site_Primary  \n0                       skin  \n1                       lung  \n2                   pancreas  \n3     central_nervous_system  \n4                soft_tissue  \n...                      ...  \n1252                     NaN  \n1253                     NaN  \n1254                     NaN  \n1255                     NaN  \n1256                     NaN  \n\n[1257 rows x 6 columns]",
      "text/html": "<div>\n<style scoped>\n    .dataframe tbody tr th:only-of-type {\n        vertical-align: middle;\n    }\n\n    .dataframe tbody tr th {\n        vertical-align: top;\n    }\n\n    .dataframe thead th {\n        text-align: right;\n    }\n</style>\n<table border=\"1\" class=\"dataframe\">\n  <thead>\n    <tr style=\"text-align: right;\">\n      <th></th>\n      <th>Parental cell line ID</th>\n      <th>Cell Line Name</th>\n      <th>GPP (screeners) Cell Doubling Time (hrs)</th>\n      <th>DepMap expansion Doubling time (hrs)</th>\n      <th>CCLE Doubling Time (hrs)</th>\n      <th>Site_Primary</th>\n    </tr>\n  </thead>\n  <tbody>\n    <tr>\n      <th>0</th>\n      <td>ACH-000014</td>\n      <td>Hs294T</td>\n      <td>66.0</td>\n      <td>NaN</td>\n      <td>67.5</td>\n      <td>skin</td>\n    </tr>\n    <tr>\n      <th>1</th>\n      <td>ACH-000021</td>\n      <td>NCIH1693</td>\n      <td>50.0</td>\n      <td>NaN</td>\n      <td>94.7</td>\n      <td>lung</td>\n    </tr>\n    <tr>\n      <th>2</th>\n      <td>ACH-000022</td>\n      <td>PATU8988S</td>\n      <td>36.0</td>\n      <td>NaN</td>\n      <td>110.0</td>\n      <td>pancreas</td>\n    </tr>\n    <tr>\n      <th>3</th>\n      <td>ACH-000025</td>\n      <td>CH157MN</td>\n      <td>35.0</td>\n      <td>NaN</td>\n      <td>NaN</td>\n      <td>central_nervous_system</td>\n    </tr>\n    <tr>\n      <th>4</th>\n      <td>ACH-000037</td>\n      <td>S117</td>\n      <td>45.0</td>\n      <td>NaN</td>\n      <td>107.6</td>\n      <td>soft_tissue</td>\n    </tr>\n    <tr>\n      <th>...</th>\n      <td>...</td>\n      <td>...</td>\n      <td>...</td>\n      <td>...</td>\n      <td>...</td>\n      <td>...</td>\n    </tr>\n    <tr>\n      <th>1252</th>\n      <td>ACH-002994</td>\n      <td>WSUAML</td>\n      <td>53.0</td>\n      <td>NaN</td>\n      <td>NaN</td>\n      <td>NaN</td>\n    </tr>\n    <tr>\n      <th>1253</th>\n      <td>ACH-003016</td>\n      <td>TELOHAEC</td>\n      <td>48.0</td>\n      <td>NaN</td>\n      <td>NaN</td>\n      <td>NaN</td>\n    </tr>\n    <tr>\n      <th>1254</th>\n      <td>ACH-003019</td>\n      <td>LASCPC01</td>\n      <td>27.0</td>\n      <td>NaN</td>\n      <td>NaN</td>\n      <td>NaN</td>\n    </tr>\n    <tr>\n      <th>1255</th>\n      <td>ACH-003065</td>\n      <td>CHLA02ATRT</td>\n      <td>72.0</td>\n      <td>NaN</td>\n      <td>NaN</td>\n      <td>NaN</td>\n    </tr>\n    <tr>\n      <th>1256</th>\n      <td>ACH-003070</td>\n      <td>CHLA01MED</td>\n      <td>56.0</td>\n      <td>NaN</td>\n      <td>NaN</td>\n      <td>NaN</td>\n    </tr>\n  </tbody>\n</table>\n<p>1257 rows × 6 columns</p>\n</div>"
     },
     "execution_count": 159,
     "metadata": {},
     "output_type": "execute_result"
    }
   ],
   "source": [
    "# Load second clinical data file\n",
    "df2 = pd.read_excel('./DATA/merged_doubling_time_with_site.xlsx')\n",
    "df2 = merge_identical_xlsx_columns(df2, \"CCLE Doubling Time (hrs)\",\"Doubling.Time.Calculated.hrs\",\n",
    "                                    \"CCLE Doubling Time (hrs)\")\n",
    "\n",
    "df2"
   ]
  },
  {
   "cell_type": "code",
   "execution_count": 160,
   "metadata": {
    "ExecuteTime": {
     "end_time": "2024-05-11T09:43:52.106880600Z",
     "start_time": "2024-05-11T09:43:51.017447400Z"
    }
   },
   "outputs": [
    {
     "data": {
      "text/plain": "['22RV1_PROSTATE',\n '2313287_STOMACH',\n '42MGBA_CENTRAL_NERVOUS_SYSTEM',\n '5637_URINARY_TRACT',\n '59M_OVARY',\n '639V_URINARY_TRACT',\n '647V_URINARY_TRACT',\n '697_HAEMATOPOIETIC_AND_LYMPHOID_TISSUE',\n '769P_KIDNEY',\n '8305C_THYROID',\n '8505C_THYROID',\n '8MGBA_CENTRAL_NERVOUS_SYSTEM',\n 'A101D_SKIN',\n 'A172_CENTRAL_NERVOUS_SYSTEM',\n 'A2058_SKIN',\n 'A253_SALIVARY_GLAND',\n 'A2780_OVARY',\n 'A375_SKIN',\n 'A3KAW_HAEMATOPOIETIC_AND_LYMPHOID_TISSUE',\n 'A498_KIDNEY',\n 'A4FUK_HAEMATOPOIETIC_AND_LYMPHOID_TISSUE',\n 'A549_LUNG',\n 'ABC1_LUNG',\n 'ACHN_KIDNEY',\n 'AGS_STOMACH',\n 'ALLSIL_HAEMATOPOIETIC_AND_LYMPHOID_TISSUE',\n 'AML193_HAEMATOPOIETIC_AND_LYMPHOID_TISSUE',\n 'AMO1_HAEMATOPOIETIC_AND_LYMPHOID_TISSUE',\n 'AN3CA_ENDOMETRIUM',\n 'ASPC1_PANCREAS',\n 'AU565_BREAST',\n 'BC3C_URINARY_TRACT',\n 'BCP1_HAEMATOPOIETIC_AND_LYMPHOID_TISSUE',\n 'BCPAP_THYROID',\n 'BECKER_CENTRAL_NERVOUS_SYSTEM',\n 'BEN_LUNG',\n 'BFTC905_URINARY_TRACT',\n 'BFTC909_KIDNEY',\n 'BHT101_THYROID',\n 'BHY_UPPER_AERODIGESTIVE_TRACT',\n 'BICR16_UPPER_AERODIGESTIVE_TRACT',\n 'BICR22_UPPER_AERODIGESTIVE_TRACT',\n 'BICR31_UPPER_AERODIGESTIVE_TRACT',\n 'BICR56_UPPER_AERODIGESTIVE_TRACT',\n 'BICR6_UPPER_AERODIGESTIVE_TRACT',\n 'BL41_HAEMATOPOIETIC_AND_LYMPHOID_TISSUE',\n 'BL70_HAEMATOPOIETIC_AND_LYMPHOID_TISSUE',\n 'BT474_BREAST',\n 'BT483_BREAST',\n 'BT549_BREAST',\n 'BV173_HAEMATOPOIETIC_AND_LYMPHOID_TISSUE',\n 'C2BBE1_LARGE_INTESTINE',\n 'C32_SKIN',\n 'CA46_HAEMATOPOIETIC_AND_LYMPHOID_TISSUE',\n 'CADOES1_BONE',\n 'CAKI1_KIDNEY',\n 'CAL120_BREAST',\n 'CAL148_BREAST',\n 'CAL27_UPPER_AERODIGESTIVE_TRACT',\n 'CAL29_URINARY_TRACT',\n 'CAL33_UPPER_AERODIGESTIVE_TRACT',\n 'CAL51_BREAST',\n 'CAL62_THYROID',\n 'CAL78_BONE',\n 'CAL851_BREAST',\n 'CALU3_LUNG',\n 'CALU6_LUNG',\n 'CAMA1_BREAST',\n 'CAOV3_OVARY',\n 'CAPAN1_PANCREAS',\n 'CAS1_CENTRAL_NERVOUS_SYSTEM',\n 'CCFSTTG1_CENTRAL_NERVOUS_SYSTEM',\n 'CCK81_LARGE_INTESTINE',\n 'CFPAC1_PANCREAS',\n 'CGTHW1_THYROID',\n 'CHL1_SKIN',\n 'CHP212_AUTONOMIC_GANGLIA',\n 'CI1_HAEMATOPOIETIC_AND_LYMPHOID_TISSUE',\n 'CJM_SKIN',\n 'CL11_LARGE_INTESTINE',\n 'CL14_LARGE_INTESTINE',\n 'CL34_LARGE_INTESTINE',\n 'CL40_LARGE_INTESTINE',\n 'CMK115_HAEMATOPOIETIC_AND_LYMPHOID_TISSUE',\n 'CMK_HAEMATOPOIETIC_AND_LYMPHOID_TISSUE',\n 'CMLT1_HAEMATOPOIETIC_AND_LYMPHOID_TISSUE',\n 'COLO678_LARGE_INTESTINE',\n 'COLO679_SKIN',\n 'COLO704_OVARY',\n 'COLO741_SKIN',\n 'COLO783_SKIN',\n 'COLO792_SKIN',\n 'COLO800_SKIN',\n 'COLO829_SKIN',\n 'CORL23_LUNG',\n 'CORL24_LUNG',\n 'CORL311_LUNG',\n 'CORL47_LUNG',\n 'CORL95_LUNG',\n 'COV318_OVARY',\n 'COV362_OVARY',\n 'COV644_OVARY',\n 'CW2_LARGE_INTESTINE',\n 'D283MED_CENTRAL_NERVOUS_SYSTEM',\n 'D341MED_CENTRAL_NERVOUS_SYSTEM',\n 'DANG_PANCREAS',\n 'DAOY_CENTRAL_NERVOUS_SYSTEM',\n 'DAUDI_HAEMATOPOIETIC_AND_LYMPHOID_TISSUE',\n 'DBTRG05MG_CENTRAL_NERVOUS_SYSTEM',\n 'DB_HAEMATOPOIETIC_AND_LYMPHOID_TISSUE',\n 'DEL_HAEMATOPOIETIC_AND_LYMPHOID_TISSUE',\n 'DETROIT562_UPPER_AERODIGESTIVE_TRACT',\n 'DKMG_CENTRAL_NERVOUS_SYSTEM',\n 'DMS114_LUNG',\n 'DMS153_LUNG',\n 'DMS454_LUNG',\n 'DMS53_LUNG',\n 'DMS79_LUNG',\n 'DND41_HAEMATOPOIETIC_AND_LYMPHOID_TISSUE',\n 'DOHH2_HAEMATOPOIETIC_AND_LYMPHOID_TISSUE',\n 'DOV13_OVARY',\n 'DU145_PROSTATE',\n 'DU4475_BREAST',\n 'DV90_LUNG',\n 'EB1_HAEMATOPOIETIC_AND_LYMPHOID_TISSUE',\n 'EBC1_LUNG',\n 'ECC10_STOMACH',\n 'ECC12_STOMACH',\n 'EFE184_ENDOMETRIUM',\n 'EFM192A_BREAST',\n 'EFM19_BREAST',\n 'EFO21_OVARY',\n 'EFO27_OVARY',\n 'EHEB_HAEMATOPOIETIC_AND_LYMPHOID_TISSUE',\n 'EJM_HAEMATOPOIETIC_AND_LYMPHOID_TISSUE',\n 'EKVX_LUNG',\n 'EM2_HAEMATOPOIETIC_AND_LYMPHOID_TISSUE',\n 'EN_ENDOMETRIUM',\n 'EOL1_HAEMATOPOIETIC_AND_LYMPHOID_TISSUE',\n 'EPLC272H_LUNG',\n 'ES2_OVARY',\n 'ESS1_ENDOMETRIUM',\n 'FADU_UPPER_AERODIGESTIVE_TRACT',\n 'FTC133_THYROID',\n 'FTC238_THYROID',\n 'FU97_STOMACH',\n 'G361_SKIN',\n 'G402_SOFT_TISSUE',\n 'GA10_HAEMATOPOIETIC_AND_LYMPHOID_TISSUE',\n 'GAMG_CENTRAL_NERVOUS_SYSTEM',\n 'GCT_SOFT_TISSUE',\n 'GI1_CENTRAL_NERVOUS_SYSTEM',\n 'GMS10_CENTRAL_NERVOUS_SYSTEM',\n 'GP2D_LARGE_INTESTINE',\n 'GSS_STOMACH',\n 'GSU_STOMACH',\n 'H4_CENTRAL_NERVOUS_SYSTEM',\n 'HARA_LUNG',\n 'HCC1143_BREAST',\n 'HCC1187_BREAST',\n 'HCC1359_LUNG',\n 'HCC1395_BREAST',\n 'HCC1419_BREAST',\n 'HCC1428_BREAST',\n 'HCC1500_BREAST',\n 'HCC1569_BREAST',\n 'HCC1599_BREAST',\n 'HCC15_LUNG',\n 'HCC1806_BREAST',\n 'HCC1937_BREAST',\n 'HCC1954_BREAST',\n 'HCC202_BREAST',\n 'HCC2108_LUNG',\n 'HCC2218_BREAST',\n 'HCC2935_LUNG',\n 'HCC33_LUNG',\n 'HCC366_LUNG',\n 'HCC38_BREAST',\n 'HCC4006_LUNG',\n 'HCC44_LUNG',\n 'HCC56_LARGE_INTESTINE',\n 'HCC70_BREAST',\n 'HCC78_LUNG',\n 'HCC827_LUNG',\n 'HCT15_LARGE_INTESTINE',\n 'HDLM2_HAEMATOPOIETIC_AND_LYMPHOID_TISSUE',\n 'HDMYZ_HAEMATOPOIETIC_AND_LYMPHOID_TISSUE',\n 'HDQP1_BREAST',\n 'HEC108_ENDOMETRIUM',\n 'HEC1B_ENDOMETRIUM',\n 'HEC251_ENDOMETRIUM',\n 'HEC50B_ENDOMETRIUM',\n 'HEC59_ENDOMETRIUM',\n 'HEL9217_HAEMATOPOIETIC_AND_LYMPHOID_TISSUE',\n 'HEL_HAEMATOPOIETIC_AND_LYMPHOID_TISSUE',\n 'HEPG2_LIVER',\n 'HEYA8_OVARY',\n 'HL60_HAEMATOPOIETIC_AND_LYMPHOID_TISSUE',\n 'HLF_LIVER',\n 'HMC18_BREAST',\n 'HMCB_SKIN',\n 'HOP62_LUNG',\n 'HOP92_LUNG',\n 'HOS_BONE',\n 'HPAC_PANCREAS',\n 'HPAFII_PANCREAS',\n 'HS229T_FIBROBLAST',\n 'HS294T_SKIN',\n 'HS578T_BREAST',\n 'HS606T_FIBROBLAST',\n 'HS618T_FIBROBLAST',\n 'HS688AT_FIBROBLAST',\n 'HS695T_SKIN',\n 'HS746T_STOMACH',\n 'HS839T_FIBROBLAST',\n 'HS852T_SKIN',\n 'HS863T_FIBROBLAST',\n 'HS934T_FIBROBLAST',\n 'HS936T_SKIN',\n 'HS939T_SKIN',\n 'HS944T_SKIN',\n 'HSC2_UPPER_AERODIGESTIVE_TRACT',\n 'HSC3_UPPER_AERODIGESTIVE_TRACT',\n 'HT1080_SOFT_TISSUE',\n 'HT115_LARGE_INTESTINE',\n 'HT1376_URINARY_TRACT',\n 'HT144_SKIN',\n 'HT29_LARGE_INTESTINE',\n 'HT55_LARGE_INTESTINE',\n 'HT_HAEMATOPOIETIC_AND_LYMPHOID_TISSUE',\n 'HUCCT1_BILIARY_TRACT',\n 'HUH1_LIVER',\n 'HUH28_BILIARY_TRACT',\n 'HUNS1_HAEMATOPOIETIC_AND_LYMPHOID_TISSUE',\n 'HUPT3_PANCREAS',\n 'HUPT4_PANCREAS',\n 'HUT78_HAEMATOPOIETIC_AND_LYMPHOID_TISSUE',\n 'IALM_LUNG',\n 'IGR1_SKIN',\n 'IGR37_SKIN',\n 'IGR39_SKIN',\n 'IGROV1_OVARY',\n 'IM95_STOMACH',\n 'IPC298_SKIN',\n 'ISTMES2_PLEURA',\n 'J82_URINARY_TRACT',\n 'JEKO1_HAEMATOPOIETIC_AND_LYMPHOID_TISSUE',\n 'JHH1_LIVER',\n 'JHH2_LIVER',\n 'JHH4_LIVER',\n 'JHH5_LIVER',\n 'JHH6_LIVER',\n 'JHH7_LIVER',\n 'JHOC5_OVARY',\n 'JHOM1_OVARY',\n 'JHOS2_OVARY',\n 'JHOS4_OVARY',\n 'JHUEM1_ENDOMETRIUM',\n 'JHUEM7_ENDOMETRIUM',\n 'JJN3_HAEMATOPOIETIC_AND_LYMPHOID_TISSUE',\n 'JL1_PLEURA',\n 'JMSU1_URINARY_TRACT',\n 'JURKAT_HAEMATOPOIETIC_AND_LYMPHOID_TISSUE',\n 'JURLMK1_HAEMATOPOIETIC_AND_LYMPHOID_TISSUE',\n 'JVM3_HAEMATOPOIETIC_AND_LYMPHOID_TISSUE',\n 'K029AX_SKIN',\n 'K562_HAEMATOPOIETIC_AND_LYMPHOID_TISSUE',\n 'KALS1_CENTRAL_NERVOUS_SYSTEM',\n 'KARPAS299_HAEMATOPOIETIC_AND_LYMPHOID_TISSUE',\n 'KARPAS422_HAEMATOPOIETIC_AND_LYMPHOID_TISSUE',\n 'KARPAS620_HAEMATOPOIETIC_AND_LYMPHOID_TISSUE',\n 'KASUMI1_HAEMATOPOIETIC_AND_LYMPHOID_TISSUE',\n 'KASUMI2_HAEMATOPOIETIC_AND_LYMPHOID_TISSUE',\n 'KASUMI6_HAEMATOPOIETIC_AND_LYMPHOID_TISSUE',\n 'KATOIII_STOMACH',\n 'KCL22_HAEMATOPOIETIC_AND_LYMPHOID_TISSUE',\n 'KE39_STOMACH',\n 'KE97_HAEMATOPOIETIC_AND_LYMPHOID_TISSUE',\n 'KELLY_AUTONOMIC_GANGLIA',\n 'KG1C_CENTRAL_NERVOUS_SYSTEM',\n 'KG1_HAEMATOPOIETIC_AND_LYMPHOID_TISSUE',\n 'KHM1B_HAEMATOPOIETIC_AND_LYMPHOID_TISSUE',\n 'KIJK_HAEMATOPOIETIC_AND_LYMPHOID_TISSUE',\n 'KLE_ENDOMETRIUM',\n 'KM12_LARGE_INTESTINE',\n 'KMBC2_URINARY_TRACT',\n 'KMM1_HAEMATOPOIETIC_AND_LYMPHOID_TISSUE',\n 'KMRC1_KIDNEY',\n 'KMRC20_KIDNEY',\n 'KMRC2_KIDNEY',\n 'KMRC3_KIDNEY',\n 'KMS11_HAEMATOPOIETIC_AND_LYMPHOID_TISSUE',\n 'KMS20_HAEMATOPOIETIC_AND_LYMPHOID_TISSUE',\n 'KMS26_HAEMATOPOIETIC_AND_LYMPHOID_TISSUE',\n 'KMS27_HAEMATOPOIETIC_AND_LYMPHOID_TISSUE',\n 'KMS28BM_HAEMATOPOIETIC_AND_LYMPHOID_TISSUE',\n 'KMS34_HAEMATOPOIETIC_AND_LYMPHOID_TISSUE',\n 'KNS42_CENTRAL_NERVOUS_SYSTEM',\n 'KNS62_LUNG',\n 'KNS81_CENTRAL_NERVOUS_SYSTEM',\n 'KO52_HAEMATOPOIETIC_AND_LYMPHOID_TISSUE',\n 'KOPN8_HAEMATOPOIETIC_AND_LYMPHOID_TISSUE',\n 'KP2_PANCREAS',\n 'KP4_PANCREAS',\n 'KPNRTBM1_AUTONOMIC_GANGLIA',\n 'KPNSI9S_AUTONOMIC_GANGLIA',\n 'KPNYN_AUTONOMIC_GANGLIA',\n 'KS1_CENTRAL_NERVOUS_SYSTEM',\n 'KU1919_URINARY_TRACT',\n 'KURAMOCHI_OVARY',\n 'KYO1_HAEMATOPOIETIC_AND_LYMPHOID_TISSUE',\n 'KYSE140_OESOPHAGUS',\n 'KYSE150_OESOPHAGUS',\n 'KYSE180_OESOPHAGUS',\n 'KYSE270_OESOPHAGUS',\n 'KYSE410_OESOPHAGUS',\n 'KYSE450_OESOPHAGUS',\n 'KYSE510_OESOPHAGUS',\n 'KYSE520_OESOPHAGUS',\n 'KYSE70_OESOPHAGUS',\n 'L1236_HAEMATOPOIETIC_AND_LYMPHOID_TISSUE',\n 'L33_PANCREAS',\n 'L363_HAEMATOPOIETIC_AND_LYMPHOID_TISSUE',\n 'L428_HAEMATOPOIETIC_AND_LYMPHOID_TISSUE',\n 'L540_HAEMATOPOIETIC_AND_LYMPHOID_TISSUE',\n 'LC1SQSF_LUNG',\n 'LCLC97TM1_LUNG',\n 'LI7_LIVER',\n 'LK2_LUNG',\n 'LMSU_STOMACH',\n 'LN18_CENTRAL_NERVOUS_SYSTEM',\n 'LNCAPCLONEFGC_PROSTATE',\n 'LOUNH91_LUNG',\n 'LOVO_LARGE_INTESTINE',\n 'LOXIMVI_SKIN',\n 'LP1_HAEMATOPOIETIC_AND_LYMPHOID_TISSUE',\n 'LS1034_LARGE_INTESTINE',\n 'LS123_LARGE_INTESTINE',\n 'LS411N_LARGE_INTESTINE',\n 'LU65_LUNG',\n 'LU99_LUNG',\n 'LUDLU1_LUNG',\n 'LXF289_LUNG',\n 'M059K_CENTRAL_NERVOUS_SYSTEM',\n 'MALME3M_SKIN',\n 'MC116_HAEMATOPOIETIC_AND_LYMPHOID_TISSUE',\n 'MCAS_OVARY',\n 'MCF7_BREAST',\n 'MDAMB134VI_BREAST',\n 'MDAMB157_BREAST',\n 'MDAMB175VII_BREAST',\n 'MDAMB231_BREAST',\n 'MDAMB361_BREAST',\n 'MDAMB415_BREAST',\n 'MDAMB435S_SKIN',\n 'MDAMB436_BREAST',\n 'MDAMB468_BREAST',\n 'MDST8_LARGE_INTESTINE',\n 'ME1_HAEMATOPOIETIC_AND_LYMPHOID_TISSUE',\n 'MELHO_SKIN',\n 'MELJUSO_SKIN',\n 'MESSA_SOFT_TISSUE',\n 'MEWO_SKIN',\n 'MFE296_ENDOMETRIUM',\n 'MHHES1_BONE',\n 'MIAPACA2_PANCREAS',\n 'MINO_HAEMATOPOIETIC_AND_LYMPHOID_TISSUE',\n 'MKN1_STOMACH',\n 'MKN74_STOMACH',\n 'MKN7_STOMACH',\n 'ML1_THYROID',\n 'MM1S_HAEMATOPOIETIC_AND_LYMPHOID_TISSUE',\n 'MOLM13_HAEMATOPOIETIC_AND_LYMPHOID_TISSUE',\n 'MOLM16_HAEMATOPOIETIC_AND_LYMPHOID_TISSUE',\n 'MOLM6_HAEMATOPOIETIC_AND_LYMPHOID_TISSUE',\n 'MOLP2_HAEMATOPOIETIC_AND_LYMPHOID_TISSUE',\n 'MOLT13_HAEMATOPOIETIC_AND_LYMPHOID_TISSUE',\n 'MOLT16_HAEMATOPOIETIC_AND_LYMPHOID_TISSUE',\n 'MOLT3_HAEMATOPOIETIC_AND_LYMPHOID_TISSUE',\n 'MONOMAC1_HAEMATOPOIETIC_AND_LYMPHOID_TISSUE',\n 'MONOMAC6_HAEMATOPOIETIC_AND_LYMPHOID_TISSUE',\n 'MOTN1_HAEMATOPOIETIC_AND_LYMPHOID_TISSUE',\n 'MPP89_PLEURA',\n 'MSTO211H_PLEURA',\n 'MUTZ5_HAEMATOPOIETIC_AND_LYMPHOID_TISSUE',\n 'MV411_HAEMATOPOIETIC_AND_LYMPHOID_TISSUE',\n 'NALM1_HAEMATOPOIETIC_AND_LYMPHOID_TISSUE',\n 'NAMALWA_HAEMATOPOIETIC_AND_LYMPHOID_TISSUE',\n 'NB1_AUTONOMIC_GANGLIA',\n 'NB4_HAEMATOPOIETIC_AND_LYMPHOID_TISSUE',\n 'NCIH1048_LUNG',\n 'NCIH1092_LUNG',\n 'NCIH1105_LUNG',\n 'NCIH1155_LUNG',\n 'NCIH1184_LUNG',\n 'NCIH1299_LUNG',\n 'NCIH1339_LUNG',\n 'NCIH1341_LUNG',\n 'NCIH1355_LUNG',\n 'NCIH1373_LUNG',\n 'NCIH1395_LUNG',\n 'NCIH1435_LUNG',\n 'NCIH1436_LUNG',\n 'NCIH1437_LUNG',\n 'NCIH146_LUNG',\n 'NCIH1563_LUNG',\n 'NCIH1568_LUNG',\n 'NCIH1573_LUNG',\n 'NCIH1581_LUNG',\n 'NCIH1623_LUNG',\n 'NCIH1648_LUNG',\n 'NCIH1650_LUNG',\n 'NCIH1651_LUNG',\n 'NCIH1666_LUNG',\n 'NCIH1693_LUNG',\n 'NCIH1694_LUNG',\n 'NCIH1703_LUNG',\n 'NCIH1755_LUNG',\n 'NCIH1781_LUNG',\n 'NCIH1792_LUNG',\n 'NCIH1793_LUNG',\n 'NCIH1836_LUNG',\n 'NCIH1838_LUNG',\n 'NCIH1869_LUNG',\n 'NCIH1876_LUNG',\n 'NCIH1915_LUNG',\n 'NCIH1944_LUNG',\n 'NCIH196_LUNG',\n 'NCIH1975_LUNG',\n 'NCIH2009_LUNG',\n 'NCIH2023_LUNG',\n 'NCIH2029_LUNG',\n 'NCIH2030_LUNG',\n 'NCIH2052_PLEURA',\n 'NCIH2066_LUNG',\n 'NCIH2073_LUNG',\n 'NCIH2085_LUNG',\n 'NCIH2087_LUNG',\n 'NCIH209_LUNG',\n 'NCIH2110_LUNG',\n 'NCIH211_LUNG',\n 'NCIH2122_LUNG',\n 'NCIH2126_LUNG',\n 'NCIH2141_LUNG',\n 'NCIH2170_LUNG',\n 'NCIH2171_LUNG',\n 'NCIH2172_LUNG',\n 'NCIH2196_LUNG',\n 'NCIH2227_LUNG',\n 'NCIH2228_LUNG',\n 'NCIH226_LUNG',\n 'NCIH2286_LUNG',\n 'NCIH2291_LUNG',\n 'NCIH2342_LUNG',\n 'NCIH2347_LUNG',\n 'NCIH23_LUNG',\n 'NCIH2444_LUNG',\n 'NCIH2452_PLEURA',\n 'NCIH28_PLEURA',\n 'NCIH322_LUNG',\n 'NCIH358_LUNG',\n 'NCIH441_LUNG',\n 'NCIH446_LUNG',\n 'NCIH460_LUNG',\n 'NCIH508_LARGE_INTESTINE',\n 'NCIH510_LUNG',\n 'NCIH520_LUNG',\n 'NCIH524_LUNG',\n 'NCIH526_LUNG',\n 'NCIH596_LUNG',\n 'NCIH647_LUNG',\n 'NCIH650_LUNG',\n 'NCIH661_LUNG',\n 'NCIH69_LUNG',\n 'NCIH716_LARGE_INTESTINE',\n 'NCIH727_LUNG',\n 'NCIH747_LARGE_INTESTINE',\n 'NCIH82_LUNG',\n 'NCIH838_LUNG',\n 'NCIH841_LUNG',\n 'NCIH929_HAEMATOPOIETIC_AND_LYMPHOID_TISSUE',\n 'NCIN87_STOMACH',\n 'NMCG1_CENTRAL_NERVOUS_SYSTEM',\n 'NOMO1_HAEMATOPOIETIC_AND_LYMPHOID_TISSUE',\n 'NUDHL1_HAEMATOPOIETIC_AND_LYMPHOID_TISSUE',\n 'NUDUL1_HAEMATOPOIETIC_AND_LYMPHOID_TISSUE',\n 'NUGC2_STOMACH',\n 'NUGC3_STOMACH',\n 'OAW42_OVARY',\n 'OC314_OVARY',\n 'OC315_OVARY',\n 'OC316_OVARY',\n 'OCIAML3_HAEMATOPOIETIC_AND_LYMPHOID_TISSUE',\n 'OCILY19_HAEMATOPOIETIC_AND_LYMPHOID_TISSUE',\n 'OCILY3_HAEMATOPOIETIC_AND_LYMPHOID_TISSUE',\n 'OCUM1_STOMACH',\n 'OE19_OESOPHAGUS',\n 'OE21_OESOPHAGUS',\n 'OE33_OESOPHAGUS',\n 'ONCODG1_OVARY',\n 'ONS76_CENTRAL_NERVOUS_SYSTEM',\n 'OPM2_HAEMATOPOIETIC_AND_LYMPHOID_TISSUE',\n 'OUMS23_LARGE_INTESTINE',\n 'OV56_OVARY',\n 'OV7_OVARY',\n 'OV90_OVARY',\n 'OVCAR4_OVARY',\n 'OVCAR5_OVARY',\n 'OVCAR8_OVARY',\n 'OVISE_OVARY',\n 'OVK18_OVARY',\n 'OVKATE_OVARY',\n 'OVMANA_OVARY',\n 'OVSAHO_OVARY',\n 'OVTOKO_OVARY',\n 'P12ICHIKAWA_HAEMATOPOIETIC_AND_LYMPHOID_TISSUE',\n 'P3HR1_HAEMATOPOIETIC_AND_LYMPHOID_TISSUE',\n 'PANC0203_PANCREAS',\n 'PANC0327_PANCREAS',\n 'PANC0403_PANCREAS',\n 'PANC0504_PANCREAS',\n 'PANC0813_PANCREAS',\n 'PANC1_PANCREAS',\n 'PATU8902_PANCREAS',\n 'PATU8988S_PANCREAS',\n 'PC14_LUNG',\n 'PC3_PROSTATE',\n 'PECAPJ34CLONEC12_UPPER_AERODIGESTIVE_TRACT',\n 'PECAPJ41CLONED2_UPPER_AERODIGESTIVE_TRACT',\n 'PECAPJ49_UPPER_AERODIGESTIVE_TRACT',\n 'PEER_HAEMATOPOIETIC_AND_LYMPHOID_TISSUE',\n 'PFEIFFER_HAEMATOPOIETIC_AND_LYMPHOID_TISSUE',\n 'PK1_PANCREAS',\n 'PK45H_PANCREAS',\n 'PK59_PANCREAS',\n 'PL21_HAEMATOPOIETIC_AND_LYMPHOID_TISSUE',\n 'PLCPRF5_LIVER',\n 'PSN1_PANCREAS',\n 'QGP1_PANCREAS',\n 'RAJI_HAEMATOPOIETIC_AND_LYMPHOID_TISSUE',\n 'RCC10RGB_KIDNEY',\n 'RCHACV_HAEMATOPOIETIC_AND_LYMPHOID_TISSUE',\n 'RCM1_LARGE_INTESTINE',\n 'RD_SOFT_TISSUE',\n 'REH_HAEMATOPOIETIC_AND_LYMPHOID_TISSUE',\n 'RERFLCAD1_LUNG',\n 'RERFLCAD2_LUNG',\n 'RERFLCAI_LUNG',\n 'RERFLCKJ_LUNG',\n 'RERFLCMS_LUNG',\n 'RI1_HAEMATOPOIETIC_AND_LYMPHOID_TISSUE',\n 'RKN_SOFT_TISSUE',\n 'RKO_LARGE_INTESTINE',\n 'RL_HAEMATOPOIETIC_AND_LYMPHOID_TISSUE',\n 'RMUGS_OVARY',\n 'RPMI7951_SKIN',\n 'RPMI8226_HAEMATOPOIETIC_AND_LYMPHOID_TISSUE',\n 'RPMI8402_HAEMATOPOIETIC_AND_LYMPHOID_TISSUE',\n 'RS411_HAEMATOPOIETIC_AND_LYMPHOID_TISSUE',\n 'RT112_URINARY_TRACT',\n 'RT4_URINARY_TRACT',\n 'RVH421_SKIN',\n 'S117_SOFT_TISSUE',\n 'S117_THYROID',\n 'SAOS2_BONE',\n 'SBC5_LUNG',\n 'SCABER_URINARY_TRACT',\n 'SCC15_UPPER_AERODIGESTIVE_TRACT',\n 'SEM_HAEMATOPOIETIC_AND_LYMPHOID_TISSUE',\n 'SET2_HAEMATOPOIETIC_AND_LYMPHOID_TISSUE',\n 'SF126_CENTRAL_NERVOUS_SYSTEM',\n 'SF268_CENTRAL_NERVOUS_SYSTEM',\n 'SF295_CENTRAL_NERVOUS_SYSTEM',\n 'SF539_CENTRAL_NERVOUS_SYSTEM',\n 'SH10TC_STOMACH',\n 'SH4_SKIN',\n 'SHP77_LUNG',\n 'SHSY5Y_AUTONOMIC_GANGLIA',\n 'SJSA1_BONE',\n 'SKBR3_BREAST',\n 'SKCO1_LARGE_INTESTINE',\n 'SKHEP1_LIVER',\n 'SKLU1_LUNG',\n 'SKM1_HAEMATOPOIETIC_AND_LYMPHOID_TISSUE',\n 'SKMEL24_SKIN',\n 'SKMEL2_SKIN',\n 'SKMEL30_SKIN',\n 'SKMEL3_SKIN',\n 'SKMM2_HAEMATOPOIETIC_AND_LYMPHOID_TISSUE',\n 'SKNAS_AUTONOMIC_GANGLIA',\n 'SKNBE2_AUTONOMIC_GANGLIA',\n 'SKNDZ_AUTONOMIC_GANGLIA',\n 'SKNFI_AUTONOMIC_GANGLIA',\n 'SKNMC_BONE',\n 'SKNSH_AUTONOMIC_GANGLIA',\n 'SKOV3_OVARY',\n 'SKUT1_SOFT_TISSUE',\n 'SNB75_CENTRAL_NERVOUS_SYSTEM',\n 'SNGM_ENDOMETRIUM',\n 'SNU1033_LARGE_INTESTINE',\n 'SNU1040_LARGE_INTESTINE',\n 'SNU1041_UPPER_AERODIGESTIVE_TRACT',\n 'SNU1066_UPPER_AERODIGESTIVE_TRACT',\n 'SNU1077_ENDOMETRIUM',\n 'SNU1079_BILIARY_TRACT',\n 'SNU1196_BILIARY_TRACT',\n 'SNU1272_KIDNEY',\n 'SNU16_STOMACH',\n 'SNU175_LARGE_INTESTINE',\n 'SNU182_LIVER',\n 'SNU1_STOMACH',\n 'SNU213_PANCREAS',\n 'SNU216_STOMACH',\n 'SNU245_BILIARY_TRACT',\n 'SNU283_LARGE_INTESTINE',\n 'SNU324_PANCREAS',\n 'SNU349_KIDNEY',\n 'SNU387_LIVER',\n 'SNU398_LIVER',\n 'SNU407_LARGE_INTESTINE',\n 'SNU410_PANCREAS',\n 'SNU423_LIVER',\n 'SNU449_LIVER',\n 'SNU466_CENTRAL_NERVOUS_SYSTEM',\n 'SNU46_UPPER_AERODIGESTIVE_TRACT',\n 'SNU475_LIVER',\n 'SNU478_BILIARY_TRACT',\n 'SNU489_CENTRAL_NERVOUS_SYSTEM',\n 'SNU503_LARGE_INTESTINE',\n 'SNU5_STOMACH',\n 'SNU601_STOMACH',\n 'SNU620_STOMACH',\n 'SNU626_CENTRAL_NERVOUS_SYSTEM',\n 'SNU668_STOMACH',\n 'SNU719_STOMACH',\n 'SNU738_CENTRAL_NERVOUS_SYSTEM',\n 'SNU761_LIVER',\n 'SNU840_OVARY',\n 'SNU869_BILIARY_TRACT',\n 'SNU878_LIVER',\n 'SNU886_LIVER',\n 'SNU8_OVARY',\n 'SNUC1_LARGE_INTESTINE',\n 'SNUC5_LARGE_INTESTINE',\n 'SQ1_LUNG',\n 'SR786_HAEMATOPOIETIC_AND_LYMPHOID_TISSUE',\n 'ST486_HAEMATOPOIETIC_AND_LYMPHOID_TISSUE',\n 'SU8686_PANCREAS',\n 'SUDHL10_HAEMATOPOIETIC_AND_LYMPHOID_TISSUE',\n 'SUDHL1_HAEMATOPOIETIC_AND_LYMPHOID_TISSUE',\n 'SUDHL4_HAEMATOPOIETIC_AND_LYMPHOID_TISSUE',\n 'SUDHL6_HAEMATOPOIETIC_AND_LYMPHOID_TISSUE',\n 'SUIT2_PANCREAS',\n 'SUPM2_HAEMATOPOIETIC_AND_LYMPHOID_TISSUE',\n 'SUPT11_HAEMATOPOIETIC_AND_LYMPHOID_TISSUE',\n 'SW1088_CENTRAL_NERVOUS_SYSTEM',\n 'SW1116_LARGE_INTESTINE',\n 'SW1353_BONE',\n 'SW1417_LARGE_INTESTINE',\n 'SW1463_LARGE_INTESTINE',\n 'SW1573_LUNG',\n 'SW1710_URINARY_TRACT',\n 'SW403_LARGE_INTESTINE',\n 'SW480_LARGE_INTESTINE',\n 'SW48_LARGE_INTESTINE',\n 'SW579_THYROID',\n 'SW620_LARGE_INTESTINE',\n 'SW780_URINARY_TRACT',\n 'SW837_LARGE_INTESTINE',\n 'SW948_LARGE_INTESTINE',\n 'T173_BONE',\n 'T173_FIBROBLAST',\n 'T24_URINARY_TRACT',\n 'T3M4_PANCREAS',\n 'T47D_BREAST',\n 'T84_LARGE_INTESTINE',\n 'T98G_CENTRAL_NERVOUS_SYSTEM',\n 'TALL1_HAEMATOPOIETIC_AND_LYMPHOID_TISSUE',\n 'TC71_BONE',\n 'TCCPAN2_PANCREAS',\n 'TCCSUP_URINARY_TRACT',\n 'TE125T_FIBROBLAST',\n 'TE15_OESOPHAGUS',\n 'TE1_OESOPHAGUS',\n 'TE441T_SOFT_TISSUE',\n 'TE4_OESOPHAGUS',\n 'TE8_OESOPHAGUS',\n 'TE9_OESOPHAGUS',\n 'TEN_ENDOMETRIUM',\n 'TF1_HAEMATOPOIETIC_AND_LYMPHOID_TISSUE',\n 'TGBC11TKB_STOMACH',\n 'THP1_HAEMATOPOIETIC_AND_LYMPHOID_TISSUE',\n 'TK10_KIDNEY',\n 'TM31_CENTRAL_NERVOUS_SYSTEM',\n 'TOLEDO_HAEMATOPOIETIC_AND_LYMPHOID_TISSUE',\n 'TOV112D_OVARY',\n 'TOV21G_OVARY',\n 'TT_OESOPHAGUS',\n 'TUHR10TKB_KIDNEY',\n 'TUHR14TKB_KIDNEY',\n 'TUHR4TKB_KIDNEY',\n 'TYKNU_OVARY',\n 'U118MG_CENTRAL_NERVOUS_SYSTEM',\n 'U266B1_HAEMATOPOIETIC_AND_LYMPHOID_TISSUE',\n 'U87MG_CENTRAL_NERVOUS_SYSTEM',\n 'U937_HAEMATOPOIETIC_AND_LYMPHOID_TISSUE',\n 'UACC257_SKIN',\n 'UACC62_SKIN',\n 'UACC812_BREAST',\n 'UBLC1_URINARY_TRACT',\n 'UMUC1_URINARY_TRACT',\n 'UMUC3_URINARY_TRACT',\n 'UO31_KIDNEY',\n 'VMCUB1_URINARY_TRACT',\n 'VMRCRCW_KIDNEY',\n 'VMRCRCZ_KIDNEY',\n 'WM115_SKIN',\n 'WM1799_SKIN',\n 'WM2664_SKIN',\n 'WM793_SKIN',\n 'WM983B_SKIN',\n 'WSUDLCL2_HAEMATOPOIETIC_AND_LYMPHOID_TISSUE',\n 'YAPC_PANCREAS',\n 'YD10B_UPPER_AERODIGESTIVE_TRACT',\n 'YD15_SALIVARY_GLAND',\n 'YH13_CENTRAL_NERVOUS_SYSTEM',\n 'YKG1_CENTRAL_NERVOUS_SYSTEM',\n 'ZR751_BREAST',\n 'ZR7530_BREAST']"
     },
     "execution_count": 160,
     "metadata": {},
     "output_type": "execute_result"
    }
   ],
   "source": [
    "# merge only CCLE data\n",
    "for index, row in df2.iterrows():\n",
    "    matching_row = df[df['DepMap ID'] == row['Parental cell line ID']]\n",
    "    if not matching_row.empty:\n",
    "        df.loc[matching_row.index, 'Doubling Time (hrs)'] = row['CCLE Doubling Time (hrs)']\n",
    "\n",
    "df_cleaned = df.dropna(subset=['Doubling Time (hrs)']) # Clean 'NA' labels\n",
    "patient_IDs = df_cleaned[\"Patient ID\"].tolist() # who was left after cleaning NA\n",
    "patient_IDs"
   ]
  },
  {
   "cell_type": "code",
   "execution_count": 161,
   "metadata": {
    "ExecuteTime": {
     "end_time": "2024-05-11T09:43:59.780481800Z",
     "start_time": "2024-05-11T09:43:52.107830700Z"
    }
   },
   "outputs": [
    {
     "data": {
      "text/plain": "      Hugo_Symbol  22RV1_PROSTATE  2313287_STOMACH  253JBV_URINARY_TRACT  \\\n0         DDX11L1         0.00000          0.03755               0.00000   \n1          WASH7P        12.63011         10.14155               6.20657   \n2      MIR1302-11         0.04289          0.01037               0.16955   \n3         FAM138A         0.00000          0.00869               0.22423   \n4          OR4G4P         0.00000          0.00000               0.02886   \n...           ...             ...              ...                   ...   \n56313      MT-ND5      2393.80298       1960.96802            1896.28870   \n56314      MT-ND6      1825.52332       2056.64697            2184.88647   \n56315       MT-TE         0.25386          0.00000               0.26410   \n56316      MT-CYB      4923.78223       3827.00537            1905.18481   \n56317       MT-TT         0.00000          0.00000               0.00000   \n\n       253J_URINARY_TRACT  42MGBA_CENTRAL_NERVOUS_SYSTEM  5637_URINARY_TRACT  \\\n0                 0.06507                        0.00000             0.01378   \n1                 6.55835                        7.61752             6.19356   \n2                 0.23364                        0.08765             0.00000   \n3                 0.16558                        0.00000             0.00637   \n4                 0.03875                        0.00000             0.00000   \n...                   ...                            ...                 ...   \n56313          3522.37695                     1178.93579          1345.42151   \n56314          4568.00195                     1616.96484          1189.86279   \n56315             0.00000                        0.12970             0.00000   \n56316          4590.01416                     2343.92407          1902.01685   \n56317             0.00000                        0.00000             0.00000   \n\n        59M_OVARY  639V_URINARY_TRACT  647V_URINARY_TRACT  ...  \\\n0         0.01463             0.03085             0.00000  ...   \n1         4.62277             6.00767             4.70699  ...   \n2         0.00808             0.09373             0.02568  ...   \n3         0.00000             0.01427             0.00000  ...   \n4         0.00000             0.00000             0.00000  ...   \n...           ...                 ...                 ...  ...   \n56313  1943.89148          1413.57471           956.31226  ...   \n56314  1906.90405          1469.75574          1151.82861  ...   \n56315     0.00000             0.25217             0.00000  ...   \n56316  2026.15710          1603.98230          2752.73779  ...   \n56317     0.00000             0.00000             0.00000  ...   \n\n       UMUC16_URINARY_TRACT  UMUC4_URINARY_TRACT  UMUC5_URINARY_TRACT  \\\n0                   0.00000              0.02977              0.02999   \n1                   6.42321              8.17443              7.75149   \n2                   0.12367              0.19183              0.10492   \n3                   0.01554              0.00459              0.01850   \n4                   0.00667              0.01182              0.01786   \n...                     ...                  ...                  ...   \n56313            1994.84985            704.86267           3936.23853   \n56314            1260.28455            398.13406           2419.38281   \n56315               1.28093              0.40550              1.22567   \n56316            1585.35229           2027.31738           8521.06738   \n56317               0.28696              0.25436              0.00000   \n\n       UMUC6_URINARY_TRACT  UMUC7_URINARY_TRACT  UMUC9_URINARY_TRACT  \\\n0                  0.03532              0.03831              0.03236   \n1                  9.97036              8.17080              8.70551   \n2                  0.18537              0.07408              0.07747   \n3                  0.04903              0.01330              0.00000   \n4                  0.01052              0.01141              0.00642   \n...                    ...                  ...                  ...   \n56313           3560.20459           1245.38379           1452.41895   \n56314           1791.45386            823.17352            996.53717   \n56315              1.58799              1.40931              0.08817   \n56316          10211.49121           1641.64551           3437.12769   \n56317              0.30185              0.16371              0.00000   \n\n       UPCISCC152_UPPER_AERODIGESTIVE_TRACT  UW228_CENTRAL_NERVOUS_SYSTEM  \\\n0                                   0.00000                       0.03799   \n1                                  15.23348                       6.47732   \n2                                   0.07448                       0.01049   \n3                                   0.02674                       0.00879   \n4                                   0.00000                       0.00000   \n...                                     ...                           ...   \n56313                             793.58710                     757.41357   \n56314                             593.61139                     472.01627   \n56315                               0.31489                       0.15526   \n56316                            1645.22168                     973.56439   \n56317                               0.00000                       0.16232   \n\n       Y79_AUTONOMIC_GANGLIA  YAMATO_SOFT_TISSUE  \n0                    0.02907             0.00000  \n1                    8.45568            11.81688  \n2                    0.39607             0.17586  \n3                    0.26449             0.02266  \n4                    0.00000             0.01459  \n...                      ...                 ...  \n56313             1218.16992          1320.84558  \n56314              729.65912           564.16779  \n56315                0.55439             0.00000  \n56316             1221.39954          1755.82764  \n56317                0.08280             0.20928  \n\n[56318 rows x 1157 columns]",
      "text/html": "<div>\n<style scoped>\n    .dataframe tbody tr th:only-of-type {\n        vertical-align: middle;\n    }\n\n    .dataframe tbody tr th {\n        vertical-align: top;\n    }\n\n    .dataframe thead th {\n        text-align: right;\n    }\n</style>\n<table border=\"1\" class=\"dataframe\">\n  <thead>\n    <tr style=\"text-align: right;\">\n      <th></th>\n      <th>Hugo_Symbol</th>\n      <th>22RV1_PROSTATE</th>\n      <th>2313287_STOMACH</th>\n      <th>253JBV_URINARY_TRACT</th>\n      <th>253J_URINARY_TRACT</th>\n      <th>42MGBA_CENTRAL_NERVOUS_SYSTEM</th>\n      <th>5637_URINARY_TRACT</th>\n      <th>59M_OVARY</th>\n      <th>639V_URINARY_TRACT</th>\n      <th>647V_URINARY_TRACT</th>\n      <th>...</th>\n      <th>UMUC16_URINARY_TRACT</th>\n      <th>UMUC4_URINARY_TRACT</th>\n      <th>UMUC5_URINARY_TRACT</th>\n      <th>UMUC6_URINARY_TRACT</th>\n      <th>UMUC7_URINARY_TRACT</th>\n      <th>UMUC9_URINARY_TRACT</th>\n      <th>UPCISCC152_UPPER_AERODIGESTIVE_TRACT</th>\n      <th>UW228_CENTRAL_NERVOUS_SYSTEM</th>\n      <th>Y79_AUTONOMIC_GANGLIA</th>\n      <th>YAMATO_SOFT_TISSUE</th>\n    </tr>\n  </thead>\n  <tbody>\n    <tr>\n      <th>0</th>\n      <td>DDX11L1</td>\n      <td>0.00000</td>\n      <td>0.03755</td>\n      <td>0.00000</td>\n      <td>0.06507</td>\n      <td>0.00000</td>\n      <td>0.01378</td>\n      <td>0.01463</td>\n      <td>0.03085</td>\n      <td>0.00000</td>\n      <td>...</td>\n      <td>0.00000</td>\n      <td>0.02977</td>\n      <td>0.02999</td>\n      <td>0.03532</td>\n      <td>0.03831</td>\n      <td>0.03236</td>\n      <td>0.00000</td>\n      <td>0.03799</td>\n      <td>0.02907</td>\n      <td>0.00000</td>\n    </tr>\n    <tr>\n      <th>1</th>\n      <td>WASH7P</td>\n      <td>12.63011</td>\n      <td>10.14155</td>\n      <td>6.20657</td>\n      <td>6.55835</td>\n      <td>7.61752</td>\n      <td>6.19356</td>\n      <td>4.62277</td>\n      <td>6.00767</td>\n      <td>4.70699</td>\n      <td>...</td>\n      <td>6.42321</td>\n      <td>8.17443</td>\n      <td>7.75149</td>\n      <td>9.97036</td>\n      <td>8.17080</td>\n      <td>8.70551</td>\n      <td>15.23348</td>\n      <td>6.47732</td>\n      <td>8.45568</td>\n      <td>11.81688</td>\n    </tr>\n    <tr>\n      <th>2</th>\n      <td>MIR1302-11</td>\n      <td>0.04289</td>\n      <td>0.01037</td>\n      <td>0.16955</td>\n      <td>0.23364</td>\n      <td>0.08765</td>\n      <td>0.00000</td>\n      <td>0.00808</td>\n      <td>0.09373</td>\n      <td>0.02568</td>\n      <td>...</td>\n      <td>0.12367</td>\n      <td>0.19183</td>\n      <td>0.10492</td>\n      <td>0.18537</td>\n      <td>0.07408</td>\n      <td>0.07747</td>\n      <td>0.07448</td>\n      <td>0.01049</td>\n      <td>0.39607</td>\n      <td>0.17586</td>\n    </tr>\n    <tr>\n      <th>3</th>\n      <td>FAM138A</td>\n      <td>0.00000</td>\n      <td>0.00869</td>\n      <td>0.22423</td>\n      <td>0.16558</td>\n      <td>0.00000</td>\n      <td>0.00637</td>\n      <td>0.00000</td>\n      <td>0.01427</td>\n      <td>0.00000</td>\n      <td>...</td>\n      <td>0.01554</td>\n      <td>0.00459</td>\n      <td>0.01850</td>\n      <td>0.04903</td>\n      <td>0.01330</td>\n      <td>0.00000</td>\n      <td>0.02674</td>\n      <td>0.00879</td>\n      <td>0.26449</td>\n      <td>0.02266</td>\n    </tr>\n    <tr>\n      <th>4</th>\n      <td>OR4G4P</td>\n      <td>0.00000</td>\n      <td>0.00000</td>\n      <td>0.02886</td>\n      <td>0.03875</td>\n      <td>0.00000</td>\n      <td>0.00000</td>\n      <td>0.00000</td>\n      <td>0.00000</td>\n      <td>0.00000</td>\n      <td>...</td>\n      <td>0.00667</td>\n      <td>0.01182</td>\n      <td>0.01786</td>\n      <td>0.01052</td>\n      <td>0.01141</td>\n      <td>0.00642</td>\n      <td>0.00000</td>\n      <td>0.00000</td>\n      <td>0.00000</td>\n      <td>0.01459</td>\n    </tr>\n    <tr>\n      <th>...</th>\n      <td>...</td>\n      <td>...</td>\n      <td>...</td>\n      <td>...</td>\n      <td>...</td>\n      <td>...</td>\n      <td>...</td>\n      <td>...</td>\n      <td>...</td>\n      <td>...</td>\n      <td>...</td>\n      <td>...</td>\n      <td>...</td>\n      <td>...</td>\n      <td>...</td>\n      <td>...</td>\n      <td>...</td>\n      <td>...</td>\n      <td>...</td>\n      <td>...</td>\n      <td>...</td>\n    </tr>\n    <tr>\n      <th>56313</th>\n      <td>MT-ND5</td>\n      <td>2393.80298</td>\n      <td>1960.96802</td>\n      <td>1896.28870</td>\n      <td>3522.37695</td>\n      <td>1178.93579</td>\n      <td>1345.42151</td>\n      <td>1943.89148</td>\n      <td>1413.57471</td>\n      <td>956.31226</td>\n      <td>...</td>\n      <td>1994.84985</td>\n      <td>704.86267</td>\n      <td>3936.23853</td>\n      <td>3560.20459</td>\n      <td>1245.38379</td>\n      <td>1452.41895</td>\n      <td>793.58710</td>\n      <td>757.41357</td>\n      <td>1218.16992</td>\n      <td>1320.84558</td>\n    </tr>\n    <tr>\n      <th>56314</th>\n      <td>MT-ND6</td>\n      <td>1825.52332</td>\n      <td>2056.64697</td>\n      <td>2184.88647</td>\n      <td>4568.00195</td>\n      <td>1616.96484</td>\n      <td>1189.86279</td>\n      <td>1906.90405</td>\n      <td>1469.75574</td>\n      <td>1151.82861</td>\n      <td>...</td>\n      <td>1260.28455</td>\n      <td>398.13406</td>\n      <td>2419.38281</td>\n      <td>1791.45386</td>\n      <td>823.17352</td>\n      <td>996.53717</td>\n      <td>593.61139</td>\n      <td>472.01627</td>\n      <td>729.65912</td>\n      <td>564.16779</td>\n    </tr>\n    <tr>\n      <th>56315</th>\n      <td>MT-TE</td>\n      <td>0.25386</td>\n      <td>0.00000</td>\n      <td>0.26410</td>\n      <td>0.00000</td>\n      <td>0.12970</td>\n      <td>0.00000</td>\n      <td>0.00000</td>\n      <td>0.25217</td>\n      <td>0.00000</td>\n      <td>...</td>\n      <td>1.28093</td>\n      <td>0.40550</td>\n      <td>1.22567</td>\n      <td>1.58799</td>\n      <td>1.40931</td>\n      <td>0.08817</td>\n      <td>0.31489</td>\n      <td>0.15526</td>\n      <td>0.55439</td>\n      <td>0.00000</td>\n    </tr>\n    <tr>\n      <th>56316</th>\n      <td>MT-CYB</td>\n      <td>4923.78223</td>\n      <td>3827.00537</td>\n      <td>1905.18481</td>\n      <td>4590.01416</td>\n      <td>2343.92407</td>\n      <td>1902.01685</td>\n      <td>2026.15710</td>\n      <td>1603.98230</td>\n      <td>2752.73779</td>\n      <td>...</td>\n      <td>1585.35229</td>\n      <td>2027.31738</td>\n      <td>8521.06738</td>\n      <td>10211.49121</td>\n      <td>1641.64551</td>\n      <td>3437.12769</td>\n      <td>1645.22168</td>\n      <td>973.56439</td>\n      <td>1221.39954</td>\n      <td>1755.82764</td>\n    </tr>\n    <tr>\n      <th>56317</th>\n      <td>MT-TT</td>\n      <td>0.00000</td>\n      <td>0.00000</td>\n      <td>0.00000</td>\n      <td>0.00000</td>\n      <td>0.00000</td>\n      <td>0.00000</td>\n      <td>0.00000</td>\n      <td>0.00000</td>\n      <td>0.00000</td>\n      <td>...</td>\n      <td>0.28696</td>\n      <td>0.25436</td>\n      <td>0.00000</td>\n      <td>0.30185</td>\n      <td>0.16371</td>\n      <td>0.00000</td>\n      <td>0.00000</td>\n      <td>0.16232</td>\n      <td>0.08280</td>\n      <td>0.20928</td>\n    </tr>\n  </tbody>\n</table>\n<p>56318 rows × 1157 columns</p>\n</div>"
     },
     "execution_count": 161,
     "metadata": {},
     "output_type": "execute_result"
    }
   ],
   "source": [
    "# Load RNA expression data (use Reads Per Kilobase data)\n",
    "expression_df = pd.read_csv('./DATA/ccle_broad_2019/data_mrna_seq_rpkm.txt',  sep='\\t')\n",
    "expression_df"
   ]
  },
  {
   "cell_type": "code",
   "execution_count": 162,
   "metadata": {
    "ExecuteTime": {
     "end_time": "2024-05-11T09:43:59.913970300Z",
     "start_time": "2024-05-11T09:43:59.783143900Z"
    }
   },
   "outputs": [
    {
     "name": "stdout",
     "output_type": "stream",
     "text": [
      "  Hugo_Symbol  22RV1_PROSTATE  2313287_STOMACH  42MGBA_CENTRAL_NERVOUS_SYSTEM  \\\n",
      "0     DDX11L1         0.00000          0.03755                        0.00000   \n",
      "1      WASH7P        12.63011         10.14155                        7.61752   \n",
      "2  MIR1302-11         0.04289          0.01037                        0.08765   \n",
      "3     FAM138A         0.00000          0.00869                        0.00000   \n",
      "4      OR4G4P         0.00000          0.00000                        0.00000   \n",
      "\n",
      "   5637_URINARY_TRACT  59M_OVARY  639V_URINARY_TRACT  647V_URINARY_TRACT  \\\n",
      "0             0.01378    0.01463             0.03085             0.00000   \n",
      "1             6.19356    4.62277             6.00767             4.70699   \n",
      "2             0.00000    0.00808             0.09373             0.02568   \n",
      "3             0.00637    0.00000             0.01427             0.00000   \n",
      "4             0.00000    0.00000             0.00000             0.00000   \n",
      "\n",
      "   697_HAEMATOPOIETIC_AND_LYMPHOID_TISSUE  769P_KIDNEY  ...  WM793_SKIN  \\\n",
      "0                                 0.04487      0.09487  ...     0.00000   \n",
      "1                                 5.88294      5.70803  ...     5.71705   \n",
      "2                                 0.00826      0.18341  ...     0.06904   \n",
      "3                                 0.00000      0.19751  ...     0.00000   \n",
      "4                                 0.00000      0.01883  ...     0.00000   \n",
      "\n",
      "   WM983B_SKIN  WSUDLCL2_HAEMATOPOIETIC_AND_LYMPHOID_TISSUE  YAPC_PANCREAS  \\\n",
      "0      0.14014                                      0.00000        0.00000   \n",
      "1      9.39188                                     13.61096        4.57684   \n",
      "2      0.02580                                      0.54349        0.07086   \n",
      "3      0.08645                                      0.00000        0.00000   \n",
      "4      0.02782                                      0.00000        0.00000   \n",
      "\n",
      "   YD10B_UPPER_AERODIGESTIVE_TRACT  YD15_SALIVARY_GLAND  \\\n",
      "0                          0.00000              0.07603   \n",
      "1                          9.38655              6.16807   \n",
      "2                          0.19758              0.00000   \n",
      "3                          0.00000              0.00000   \n",
      "4                          0.00000              0.00000   \n",
      "\n",
      "   YH13_CENTRAL_NERVOUS_SYSTEM  YKG1_CENTRAL_NERVOUS_SYSTEM  ZR751_BREAST  \\\n",
      "0                      0.00000                      0.08533       0.26518   \n",
      "1                      6.15860                      7.83898      14.24817   \n",
      "2                      0.00000                      0.14140       0.01831   \n",
      "3                      0.01719                      0.17371       0.00000   \n",
      "4                      0.00000                      0.00000       0.00000   \n",
      "\n",
      "   ZR7530_BREAST  \n",
      "0        0.01725  \n",
      "1        7.94108  \n",
      "2        0.00000  \n",
      "3        0.00000  \n",
      "4        0.00000  \n",
      "\n",
      "[5 rows x 714 columns]\n"
     ]
    }
   ],
   "source": [
    "# Remove patients with NA Doubling Time\n",
    "selected_columns = ['Hugo_Symbol'] + [col for col in patient_IDs if col in expression_df.columns]\n",
    "expression_df = expression_df[selected_columns]\n",
    "print(expression_df.head())"
   ]
  },
  {
   "cell_type": "code",
   "execution_count": 163,
   "metadata": {
    "ExecuteTime": {
     "end_time": "2024-05-11T09:44:00.436066400Z",
     "start_time": "2024-05-11T09:43:59.897462700Z"
    }
   },
   "outputs": [
    {
     "data": {
      "text/plain": "             Study ID                     Patient ID  \\\n4     ccle_broad_2019                 22RV1_PROSTATE   \n5     ccle_broad_2019                2313287_STOMACH   \n8     ccle_broad_2019  42MGBA_CENTRAL_NERVOUS_SYSTEM   \n10    ccle_broad_2019             5637_URINARY_TRACT   \n11    ccle_broad_2019                      59M_OVARY   \n...               ...                            ...   \n1728  ccle_broad_2019            YD15_SALIVARY_GLAND   \n1731  ccle_broad_2019    YH13_CENTRAL_NERVOUS_SYSTEM   \n1732  ccle_broad_2019    YKG1_CENTRAL_NERVOUS_SYSTEM   \n1737  ccle_broad_2019                   ZR751_BREAST   \n1738  ccle_broad_2019                  ZR7530_BREAST   \n\n                          Sample ID   Age Annotation Source  \\\n4                    22RV1_PROSTATE   NaN              CCLE   \n5                   2313287_STOMACH  72.0              CCLE   \n8     42MGBA_CENTRAL_NERVOUS_SYSTEM  63.0              CCLE   \n10               5637_URINARY_TRACT  68.0              CCLE   \n11                        59M_OVARY   NaN              CCLE   \n...                             ...   ...               ...   \n1728            YD15_SALIVARY_GLAND  39.0              CCLE   \n1731    YH13_CENTRAL_NERVOUS_SYSTEM  40.0              CCLE   \n1732    YKG1_CENTRAL_NERVOUS_SYSTEM   NaN              CCLE   \n1737                   ZR751_BREAST  63.0              CCLE   \n1738                  ZR7530_BREAST  47.0              CCLE   \n\n                 Cancer Type              Cancer Type Detailed  \\\n4            Prostate Cancer           Prostate Adenocarcinoma   \n5     Esophagogastric Cancer            Stomach Adenocarcinoma   \n8                     Glioma                       Astrocytoma   \n10            Bladder Cancer      Bladder Urothelial Carcinoma   \n11            Ovarian Cancer  High-Grade Serous Ovarian Cancer   \n...                      ...                               ...   \n1728   Salivary Gland Cancer          Mucoepidermoid Carcinoma   \n1731                  Glioma           Glioblastoma Multiforme   \n1732                  Glioma           Glioblastoma Multiforme   \n1737           Breast Cancer         Invasive Breast Carcinoma   \n1738           Breast Cancer         Invasive Breast Carcinoma   \n\n     Cell Line Source                                    Characteristics  \\\n4                ATCC                                Adherent epithelial   \n5                DSMZ  aderent epithelial cells growing as confluent ...   \n8                DSMZ                                           Adherent   \n10                NaN                                           adherent   \n11              ECACC                                                NaN   \n...               ...                                                ...   \n1728             KCLB                              epithelial; monolayer   \n1731            HSSRB                                           Adherent   \n1732              GNF                                                NaN   \n1737             ATCC                                adherent epithelial   \n1738              GNF                                                NaN   \n\n       DepMap ID  ...     Sex  Site of Finding Site Subtype 1 Site Subtype 2  \\\n4     ACH-000956  ...    Male              NaN             NS             NS   \n5     ACH-000948  ...    Male              NaN             NS             NS   \n8     ACH-000323  ...    Male              NaN          brain             NS   \n10    ACH-000905  ...    Male              NaN        bladder             NS   \n11    ACH-000520  ...  Female          ascites             NS             NS   \n...          ...  ...     ...              ...            ...            ...   \n1728  ACH-000836  ...    Male              NaN         tongue             NS   \n1731  ACH-000469  ...    Male              NaN          brain             NS   \n1732  ACH-000570  ...  Female              NaN  temporal_lobe             NS   \n1737  ACH-000097  ...  Female          ascites             NS             NS   \n1738  ACH-000828  ...  Female          ascites             NS             NS   \n\n      Site Subtype 3                            Subtype  \\\n4                 NS                     Adenocarcinoma   \n5                 NS                     Adenocarcinoma   \n8                 NS                        Astrocytoma   \n10                NS                                NaN   \n11                NS  Adenocarcinoma, high grade serous   \n...              ...                                ...   \n1728              NS    Squamous Cell Carcinoma, tongue   \n1731              NS                       Glioblastoma   \n1732              NS                       Glioblastoma   \n1737              NS            Breast Ductal Carcinoma   \n1738              NS            Breast Ductal Carcinoma   \n\n                     Supplements TMB (nonsynonymous)     Tumor Type  \\\n4                            NaN           73.700000       prostate   \n5                            NaN           76.266667        stomach   \n8                            NaN            7.033333         glioma   \n10                           NaN           15.366667  urinary_tract   \n11                           NaN            7.500000          ovary   \n...                          ...                 ...            ...   \n1728  25mM Hepes and 25mM NaHCo3            5.933333          other   \n1731                         NaN            8.066667         glioma   \n1732                         NaN           12.066667         glioma   \n1737                         NaN            8.500000         breast   \n1738                         NaN           12.966667         breast   \n\n             Type Refined  \n4                prostate  \n5                 stomach  \n8                  glioma  \n10          urinary_tract  \n11                  ovary  \n...                   ...  \n1728  upper_aerodigestive  \n1731               glioma  \n1732               glioma  \n1737               breast  \n1738               breast  \n\n[729 rows x 51 columns]",
      "text/html": "<div>\n<style scoped>\n    .dataframe tbody tr th:only-of-type {\n        vertical-align: middle;\n    }\n\n    .dataframe tbody tr th {\n        vertical-align: top;\n    }\n\n    .dataframe thead th {\n        text-align: right;\n    }\n</style>\n<table border=\"1\" class=\"dataframe\">\n  <thead>\n    <tr style=\"text-align: right;\">\n      <th></th>\n      <th>Study ID</th>\n      <th>Patient ID</th>\n      <th>Sample ID</th>\n      <th>Age</th>\n      <th>Annotation Source</th>\n      <th>Cancer Type</th>\n      <th>Cancer Type Detailed</th>\n      <th>Cell Line Source</th>\n      <th>Characteristics</th>\n      <th>DepMap ID</th>\n      <th>...</th>\n      <th>Sex</th>\n      <th>Site of Finding</th>\n      <th>Site Subtype 1</th>\n      <th>Site Subtype 2</th>\n      <th>Site Subtype 3</th>\n      <th>Subtype</th>\n      <th>Supplements</th>\n      <th>TMB (nonsynonymous)</th>\n      <th>Tumor Type</th>\n      <th>Type Refined</th>\n    </tr>\n  </thead>\n  <tbody>\n    <tr>\n      <th>4</th>\n      <td>ccle_broad_2019</td>\n      <td>22RV1_PROSTATE</td>\n      <td>22RV1_PROSTATE</td>\n      <td>NaN</td>\n      <td>CCLE</td>\n      <td>Prostate Cancer</td>\n      <td>Prostate Adenocarcinoma</td>\n      <td>ATCC</td>\n      <td>Adherent epithelial</td>\n      <td>ACH-000956</td>\n      <td>...</td>\n      <td>Male</td>\n      <td>NaN</td>\n      <td>NS</td>\n      <td>NS</td>\n      <td>NS</td>\n      <td>Adenocarcinoma</td>\n      <td>NaN</td>\n      <td>73.700000</td>\n      <td>prostate</td>\n      <td>prostate</td>\n    </tr>\n    <tr>\n      <th>5</th>\n      <td>ccle_broad_2019</td>\n      <td>2313287_STOMACH</td>\n      <td>2313287_STOMACH</td>\n      <td>72.0</td>\n      <td>CCLE</td>\n      <td>Esophagogastric Cancer</td>\n      <td>Stomach Adenocarcinoma</td>\n      <td>DSMZ</td>\n      <td>aderent epithelial cells growing as confluent ...</td>\n      <td>ACH-000948</td>\n      <td>...</td>\n      <td>Male</td>\n      <td>NaN</td>\n      <td>NS</td>\n      <td>NS</td>\n      <td>NS</td>\n      <td>Adenocarcinoma</td>\n      <td>NaN</td>\n      <td>76.266667</td>\n      <td>stomach</td>\n      <td>stomach</td>\n    </tr>\n    <tr>\n      <th>8</th>\n      <td>ccle_broad_2019</td>\n      <td>42MGBA_CENTRAL_NERVOUS_SYSTEM</td>\n      <td>42MGBA_CENTRAL_NERVOUS_SYSTEM</td>\n      <td>63.0</td>\n      <td>CCLE</td>\n      <td>Glioma</td>\n      <td>Astrocytoma</td>\n      <td>DSMZ</td>\n      <td>Adherent</td>\n      <td>ACH-000323</td>\n      <td>...</td>\n      <td>Male</td>\n      <td>NaN</td>\n      <td>brain</td>\n      <td>NS</td>\n      <td>NS</td>\n      <td>Astrocytoma</td>\n      <td>NaN</td>\n      <td>7.033333</td>\n      <td>glioma</td>\n      <td>glioma</td>\n    </tr>\n    <tr>\n      <th>10</th>\n      <td>ccle_broad_2019</td>\n      <td>5637_URINARY_TRACT</td>\n      <td>5637_URINARY_TRACT</td>\n      <td>68.0</td>\n      <td>CCLE</td>\n      <td>Bladder Cancer</td>\n      <td>Bladder Urothelial Carcinoma</td>\n      <td>NaN</td>\n      <td>adherent</td>\n      <td>ACH-000905</td>\n      <td>...</td>\n      <td>Male</td>\n      <td>NaN</td>\n      <td>bladder</td>\n      <td>NS</td>\n      <td>NS</td>\n      <td>NaN</td>\n      <td>NaN</td>\n      <td>15.366667</td>\n      <td>urinary_tract</td>\n      <td>urinary_tract</td>\n    </tr>\n    <tr>\n      <th>11</th>\n      <td>ccle_broad_2019</td>\n      <td>59M_OVARY</td>\n      <td>59M_OVARY</td>\n      <td>NaN</td>\n      <td>CCLE</td>\n      <td>Ovarian Cancer</td>\n      <td>High-Grade Serous Ovarian Cancer</td>\n      <td>ECACC</td>\n      <td>NaN</td>\n      <td>ACH-000520</td>\n      <td>...</td>\n      <td>Female</td>\n      <td>ascites</td>\n      <td>NS</td>\n      <td>NS</td>\n      <td>NS</td>\n      <td>Adenocarcinoma, high grade serous</td>\n      <td>NaN</td>\n      <td>7.500000</td>\n      <td>ovary</td>\n      <td>ovary</td>\n    </tr>\n    <tr>\n      <th>...</th>\n      <td>...</td>\n      <td>...</td>\n      <td>...</td>\n      <td>...</td>\n      <td>...</td>\n      <td>...</td>\n      <td>...</td>\n      <td>...</td>\n      <td>...</td>\n      <td>...</td>\n      <td>...</td>\n      <td>...</td>\n      <td>...</td>\n      <td>...</td>\n      <td>...</td>\n      <td>...</td>\n      <td>...</td>\n      <td>...</td>\n      <td>...</td>\n      <td>...</td>\n      <td>...</td>\n    </tr>\n    <tr>\n      <th>1728</th>\n      <td>ccle_broad_2019</td>\n      <td>YD15_SALIVARY_GLAND</td>\n      <td>YD15_SALIVARY_GLAND</td>\n      <td>39.0</td>\n      <td>CCLE</td>\n      <td>Salivary Gland Cancer</td>\n      <td>Mucoepidermoid Carcinoma</td>\n      <td>KCLB</td>\n      <td>epithelial; monolayer</td>\n      <td>ACH-000836</td>\n      <td>...</td>\n      <td>Male</td>\n      <td>NaN</td>\n      <td>tongue</td>\n      <td>NS</td>\n      <td>NS</td>\n      <td>Squamous Cell Carcinoma, tongue</td>\n      <td>25mM Hepes and 25mM NaHCo3</td>\n      <td>5.933333</td>\n      <td>other</td>\n      <td>upper_aerodigestive</td>\n    </tr>\n    <tr>\n      <th>1731</th>\n      <td>ccle_broad_2019</td>\n      <td>YH13_CENTRAL_NERVOUS_SYSTEM</td>\n      <td>YH13_CENTRAL_NERVOUS_SYSTEM</td>\n      <td>40.0</td>\n      <td>CCLE</td>\n      <td>Glioma</td>\n      <td>Glioblastoma Multiforme</td>\n      <td>HSSRB</td>\n      <td>Adherent</td>\n      <td>ACH-000469</td>\n      <td>...</td>\n      <td>Male</td>\n      <td>NaN</td>\n      <td>brain</td>\n      <td>NS</td>\n      <td>NS</td>\n      <td>Glioblastoma</td>\n      <td>NaN</td>\n      <td>8.066667</td>\n      <td>glioma</td>\n      <td>glioma</td>\n    </tr>\n    <tr>\n      <th>1732</th>\n      <td>ccle_broad_2019</td>\n      <td>YKG1_CENTRAL_NERVOUS_SYSTEM</td>\n      <td>YKG1_CENTRAL_NERVOUS_SYSTEM</td>\n      <td>NaN</td>\n      <td>CCLE</td>\n      <td>Glioma</td>\n      <td>Glioblastoma Multiforme</td>\n      <td>GNF</td>\n      <td>NaN</td>\n      <td>ACH-000570</td>\n      <td>...</td>\n      <td>Female</td>\n      <td>NaN</td>\n      <td>temporal_lobe</td>\n      <td>NS</td>\n      <td>NS</td>\n      <td>Glioblastoma</td>\n      <td>NaN</td>\n      <td>12.066667</td>\n      <td>glioma</td>\n      <td>glioma</td>\n    </tr>\n    <tr>\n      <th>1737</th>\n      <td>ccle_broad_2019</td>\n      <td>ZR751_BREAST</td>\n      <td>ZR751_BREAST</td>\n      <td>63.0</td>\n      <td>CCLE</td>\n      <td>Breast Cancer</td>\n      <td>Invasive Breast Carcinoma</td>\n      <td>ATCC</td>\n      <td>adherent epithelial</td>\n      <td>ACH-000097</td>\n      <td>...</td>\n      <td>Female</td>\n      <td>ascites</td>\n      <td>NS</td>\n      <td>NS</td>\n      <td>NS</td>\n      <td>Breast Ductal Carcinoma</td>\n      <td>NaN</td>\n      <td>8.500000</td>\n      <td>breast</td>\n      <td>breast</td>\n    </tr>\n    <tr>\n      <th>1738</th>\n      <td>ccle_broad_2019</td>\n      <td>ZR7530_BREAST</td>\n      <td>ZR7530_BREAST</td>\n      <td>47.0</td>\n      <td>CCLE</td>\n      <td>Breast Cancer</td>\n      <td>Invasive Breast Carcinoma</td>\n      <td>GNF</td>\n      <td>NaN</td>\n      <td>ACH-000828</td>\n      <td>...</td>\n      <td>Female</td>\n      <td>ascites</td>\n      <td>NS</td>\n      <td>NS</td>\n      <td>NS</td>\n      <td>Breast Ductal Carcinoma</td>\n      <td>NaN</td>\n      <td>12.966667</td>\n      <td>breast</td>\n      <td>breast</td>\n    </tr>\n  </tbody>\n</table>\n<p>729 rows × 51 columns</p>\n</div>"
     },
     "execution_count": 163,
     "metadata": {},
     "output_type": "execute_result"
    }
   ],
   "source": [
    " # sort by patient ID\n",
    "expression_df_sorted = expression_df[expression_df.columns[0]].to_frame().join(expression_df[expression_df.columns[1:]].sort_index(axis=1))\n",
    "df_cleaned_sorted = df_cleaned.sort_values(by='Patient ID')\n",
    "df_cleaned_sorted"
   ]
  },
  {
   "cell_type": "code",
   "execution_count": 164,
   "metadata": {
    "ExecuteTime": {
     "end_time": "2024-05-11T09:44:00.457019300Z",
     "start_time": "2024-05-11T09:44:00.441956300Z"
    }
   },
   "outputs": [
    {
     "name": "stdout",
     "output_type": "stream",
     "text": [
      "Successfully loaded data.\n",
      "Number of rows:713\n",
      "Number of columns:50\n",
      "           Study ID                     Patient ID  \\\n",
      "4   ccle_broad_2019                 22RV1_PROSTATE   \n",
      "5   ccle_broad_2019                2313287_STOMACH   \n",
      "8   ccle_broad_2019  42MGBA_CENTRAL_NERVOUS_SYSTEM   \n",
      "10  ccle_broad_2019             5637_URINARY_TRACT   \n",
      "11  ccle_broad_2019                      59M_OVARY   \n",
      "\n",
      "                        Sample ID   Age Annotation Source  \\\n",
      "4                  22RV1_PROSTATE   NaN              CCLE   \n",
      "5                 2313287_STOMACH  72.0              CCLE   \n",
      "8   42MGBA_CENTRAL_NERVOUS_SYSTEM  63.0              CCLE   \n",
      "10             5637_URINARY_TRACT  68.0              CCLE   \n",
      "11                      59M_OVARY   NaN              CCLE   \n",
      "\n",
      "               Cancer Type              Cancer Type Detailed Cell Line Source  \\\n",
      "4          Prostate Cancer           Prostate Adenocarcinoma             ATCC   \n",
      "5   Esophagogastric Cancer            Stomach Adenocarcinoma             DSMZ   \n",
      "8                   Glioma                       Astrocytoma             DSMZ   \n",
      "10          Bladder Cancer      Bladder Urothelial Carcinoma              NaN   \n",
      "11          Ovarian Cancer  High-Grade Serous Ovarian Cancer            ECACC   \n",
      "\n",
      "                                      Characteristics   DepMap ID  ...  \\\n",
      "4                                 Adherent epithelial  ACH-000956  ...   \n",
      "5   aderent epithelial cells growing as confluent ...  ACH-000948  ...   \n",
      "8                                            Adherent  ACH-000323  ...   \n",
      "10                                           adherent  ACH-000905  ...   \n",
      "11                                                NaN  ACH-000520  ...   \n",
      "\n",
      "       Sex  Site of Finding Site Subtype 1 Site Subtype 2  Site Subtype 3  \\\n",
      "4     Male              NaN             NS             NS              NS   \n",
      "5     Male              NaN             NS             NS              NS   \n",
      "8     Male              NaN          brain             NS              NS   \n",
      "10    Male              NaN        bladder             NS              NS   \n",
      "11  Female          ascites             NS             NS              NS   \n",
      "\n",
      "                              Subtype  Supplements TMB (nonsynonymous)  \\\n",
      "4                      Adenocarcinoma          NaN           73.700000   \n",
      "5                      Adenocarcinoma          NaN           76.266667   \n",
      "8                         Astrocytoma          NaN            7.033333   \n",
      "10                                NaN          NaN           15.366667   \n",
      "11  Adenocarcinoma, high grade serous          NaN            7.500000   \n",
      "\n",
      "       Tumor Type   Type Refined  \n",
      "4        prostate       prostate  \n",
      "5         stomach        stomach  \n",
      "8          glioma         glioma  \n",
      "10  urinary_tract  urinary_tract  \n",
      "11          ovary          ovary  \n",
      "\n",
      "[5 rows x 51 columns]\n"
     ]
    }
   ],
   "source": [
    "# Get all column names except for the first one and store them in a list\n",
    "patient_ID_list = expression_df_sorted.columns[1:].tolist()\n",
    "\n",
    "# Filter out rows where 'Patient ID' is not in the allowed list\n",
    "df_cleaned_sorted_filtered = df_cleaned_sorted[df_cleaned_sorted['Patient ID'].isin(patient_ID_list)]\n",
    "\n",
    "num_rows, num_columns = df_cleaned_sorted_filtered.shape\n",
    "print(f'Successfully loaded data.\\nNumber of rows:{num_rows}\\nNumber of columns:{num_columns-1}')\n",
    "print(df_cleaned_sorted_filtered.head())"
   ]
  },
  {
   "cell_type": "code",
   "execution_count": 165,
   "metadata": {
    "ExecuteTime": {
     "end_time": "2024-05-11T09:44:00.980534300Z",
     "start_time": "2024-05-11T09:44:00.458596600Z"
    }
   },
   "outputs": [
    {
     "data": {
      "text/plain": "                               Doubling Time (hrs)\nSample                                            \n22RV1_PROSTATE                           58.400000\n2313287_STOMACH                          97.600000\n42MGBA_CENTRAL_NERVOUS_SYSTEM            82.600000\n5637_URINARY_TRACT                       60.900000\n59M_OVARY                               113.118025\n...                                            ...\nYD15_SALIVARY_GLAND                      28.844032\nYH13_CENTRAL_NERVOUS_SYSTEM              77.100000\nYKG1_CENTRAL_NERVOUS_SYSTEM              35.800000\nZR751_BREAST                             88.700000\nZR7530_BREAST                           106.047196\n\n[713 rows x 1 columns]",
      "text/html": "<div>\n<style scoped>\n    .dataframe tbody tr th:only-of-type {\n        vertical-align: middle;\n    }\n\n    .dataframe tbody tr th {\n        vertical-align: top;\n    }\n\n    .dataframe thead th {\n        text-align: right;\n    }\n</style>\n<table border=\"1\" class=\"dataframe\">\n  <thead>\n    <tr style=\"text-align: right;\">\n      <th></th>\n      <th>Doubling Time (hrs)</th>\n    </tr>\n    <tr>\n      <th>Sample</th>\n      <th></th>\n    </tr>\n  </thead>\n  <tbody>\n    <tr>\n      <th>22RV1_PROSTATE</th>\n      <td>58.400000</td>\n    </tr>\n    <tr>\n      <th>2313287_STOMACH</th>\n      <td>97.600000</td>\n    </tr>\n    <tr>\n      <th>42MGBA_CENTRAL_NERVOUS_SYSTEM</th>\n      <td>82.600000</td>\n    </tr>\n    <tr>\n      <th>5637_URINARY_TRACT</th>\n      <td>60.900000</td>\n    </tr>\n    <tr>\n      <th>59M_OVARY</th>\n      <td>113.118025</td>\n    </tr>\n    <tr>\n      <th>...</th>\n      <td>...</td>\n    </tr>\n    <tr>\n      <th>YD15_SALIVARY_GLAND</th>\n      <td>28.844032</td>\n    </tr>\n    <tr>\n      <th>YH13_CENTRAL_NERVOUS_SYSTEM</th>\n      <td>77.100000</td>\n    </tr>\n    <tr>\n      <th>YKG1_CENTRAL_NERVOUS_SYSTEM</th>\n      <td>35.800000</td>\n    </tr>\n    <tr>\n      <th>ZR751_BREAST</th>\n      <td>88.700000</td>\n    </tr>\n    <tr>\n      <th>ZR7530_BREAST</th>\n      <td>106.047196</td>\n    </tr>\n  </tbody>\n</table>\n<p>713 rows × 1 columns</p>\n</div>"
     },
     "execution_count": 165,
     "metadata": {},
     "output_type": "execute_result"
    }
   ],
   "source": [
    "# Prepare counts\n",
    "counts = expression_df_sorted\n",
    "counts = counts.set_index('Hugo_Symbol')\n",
    "counts = counts[counts.sum(axis=1) > 0]   #remove rows containing only 0\n",
    "\n",
    "# Transpose the DataFrame to have samples as rows and genes as columns\n",
    "counts = counts.T #(=x.train)\n",
    "\n",
    "# prepare metadata (=y.train)\n",
    "metadata = pd.DataFrame(zip(counts.index, df_cleaned_sorted_filtered['Doubling Time (hrs)']),\n",
    "                        columns=['Sample', 'Doubling Time (hrs)'])\n",
    "metadata = metadata.set_index('Sample')\n",
    "metadata"
   ]
  },
  {
   "cell_type": "markdown",
   "metadata": {},
   "source": [
    "Get Features (Genes)"
   ]
  },
  {
   "cell_type": "code",
   "execution_count": 166,
   "metadata": {
    "ExecuteTime": {
     "end_time": "2024-05-11T09:44:52.822894900Z",
     "start_time": "2024-05-11T09:44:00.984864900Z"
    }
   },
   "outputs": [
    {
     "data": {
      "text/plain": "Hugo_Symbol                     FAM41C  SNORA77  SNORA77  SNORA77  SNORA77  \\\n22RV1_PROSTATE                 0.04888  0.00000  0.00000      0.0      0.0   \n2313287_STOMACH                0.02149  0.00000  0.00000      0.0      0.0   \n42MGBA_CENTRAL_NERVOUS_SYSTEM  0.04541  0.07159  0.00000      0.0      0.0   \n5637_URINARY_TRACT             0.00789  0.00000  0.12434      0.0      0.0   \n59M_OVARY                      0.05441  0.00000  0.13199      0.0      0.0   \n...                                ...      ...      ...      ...      ...   \nYD15_SALIVARY_GLAND            0.28284  0.00000  0.00000      0.0      0.0   \nYH13_CENTRAL_NERVOUS_SYSTEM    0.04253  0.00000  0.00000      0.0      0.0   \nYKG1_CENTRAL_NERVOUS_SYSTEM    0.00488  0.00000  0.07700      0.0      0.0   \nZR751_BREAST                   0.00000  0.00000  0.00000      0.0      0.0   \nZR7530_BREAST                  0.08390  0.00000  0.00000      0.0      0.0   \n\nHugo_Symbol                    SNORA77  RN7SL503P    MANEAL  SNORA77  SNORA77  \\\n22RV1_PROSTATE                 0.84079    0.05858  21.30927  0.00000  0.00000   \n2313287_STOMACH                0.42360    0.00000   4.13702  0.00000  0.00000   \n42MGBA_CENTRAL_NERVOUS_SYSTEM  0.35797    0.00000   7.03966  0.07159  0.00000   \n5637_URINARY_TRACT             0.49734    0.00000  14.91884  0.00000  0.12434   \n59M_OVARY                      0.06599    0.00000   0.20773  0.00000  0.13199   \n...                                ...        ...       ...      ...      ...   \nYD15_SALIVARY_GLAND            0.00000    0.00000  10.94803  0.00000  0.00000   \nYH13_CENTRAL_NERVOUS_SYSTEM    0.00000    0.00000   0.50686  0.00000  0.00000   \nYKG1_CENTRAL_NERVOUS_SYSTEM    0.61600    0.00000   9.06363  0.00000  0.07700   \nZR751_BREAST                   1.94427    0.75030   7.73689  0.00000  0.00000   \nZR7530_BREAST                  1.24518    0.00000  12.56126  0.00000  0.00000   \n\nHugo_Symbol                    ...  SNORA77  SNORA77    GFRA4  SNORA77  \\\n22RV1_PROSTATE                 ...      0.0  0.84079  0.00000  0.00000   \n2313287_STOMACH                ...      0.0  0.42360  0.00000  0.00000   \n42MGBA_CENTRAL_NERVOUS_SYSTEM  ...      0.0  0.35797  0.00000  0.07159   \n5637_URINARY_TRACT             ...      0.0  0.49734  0.00000  0.00000   \n59M_OVARY                      ...      0.0  0.06599  0.00000  0.00000   \n...                            ...      ...      ...      ...      ...   \nYD15_SALIVARY_GLAND            ...      0.0  0.00000  0.00000  0.00000   \nYH13_CENTRAL_NERVOUS_SYSTEM    ...      0.0  0.00000  0.00000  0.00000   \nYKG1_CENTRAL_NERVOUS_SYSTEM    ...      0.0  0.61600  0.00000  0.00000   \nZR751_BREAST                   ...      0.0  1.94427  0.03697  0.00000   \nZR7530_BREAST                  ...      0.0  1.24518  0.00000  0.00000   \n\nHugo_Symbol                    SNORA77  SNORA77  SNORA77  SNORA77  LUZP4  \\\n22RV1_PROSTATE                 0.00000      0.0      0.0  0.84079    0.0   \n2313287_STOMACH                0.00000      0.0      0.0  0.42360    0.0   \n42MGBA_CENTRAL_NERVOUS_SYSTEM  0.00000      0.0      0.0  0.35797    0.0   \n5637_URINARY_TRACT             0.12434      0.0      0.0  0.49734    0.0   \n59M_OVARY                      0.13199      0.0      0.0  0.06599    0.0   \n...                                ...      ...      ...      ...    ...   \nYD15_SALIVARY_GLAND            0.00000      0.0      0.0  0.00000    0.0   \nYH13_CENTRAL_NERVOUS_SYSTEM    0.00000      0.0      0.0  0.00000    0.0   \nYKG1_CENTRAL_NERVOUS_SYSTEM    0.07700      0.0      0.0  0.61600    0.0   \nZR751_BREAST                   0.00000      0.0      0.0  1.94427    0.0   \nZR7530_BREAST                  0.00000      0.0      0.0  1.24518    0.0   \n\nHugo_Symbol                    NAP1L1P2  \n22RV1_PROSTATE                  0.04825  \n2313287_STOMACH                 0.09724  \n42MGBA_CENTRAL_NERVOUS_SYSTEM   0.00000  \n5637_URINARY_TRACT              0.00000  \n59M_OVARY                       0.00000  \n...                                 ...  \nYD15_SALIVARY_GLAND             0.03938  \nYH13_CENTRAL_NERVOUS_SYSTEM     0.00000  \nYKG1_CENTRAL_NERVOUS_SYSTEM     0.00000  \nZR751_BREAST                    0.00000  \nZR7530_BREAST                   0.00000  \n\n[713 rows x 39 columns]",
      "text/html": "<div>\n<style scoped>\n    .dataframe tbody tr th:only-of-type {\n        vertical-align: middle;\n    }\n\n    .dataframe tbody tr th {\n        vertical-align: top;\n    }\n\n    .dataframe thead th {\n        text-align: right;\n    }\n</style>\n<table border=\"1\" class=\"dataframe\">\n  <thead>\n    <tr style=\"text-align: right;\">\n      <th>Hugo_Symbol</th>\n      <th>FAM41C</th>\n      <th>SNORA77</th>\n      <th>SNORA77</th>\n      <th>SNORA77</th>\n      <th>SNORA77</th>\n      <th>SNORA77</th>\n      <th>RN7SL503P</th>\n      <th>MANEAL</th>\n      <th>SNORA77</th>\n      <th>SNORA77</th>\n      <th>...</th>\n      <th>SNORA77</th>\n      <th>SNORA77</th>\n      <th>GFRA4</th>\n      <th>SNORA77</th>\n      <th>SNORA77</th>\n      <th>SNORA77</th>\n      <th>SNORA77</th>\n      <th>SNORA77</th>\n      <th>LUZP4</th>\n      <th>NAP1L1P2</th>\n    </tr>\n  </thead>\n  <tbody>\n    <tr>\n      <th>22RV1_PROSTATE</th>\n      <td>0.04888</td>\n      <td>0.00000</td>\n      <td>0.00000</td>\n      <td>0.0</td>\n      <td>0.0</td>\n      <td>0.84079</td>\n      <td>0.05858</td>\n      <td>21.30927</td>\n      <td>0.00000</td>\n      <td>0.00000</td>\n      <td>...</td>\n      <td>0.0</td>\n      <td>0.84079</td>\n      <td>0.00000</td>\n      <td>0.00000</td>\n      <td>0.00000</td>\n      <td>0.0</td>\n      <td>0.0</td>\n      <td>0.84079</td>\n      <td>0.0</td>\n      <td>0.04825</td>\n    </tr>\n    <tr>\n      <th>2313287_STOMACH</th>\n      <td>0.02149</td>\n      <td>0.00000</td>\n      <td>0.00000</td>\n      <td>0.0</td>\n      <td>0.0</td>\n      <td>0.42360</td>\n      <td>0.00000</td>\n      <td>4.13702</td>\n      <td>0.00000</td>\n      <td>0.00000</td>\n      <td>...</td>\n      <td>0.0</td>\n      <td>0.42360</td>\n      <td>0.00000</td>\n      <td>0.00000</td>\n      <td>0.00000</td>\n      <td>0.0</td>\n      <td>0.0</td>\n      <td>0.42360</td>\n      <td>0.0</td>\n      <td>0.09724</td>\n    </tr>\n    <tr>\n      <th>42MGBA_CENTRAL_NERVOUS_SYSTEM</th>\n      <td>0.04541</td>\n      <td>0.07159</td>\n      <td>0.00000</td>\n      <td>0.0</td>\n      <td>0.0</td>\n      <td>0.35797</td>\n      <td>0.00000</td>\n      <td>7.03966</td>\n      <td>0.07159</td>\n      <td>0.00000</td>\n      <td>...</td>\n      <td>0.0</td>\n      <td>0.35797</td>\n      <td>0.00000</td>\n      <td>0.07159</td>\n      <td>0.00000</td>\n      <td>0.0</td>\n      <td>0.0</td>\n      <td>0.35797</td>\n      <td>0.0</td>\n      <td>0.00000</td>\n    </tr>\n    <tr>\n      <th>5637_URINARY_TRACT</th>\n      <td>0.00789</td>\n      <td>0.00000</td>\n      <td>0.12434</td>\n      <td>0.0</td>\n      <td>0.0</td>\n      <td>0.49734</td>\n      <td>0.00000</td>\n      <td>14.91884</td>\n      <td>0.00000</td>\n      <td>0.12434</td>\n      <td>...</td>\n      <td>0.0</td>\n      <td>0.49734</td>\n      <td>0.00000</td>\n      <td>0.00000</td>\n      <td>0.12434</td>\n      <td>0.0</td>\n      <td>0.0</td>\n      <td>0.49734</td>\n      <td>0.0</td>\n      <td>0.00000</td>\n    </tr>\n    <tr>\n      <th>59M_OVARY</th>\n      <td>0.05441</td>\n      <td>0.00000</td>\n      <td>0.13199</td>\n      <td>0.0</td>\n      <td>0.0</td>\n      <td>0.06599</td>\n      <td>0.00000</td>\n      <td>0.20773</td>\n      <td>0.00000</td>\n      <td>0.13199</td>\n      <td>...</td>\n      <td>0.0</td>\n      <td>0.06599</td>\n      <td>0.00000</td>\n      <td>0.00000</td>\n      <td>0.13199</td>\n      <td>0.0</td>\n      <td>0.0</td>\n      <td>0.06599</td>\n      <td>0.0</td>\n      <td>0.00000</td>\n    </tr>\n    <tr>\n      <th>...</th>\n      <td>...</td>\n      <td>...</td>\n      <td>...</td>\n      <td>...</td>\n      <td>...</td>\n      <td>...</td>\n      <td>...</td>\n      <td>...</td>\n      <td>...</td>\n      <td>...</td>\n      <td>...</td>\n      <td>...</td>\n      <td>...</td>\n      <td>...</td>\n      <td>...</td>\n      <td>...</td>\n      <td>...</td>\n      <td>...</td>\n      <td>...</td>\n      <td>...</td>\n      <td>...</td>\n    </tr>\n    <tr>\n      <th>YD15_SALIVARY_GLAND</th>\n      <td>0.28284</td>\n      <td>0.00000</td>\n      <td>0.00000</td>\n      <td>0.0</td>\n      <td>0.0</td>\n      <td>0.00000</td>\n      <td>0.00000</td>\n      <td>10.94803</td>\n      <td>0.00000</td>\n      <td>0.00000</td>\n      <td>...</td>\n      <td>0.0</td>\n      <td>0.00000</td>\n      <td>0.00000</td>\n      <td>0.00000</td>\n      <td>0.00000</td>\n      <td>0.0</td>\n      <td>0.0</td>\n      <td>0.00000</td>\n      <td>0.0</td>\n      <td>0.03938</td>\n    </tr>\n    <tr>\n      <th>YH13_CENTRAL_NERVOUS_SYSTEM</th>\n      <td>0.04253</td>\n      <td>0.00000</td>\n      <td>0.00000</td>\n      <td>0.0</td>\n      <td>0.0</td>\n      <td>0.00000</td>\n      <td>0.00000</td>\n      <td>0.50686</td>\n      <td>0.00000</td>\n      <td>0.00000</td>\n      <td>...</td>\n      <td>0.0</td>\n      <td>0.00000</td>\n      <td>0.00000</td>\n      <td>0.00000</td>\n      <td>0.00000</td>\n      <td>0.0</td>\n      <td>0.0</td>\n      <td>0.00000</td>\n      <td>0.0</td>\n      <td>0.00000</td>\n    </tr>\n    <tr>\n      <th>YKG1_CENTRAL_NERVOUS_SYSTEM</th>\n      <td>0.00488</td>\n      <td>0.00000</td>\n      <td>0.07700</td>\n      <td>0.0</td>\n      <td>0.0</td>\n      <td>0.61600</td>\n      <td>0.00000</td>\n      <td>9.06363</td>\n      <td>0.00000</td>\n      <td>0.07700</td>\n      <td>...</td>\n      <td>0.0</td>\n      <td>0.61600</td>\n      <td>0.00000</td>\n      <td>0.00000</td>\n      <td>0.07700</td>\n      <td>0.0</td>\n      <td>0.0</td>\n      <td>0.61600</td>\n      <td>0.0</td>\n      <td>0.00000</td>\n    </tr>\n    <tr>\n      <th>ZR751_BREAST</th>\n      <td>0.00000</td>\n      <td>0.00000</td>\n      <td>0.00000</td>\n      <td>0.0</td>\n      <td>0.0</td>\n      <td>1.94427</td>\n      <td>0.75030</td>\n      <td>7.73689</td>\n      <td>0.00000</td>\n      <td>0.00000</td>\n      <td>...</td>\n      <td>0.0</td>\n      <td>1.94427</td>\n      <td>0.03697</td>\n      <td>0.00000</td>\n      <td>0.00000</td>\n      <td>0.0</td>\n      <td>0.0</td>\n      <td>1.94427</td>\n      <td>0.0</td>\n      <td>0.00000</td>\n    </tr>\n    <tr>\n      <th>ZR7530_BREAST</th>\n      <td>0.08390</td>\n      <td>0.00000</td>\n      <td>0.00000</td>\n      <td>0.0</td>\n      <td>0.0</td>\n      <td>1.24518</td>\n      <td>0.00000</td>\n      <td>12.56126</td>\n      <td>0.00000</td>\n      <td>0.00000</td>\n      <td>...</td>\n      <td>0.0</td>\n      <td>1.24518</td>\n      <td>0.00000</td>\n      <td>0.00000</td>\n      <td>0.00000</td>\n      <td>0.0</td>\n      <td>0.0</td>\n      <td>1.24518</td>\n      <td>0.0</td>\n      <td>0.00000</td>\n    </tr>\n  </tbody>\n</table>\n<p>713 rows × 39 columns</p>\n</div>"
     },
     "execution_count": 166,
     "metadata": {},
     "output_type": "execute_result"
    }
   ],
   "source": [
    "genes, rhos, pvals = [], [], []\n",
    "# Loop through each gene column\n",
    "for gene_idx in range(counts.shape[1]):\n",
    "    # Extract the gene expression levels for the current gene\n",
    "    gene_expression = counts.iloc[:, gene_idx].tolist()\n",
    "\n",
    "    # Calculate correlation and p-value\n",
    "    correlation_coefficient, p_value = pearsonr(gene_expression, metadata['Doubling Time (hrs)'].tolist())\n",
    "\n",
    "    if abs(correlation_coefficient) >= 0.38 and p_value <= 0.05:\n",
    "        genes.append(counts.columns[gene_idx])\n",
    "        pvals.append(p_value)\n",
    "        rhos.append(correlation_coefficient)\n",
    "\n",
    "chosen_genes_expression = counts[counts.columns[counts.columns.isin(genes)]]\n",
    "chosen_genes_expression\n",
    "\n",
    "# add the doubling time as a column in the df\n",
    "#chosen_genes_expression['Doubling Time (hrs)'] = metadata['Doubling Time (hrs)']"
   ]
  },
  {
   "cell_type": "markdown",
   "metadata": {},
   "source": [
    "Train Models and Predict"
   ]
  },
  {
   "cell_type": "code",
   "execution_count": 167,
   "metadata": {
    "collapsed": false,
    "ExecuteTime": {
     "end_time": "2024-05-11T09:44:52.831531700Z",
     "start_time": "2024-05-11T09:44:52.823849Z"
    }
   },
   "outputs": [],
   "source": [
    "# Split the data into training and testing sets\n",
    "X_train, X_test, Y_train, Y_test = train_test_split(chosen_genes_expression, metadata['Doubling Time (hrs)'], test_size=0.2, random_state=42)"
   ]
  },
  {
   "cell_type": "code",
   "outputs": [
    {
     "data": {
      "text/plain": "Hugo_Symbol                                    FAM41C  SNORA77  SNORA77  \\\nKARPAS620_HAEMATOPOIETIC_AND_LYMPHOID_TISSUE  0.05507      0.0  0.00000   \nCAL148_BREAST                                 0.07406      0.0  0.00000   \nHS618T_FIBROBLAST                             0.04152      0.0  0.72021   \nSKMEL24_SKIN                                  0.02942      0.0  0.05798   \nQGP1_PANCREAS                                 0.01181      0.0  0.12415   \n...                                               ...      ...      ...   \nCCK81_LARGE_INTESTINE                         0.03464      0.0  0.00000   \nDETROIT562_UPPER_AERODIGESTIVE_TRACT          0.00505      0.0  0.07967   \nKE39_STOMACH                                  0.18364      0.0  0.00000   \nNCIH2170_LUNG                                 0.08292      0.0  0.00000   \nDAUDI_HAEMATOPOIETIC_AND_LYMPHOID_TISSUE      0.08810      0.0  0.27784   \n\nHugo_Symbol                                   SNORA77  SNORA77  SNORA77  \\\nKARPAS620_HAEMATOPOIETIC_AND_LYMPHOID_TISSUE      0.0      0.0  0.69463   \nCAL148_BREAST                                     0.0      0.0  0.29194   \nHS618T_FIBROBLAST                                 0.0      0.0  0.26189   \nSKMEL24_SKIN                                      0.0      0.0  0.05798   \nQGP1_PANCREAS                                     0.0      0.0  0.24830   \n...                                               ...      ...      ...   \nCCK81_LARGE_INTESTINE                             0.0      0.0  1.24834   \nDETROIT562_UPPER_AERODIGESTIVE_TRACT              0.0      0.0  1.03574   \nKE39_STOMACH                                      0.0      0.0  0.46068   \nNCIH2170_LUNG                                     0.0      0.0  1.06235   \nDAUDI_HAEMATOPOIETIC_AND_LYMPHOID_TISSUE          0.0      0.0  0.97245   \n\nHugo_Symbol                                   RN7SL503P    MANEAL  SNORA77  \\\nKARPAS620_HAEMATOPOIETIC_AND_LYMPHOID_TISSUE    0.00000  14.26997      0.0   \nCAL148_BREAST                                   0.00000  17.63416      0.0   \nHS618T_FIBROBLAST                               0.00000   0.69422      0.0   \nSKMEL24_SKIN                                    0.00000   0.34579      0.0   \nQGP1_PANCREAS                                   0.05190  42.71960      0.0   \n...                                                 ...       ...      ...   \nCCK81_LARGE_INTESTINE                           0.06524   6.67951      0.0   \nDETROIT562_UPPER_AERODIGESTIVE_TRACT            0.00000   5.40848      0.0   \nKE39_STOMACH                                    0.00000  12.94199      0.0   \nNCIH2170_LUNG                                   0.00000   4.39330      0.0   \nDAUDI_HAEMATOPOIETIC_AND_LYMPHOID_TISSUE        0.02904   9.05949      0.0   \n\nHugo_Symbol                                   SNORA77  ...  SNORA77  SNORA77  \\\nKARPAS620_HAEMATOPOIETIC_AND_LYMPHOID_TISSUE  0.00000  ...      0.0  0.69463   \nCAL148_BREAST                                 0.00000  ...      0.0  0.29194   \nHS618T_FIBROBLAST                             0.72021  ...      0.0  0.26189   \nSKMEL24_SKIN                                  0.05798  ...      0.0  0.05798   \nQGP1_PANCREAS                                 0.12415  ...      0.0  0.24830   \n...                                               ...  ...      ...      ...   \nCCK81_LARGE_INTESTINE                         0.00000  ...      0.0  1.24834   \nDETROIT562_UPPER_AERODIGESTIVE_TRACT          0.07967  ...      0.0  1.03574   \nKE39_STOMACH                                  0.00000  ...      0.0  0.46068   \nNCIH2170_LUNG                                 0.00000  ...      0.0  1.06235   \nDAUDI_HAEMATOPOIETIC_AND_LYMPHOID_TISSUE      0.27784  ...      0.0  0.97245   \n\nHugo_Symbol                                   GFRA4  SNORA77  SNORA77  \\\nKARPAS620_HAEMATOPOIETIC_AND_LYMPHOID_TISSUE    0.0      0.0  0.00000   \nCAL148_BREAST                                   0.0      0.0  0.00000   \nHS618T_FIBROBLAST                               0.0      0.0  0.72021   \nSKMEL24_SKIN                                    0.0      0.0  0.05798   \nQGP1_PANCREAS                                   0.0      0.0  0.12415   \n...                                             ...      ...      ...   \nCCK81_LARGE_INTESTINE                           0.0      0.0  0.00000   \nDETROIT562_UPPER_AERODIGESTIVE_TRACT            0.0      0.0  0.07967   \nKE39_STOMACH                                    0.0      0.0  0.00000   \nNCIH2170_LUNG                                   0.0      0.0  0.00000   \nDAUDI_HAEMATOPOIETIC_AND_LYMPHOID_TISSUE        0.0      0.0  0.27784   \n\nHugo_Symbol                                   SNORA77  SNORA77  SNORA77  \\\nKARPAS620_HAEMATOPOIETIC_AND_LYMPHOID_TISSUE      0.0      0.0  0.69463   \nCAL148_BREAST                                     0.0      0.0  0.29194   \nHS618T_FIBROBLAST                                 0.0      0.0  0.26189   \nSKMEL24_SKIN                                      0.0      0.0  0.05798   \nQGP1_PANCREAS                                     0.0      0.0  0.24830   \n...                                               ...      ...      ...   \nCCK81_LARGE_INTESTINE                             0.0      0.0  1.24834   \nDETROIT562_UPPER_AERODIGESTIVE_TRACT              0.0      0.0  1.03574   \nKE39_STOMACH                                      0.0      0.0  0.46068   \nNCIH2170_LUNG                                     0.0      0.0  1.06235   \nDAUDI_HAEMATOPOIETIC_AND_LYMPHOID_TISSUE          0.0      0.0  0.97245   \n\nHugo_Symbol                                     LUZP4  NAP1L1P2  \nKARPAS620_HAEMATOPOIETIC_AND_LYMPHOID_TISSUE  0.06285   0.00000  \nCAL148_BREAST                                 0.00000   0.00000  \nHS618T_FIBROBLAST                             0.00948   0.00000  \nSKMEL24_SKIN                                  0.01679   0.01331  \nQGP1_PANCREAS                                 0.00000   0.00000  \n...                                               ...       ...  \nCCK81_LARGE_INTESTINE                         0.00000   0.00000  \nDETROIT562_UPPER_AERODIGESTIVE_TRACT          0.00000   0.00000  \nKE39_STOMACH                                  0.00953   0.00000  \nNCIH2170_LUNG                                 0.01183   0.00000  \nDAUDI_HAEMATOPOIETIC_AND_LYMPHOID_TISSUE      0.03519   0.13554  \n\n[570 rows x 39 columns]",
      "text/html": "<div>\n<style scoped>\n    .dataframe tbody tr th:only-of-type {\n        vertical-align: middle;\n    }\n\n    .dataframe tbody tr th {\n        vertical-align: top;\n    }\n\n    .dataframe thead th {\n        text-align: right;\n    }\n</style>\n<table border=\"1\" class=\"dataframe\">\n  <thead>\n    <tr style=\"text-align: right;\">\n      <th>Hugo_Symbol</th>\n      <th>FAM41C</th>\n      <th>SNORA77</th>\n      <th>SNORA77</th>\n      <th>SNORA77</th>\n      <th>SNORA77</th>\n      <th>SNORA77</th>\n      <th>RN7SL503P</th>\n      <th>MANEAL</th>\n      <th>SNORA77</th>\n      <th>SNORA77</th>\n      <th>...</th>\n      <th>SNORA77</th>\n      <th>SNORA77</th>\n      <th>GFRA4</th>\n      <th>SNORA77</th>\n      <th>SNORA77</th>\n      <th>SNORA77</th>\n      <th>SNORA77</th>\n      <th>SNORA77</th>\n      <th>LUZP4</th>\n      <th>NAP1L1P2</th>\n    </tr>\n  </thead>\n  <tbody>\n    <tr>\n      <th>KARPAS620_HAEMATOPOIETIC_AND_LYMPHOID_TISSUE</th>\n      <td>0.05507</td>\n      <td>0.0</td>\n      <td>0.00000</td>\n      <td>0.0</td>\n      <td>0.0</td>\n      <td>0.69463</td>\n      <td>0.00000</td>\n      <td>14.26997</td>\n      <td>0.0</td>\n      <td>0.00000</td>\n      <td>...</td>\n      <td>0.0</td>\n      <td>0.69463</td>\n      <td>0.0</td>\n      <td>0.0</td>\n      <td>0.00000</td>\n      <td>0.0</td>\n      <td>0.0</td>\n      <td>0.69463</td>\n      <td>0.06285</td>\n      <td>0.00000</td>\n    </tr>\n    <tr>\n      <th>CAL148_BREAST</th>\n      <td>0.07406</td>\n      <td>0.0</td>\n      <td>0.00000</td>\n      <td>0.0</td>\n      <td>0.0</td>\n      <td>0.29194</td>\n      <td>0.00000</td>\n      <td>17.63416</td>\n      <td>0.0</td>\n      <td>0.00000</td>\n      <td>...</td>\n      <td>0.0</td>\n      <td>0.29194</td>\n      <td>0.0</td>\n      <td>0.0</td>\n      <td>0.00000</td>\n      <td>0.0</td>\n      <td>0.0</td>\n      <td>0.29194</td>\n      <td>0.00000</td>\n      <td>0.00000</td>\n    </tr>\n    <tr>\n      <th>HS618T_FIBROBLAST</th>\n      <td>0.04152</td>\n      <td>0.0</td>\n      <td>0.72021</td>\n      <td>0.0</td>\n      <td>0.0</td>\n      <td>0.26189</td>\n      <td>0.00000</td>\n      <td>0.69422</td>\n      <td>0.0</td>\n      <td>0.72021</td>\n      <td>...</td>\n      <td>0.0</td>\n      <td>0.26189</td>\n      <td>0.0</td>\n      <td>0.0</td>\n      <td>0.72021</td>\n      <td>0.0</td>\n      <td>0.0</td>\n      <td>0.26189</td>\n      <td>0.00948</td>\n      <td>0.00000</td>\n    </tr>\n    <tr>\n      <th>SKMEL24_SKIN</th>\n      <td>0.02942</td>\n      <td>0.0</td>\n      <td>0.05798</td>\n      <td>0.0</td>\n      <td>0.0</td>\n      <td>0.05798</td>\n      <td>0.00000</td>\n      <td>0.34579</td>\n      <td>0.0</td>\n      <td>0.05798</td>\n      <td>...</td>\n      <td>0.0</td>\n      <td>0.05798</td>\n      <td>0.0</td>\n      <td>0.0</td>\n      <td>0.05798</td>\n      <td>0.0</td>\n      <td>0.0</td>\n      <td>0.05798</td>\n      <td>0.01679</td>\n      <td>0.01331</td>\n    </tr>\n    <tr>\n      <th>QGP1_PANCREAS</th>\n      <td>0.01181</td>\n      <td>0.0</td>\n      <td>0.12415</td>\n      <td>0.0</td>\n      <td>0.0</td>\n      <td>0.24830</td>\n      <td>0.05190</td>\n      <td>42.71960</td>\n      <td>0.0</td>\n      <td>0.12415</td>\n      <td>...</td>\n      <td>0.0</td>\n      <td>0.24830</td>\n      <td>0.0</td>\n      <td>0.0</td>\n      <td>0.12415</td>\n      <td>0.0</td>\n      <td>0.0</td>\n      <td>0.24830</td>\n      <td>0.00000</td>\n      <td>0.00000</td>\n    </tr>\n    <tr>\n      <th>...</th>\n      <td>...</td>\n      <td>...</td>\n      <td>...</td>\n      <td>...</td>\n      <td>...</td>\n      <td>...</td>\n      <td>...</td>\n      <td>...</td>\n      <td>...</td>\n      <td>...</td>\n      <td>...</td>\n      <td>...</td>\n      <td>...</td>\n      <td>...</td>\n      <td>...</td>\n      <td>...</td>\n      <td>...</td>\n      <td>...</td>\n      <td>...</td>\n      <td>...</td>\n      <td>...</td>\n    </tr>\n    <tr>\n      <th>CCK81_LARGE_INTESTINE</th>\n      <td>0.03464</td>\n      <td>0.0</td>\n      <td>0.00000</td>\n      <td>0.0</td>\n      <td>0.0</td>\n      <td>1.24834</td>\n      <td>0.06524</td>\n      <td>6.67951</td>\n      <td>0.0</td>\n      <td>0.00000</td>\n      <td>...</td>\n      <td>0.0</td>\n      <td>1.24834</td>\n      <td>0.0</td>\n      <td>0.0</td>\n      <td>0.00000</td>\n      <td>0.0</td>\n      <td>0.0</td>\n      <td>1.24834</td>\n      <td>0.00000</td>\n      <td>0.00000</td>\n    </tr>\n    <tr>\n      <th>DETROIT562_UPPER_AERODIGESTIVE_TRACT</th>\n      <td>0.00505</td>\n      <td>0.0</td>\n      <td>0.07967</td>\n      <td>0.0</td>\n      <td>0.0</td>\n      <td>1.03574</td>\n      <td>0.00000</td>\n      <td>5.40848</td>\n      <td>0.0</td>\n      <td>0.07967</td>\n      <td>...</td>\n      <td>0.0</td>\n      <td>1.03574</td>\n      <td>0.0</td>\n      <td>0.0</td>\n      <td>0.07967</td>\n      <td>0.0</td>\n      <td>0.0</td>\n      <td>1.03574</td>\n      <td>0.00000</td>\n      <td>0.00000</td>\n    </tr>\n    <tr>\n      <th>KE39_STOMACH</th>\n      <td>0.18364</td>\n      <td>0.0</td>\n      <td>0.00000</td>\n      <td>0.0</td>\n      <td>0.0</td>\n      <td>0.46068</td>\n      <td>0.00000</td>\n      <td>12.94199</td>\n      <td>0.0</td>\n      <td>0.00000</td>\n      <td>...</td>\n      <td>0.0</td>\n      <td>0.46068</td>\n      <td>0.0</td>\n      <td>0.0</td>\n      <td>0.00000</td>\n      <td>0.0</td>\n      <td>0.0</td>\n      <td>0.46068</td>\n      <td>0.00953</td>\n      <td>0.00000</td>\n    </tr>\n    <tr>\n      <th>NCIH2170_LUNG</th>\n      <td>0.08292</td>\n      <td>0.0</td>\n      <td>0.00000</td>\n      <td>0.0</td>\n      <td>0.0</td>\n      <td>1.06235</td>\n      <td>0.00000</td>\n      <td>4.39330</td>\n      <td>0.0</td>\n      <td>0.00000</td>\n      <td>...</td>\n      <td>0.0</td>\n      <td>1.06235</td>\n      <td>0.0</td>\n      <td>0.0</td>\n      <td>0.00000</td>\n      <td>0.0</td>\n      <td>0.0</td>\n      <td>1.06235</td>\n      <td>0.01183</td>\n      <td>0.00000</td>\n    </tr>\n    <tr>\n      <th>DAUDI_HAEMATOPOIETIC_AND_LYMPHOID_TISSUE</th>\n      <td>0.08810</td>\n      <td>0.0</td>\n      <td>0.27784</td>\n      <td>0.0</td>\n      <td>0.0</td>\n      <td>0.97245</td>\n      <td>0.02904</td>\n      <td>9.05949</td>\n      <td>0.0</td>\n      <td>0.27784</td>\n      <td>...</td>\n      <td>0.0</td>\n      <td>0.97245</td>\n      <td>0.0</td>\n      <td>0.0</td>\n      <td>0.27784</td>\n      <td>0.0</td>\n      <td>0.0</td>\n      <td>0.97245</td>\n      <td>0.03519</td>\n      <td>0.13554</td>\n    </tr>\n  </tbody>\n</table>\n<p>570 rows × 39 columns</p>\n</div>"
     },
     "execution_count": 202,
     "metadata": {},
     "output_type": "execute_result"
    }
   ],
   "source": [
    "X_train"
   ],
   "metadata": {
    "ExecuteTime": {
     "end_time": "2024-05-11T09:57:01.761905100Z",
     "start_time": "2024-05-11T09:57:01.707470100Z"
    }
   },
   "execution_count": 202
  },
  {
   "cell_type": "code",
   "execution_count": 215,
   "metadata": {
    "ExecuteTime": {
     "end_time": "2024-05-11T10:00:34.587499300Z",
     "start_time": "2024-05-11T10:00:34.555644400Z"
    }
   },
   "outputs": [
    {
     "name": "stderr",
     "output_type": "stream",
     "text": [
      "C:\\Users\\noaga\\AppData\\Local\\Temp\\ipykernel_7708\\4039707823.py:10: UserWarning: To copy construct from a tensor, it is recommended to use sourceTensor.clone().detach() or sourceTensor.clone().detach().requires_grad_(True), rather than torch.tensor(sourceTensor).\n",
      "  Y_train = torch.tensor(Y_train, dtype=torch.float32)\n",
      "C:\\Users\\noaga\\AppData\\Local\\Temp\\ipykernel_7708\\4039707823.py:11: UserWarning: To copy construct from a tensor, it is recommended to use sourceTensor.clone().detach() or sourceTensor.clone().detach().requires_grad_(True), rather than torch.tensor(sourceTensor).\n",
      "  Y_test = torch.tensor(Y_test, dtype=torch.float32)\n"
     ]
    }
   ],
   "source": [
    "# Standardize the data\n",
    "scaler = StandardScaler()\n",
    "X_train_std = scaler.fit_transform(X_train)\n",
    "X_test_std = scaler.transform(X_test)\n",
    "\n",
    "\n",
    "# Convert data to PyTorch tensors\n",
    "X_train_std = torch.tensor(X_train_std, dtype=torch.float32)\n",
    "X_test_std = torch.tensor(X_test_std, dtype=torch.float32)\n",
    "Y_train = torch.tensor(Y_train, dtype=torch.float32)\n",
    "Y_test = torch.tensor(Y_test, dtype=torch.float32)"
   ]
  },
  {
   "cell_type": "code",
   "execution_count": 216,
   "metadata": {
    "ExecuteTime": {
     "end_time": "2024-05-11T10:00:34.615879Z",
     "start_time": "2024-05-11T10:00:34.593182600Z"
    }
   },
   "outputs": [],
   "source": [
    "# Define a PyTorch neural network model\n",
    "class NeuralNetwork(nn.Module):\n",
    "    def __init__(self):\n",
    "        super(NeuralNetwork, self).__init__()\n",
    "        self.flatten = nn.Flatten()\n",
    "        self.fc1 = nn.Linear(39, 20)  # Adjust input size to match feature count\n",
    "        self.relu = nn.ReLU()\n",
    "        self.fc2 = nn.Linear(20,  1)  # Single output neuron for regression\n",
    "\n",
    "    def forward(self, x):\n",
    "        x = self.flatten(x)\n",
    "        x = self.fc1(x)\n",
    "        x = self.relu(x)\n",
    "        x = self.fc2(x)\n",
    "        return x\n",
    "\n",
    "model = NeuralNetwork()"
   ]
  },
  {
   "cell_type": "markdown",
   "metadata": {},
   "source": []
  },
  {
   "cell_type": "code",
   "outputs": [],
   "source": [
    "# Define loss function (mean squared error) and optimizer\n",
    "criterion = nn.MSELoss()\n",
    "optimizer = optim.Adam(model.parameters())"
   ],
   "metadata": {
    "collapsed": false,
    "ExecuteTime": {
     "end_time": "2024-05-11T10:00:34.660589800Z",
     "start_time": "2024-05-11T10:00:34.616928200Z"
    }
   },
   "execution_count": 217
  },
  {
   "cell_type": "code",
   "outputs": [
    {
     "name": "stdout",
     "output_type": "stream",
     "text": [
      "Epoch 1, Loss: 16133.4111328125, Val Loss: 10585.41015625\n",
      "Epoch 2, Loss: 16131.2685546875, Val Loss: 10583.552734375\n",
      "Epoch 3, Loss: 16129.1220703125, Val Loss: 10581.697265625\n",
      "Epoch 4, Loss: 16126.978515625, Val Loss: 10579.83984375\n",
      "Epoch 5, Loss: 16124.8515625, Val Loss: 10577.966796875\n",
      "Epoch 6, Loss: 16122.736328125, Val Loss: 10576.0927734375\n",
      "Epoch 7, Loss: 16120.6181640625, Val Loss: 10574.21875\n",
      "Epoch 8, Loss: 16118.4970703125, Val Loss: 10572.3427734375\n",
      "Epoch 9, Loss: 16116.3759765625, Val Loss: 10570.4677734375\n",
      "Epoch 10, Loss: 16114.25390625, Val Loss: 10568.59375\n"
     ]
    },
    {
     "name": "stderr",
     "output_type": "stream",
     "text": [
      "C:\\Users\\noaga\\Desktop\\BioInformatics_Proj\\venv\\Lib\\site-packages\\torch\\nn\\modules\\loss.py:535: UserWarning: Using a target size (torch.Size([570])) that is different to the input size (torch.Size([570, 1])). This will likely lead to incorrect results due to broadcasting. Please ensure they have the same size.\n",
      "  return F.mse_loss(input, target, reduction=self.reduction)\n",
      "C:\\Users\\noaga\\Desktop\\BioInformatics_Proj\\venv\\Lib\\site-packages\\torch\\nn\\modules\\loss.py:535: UserWarning: Using a target size (torch.Size([143])) that is different to the input size (torch.Size([143, 1])). This will likely lead to incorrect results due to broadcasting. Please ensure they have the same size.\n",
      "  return F.mse_loss(input, target, reduction=self.reduction)\n"
     ]
    }
   ],
   "source": [
    "# Training the PyTorch model\n",
    "epochs = 10\n",
    "batch_size = 32\n",
    "history = {'loss': [], 'val_loss': []}\n",
    "\n",
    "for epoch in range(epochs):\n",
    "    model.train()\n",
    "    optimizer.zero_grad()\n",
    "    outputs = model(X_train_std)\n",
    "    loss = criterion(outputs, Y_train)\n",
    "    loss.backward()\n",
    "    optimizer.step()\n",
    "\n",
    "    # Evaluation during training\n",
    "    model.eval()\n",
    "    with torch.no_grad():\n",
    "        val_outputs = model(X_test_std)\n",
    "        val_loss = criterion(val_outputs, Y_test).item()\n",
    "\n",
    "    history['loss'].append(loss.item())\n",
    "    history['val_loss'].append(val_loss)\n",
    "\n",
    "    print(f\"Epoch {epoch + 1}, Loss: {loss.item()}, Val Loss: {val_loss}\")"
   ],
   "metadata": {
    "collapsed": false,
    "ExecuteTime": {
     "end_time": "2024-05-11T10:00:34.711870Z",
     "start_time": "2024-05-11T10:00:34.635536500Z"
    }
   },
   "execution_count": 218
  },
  {
   "cell_type": "code",
   "outputs": [
    {
     "data": {
      "text/plain": "<Figure size 640x480 with 1 Axes>",
      "image/png": "[encoded data removed]"
     },
     "metadata": {},
     "output_type": "display_data"
    }
   ],
   "source": [
    "# Plotting training history\n",
    "plt.plot(history['loss'], label='Training Loss')\n",
    "plt.plot(history['val_loss'], label='Validation Loss')\n",
    "plt.title('Model Loss')\n",
    "plt.xlabel('Epoch')\n",
    "plt.ylabel('Loss')\n",
    "plt.legend()\n",
    "plt.show()"
   ],
   "metadata": {
    "collapsed": false,
    "ExecuteTime": {
     "end_time": "2024-05-11T10:00:34.867630900Z",
     "start_time": "2024-05-11T10:00:34.693845800Z"
    }
   },
   "execution_count": 219
  },
  {
   "cell_type": "code",
   "outputs": [
    {
     "name": "stdout",
     "output_type": "stream",
     "text": [
      "Test Loss: 10568.59375\n"
     ]
    }
   ],
   "source": [
    "# Evaluation on test set\n",
    "model.eval()\n",
    "with torch.no_grad():\n",
    "    test_outputs = model(X_test_std)\n",
    "    test_loss = criterion(test_outputs, Y_test).item()\n",
    "    print(\"Test Loss:\", test_loss)"
   ],
   "metadata": {
    "collapsed": false,
    "ExecuteTime": {
     "end_time": "2024-05-11T10:00:34.880360600Z",
     "start_time": "2024-05-11T10:00:34.871009600Z"
    }
   },
   "execution_count": 220
  }
 ],
 "metadata": {
  "kernelspec": {
   "display_name": "Python 3",
   "language": "python",
   "name": "python3"
  },
  "language_info": {
   "codemirror_mode": {
    "name": "ipython",
    "version": 3
   },
   "file_extension": ".py",
   "mimetype": "text/x-python",
   "name": "python",
   "nbconvert_exporter": "python",
   "pygments_lexer": "ipython3",
   "version": "3.12.2"
  }
 },
 "nbformat": 4,
 "nbformat_minor": 2
}
