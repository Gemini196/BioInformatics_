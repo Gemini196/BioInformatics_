{
 "cells": [
  {
   "cell_type": "code",
   "execution_count": 21,
   "metadata": {},
   "outputs": [
    {
     "name": "stderr",
     "output_type": "stream",
     "text": [
      "c:\\Users\\lessickyeela\\AppData\\Local\\Programs\\Python\\Python312\\Lib\\site-packages\\keras\\src\\saving\\saving_lib.py:396: UserWarning: Skipping variable loading for optimizer 'rmsprop', because it has 8 variables whereas the saved optimizer has 14 variables. \n",
      "  trackable.load_own_variables(weights_store.get(inner_path))\n"
     ]
    }
   ],
   "source": [
    "from tensorflow.keras.models import load_model\n",
    "\n",
    "# Load the pre-trained model\n",
    "model = load_model('NN_model.keras')"
   ]
  },
  {
   "cell_type": "code",
   "execution_count": 22,
   "metadata": {},
   "outputs": [],
   "source": [
    "# Remove the last layer and add a new Dense layer for regression\n",
    "model.pop()  # Remove the last layer\n"
   ]
  },
  {
   "cell_type": "code",
   "execution_count": 30,
   "metadata": {},
   "outputs": [],
   "source": [
    "import keras as keras\n",
    "from tensorflow.keras.layers import Input, Dense\n",
    "from tensorflow.keras.models import Model\n",
    "\n",
    "# Check the model type to get input shape correctly\n",
    "if isinstance(model, keras.Sequential):\n",
    "    # For Sequential models, retrieve input shape this way\n",
    "    input_shape = model.input_shape[1:]  # Skip the batch size part\n",
    "else:\n",
    "    # For Functional models, retrieve input shape from the first input layer\n",
    "    input_shape = model.layers[0].input.shape[1:]\n",
    "\n",
    "# Define a new input layer that explicitly matches the input shape of the base model\n",
    "new_input = Input(shape=input_shape)\n",
    "\n",
    "x = new_input\n",
    "for layer in model.layers[:-1]:  # Exclude the last layer of the pre-trained model\n",
    "    x = layer(x)\n",
    "\n"
   ]
  },
  {
   "cell_type": "code",
   "execution_count": null,
   "metadata": {},
   "outputs": [],
   "source": [
    "# Add new layers for the regression task\n",
    "x = Dense(128, activation='relu')(x)  # Example of an additional layer, adjust numbers as needed\n",
    "new_output = Dense(1, activation='linear')(x)  # New output layer for regression\n",
    "\n",
    "# Create the new model\n",
    "new_model = Model(inputs=new_input, outputs=new_output)\n",
    "\n",
    "# Optionally, freeze the earlier layers\n",
    "for layer in new_model.layers[:-1]:\n",
    "    layer.trainable = False\n"
   ]
  },
  {
   "cell_type": "code",
   "execution_count": null,
   "metadata": {},
   "outputs": [],
   "source": [
    "# Compile the new model with a regression loss function\n",
    "new_model.compile(optimizer='adam', loss='mean_squared_error', metrics=['mae'])"
   ]
  }
 ],
 "metadata": {
  "kernelspec": {
   "display_name": "Python 3",
   "language": "python",
   "name": "python3"
  },
  "language_info": {
   "codemirror_mode": {
    "name": "ipython",
    "version": 3
   },
   "file_extension": ".py",
   "mimetype": "text/x-python",
   "name": "python",
   "nbconvert_exporter": "python",
   "pygments_lexer": "ipython3",
   "version": "3.12.3"
  }
 },
 "nbformat": 4,
 "nbformat_minor": 2
}
