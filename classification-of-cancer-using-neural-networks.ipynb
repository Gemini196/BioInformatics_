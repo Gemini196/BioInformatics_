{
 "cells": [
  {
   "cell_type": "markdown",
   "metadata": {
    "papermill": {
     "duration": 0.022884,
     "end_time": "2021-01-06T20:57:20.324918",
     "exception": false,
     "start_time": "2021-01-06T20:57:20.302034",
     "status": "completed"
    },
    "tags": []
   },
   "source": [
    "# Importing the Modules"
   ]
  },
  {
   "cell_type": "markdown",
   "metadata": {
    "papermill": {
     "duration": 0.020974,
     "end_time": "2021-01-06T20:57:20.367125",
     "exception": false,
     "start_time": "2021-01-06T20:57:20.346151",
     "status": "completed"
    },
    "tags": []
   },
   "source": [
    "The first 4 lines will make your code reproducible."
   ]
  },
  {
   "cell_type": "code",
   "execution_count": 1,
   "metadata": {
    "_cell_guid": "b1076dfc-b9ad-4769-8c92-a6c4dae69d19",
    "_uuid": "8f2839f25d086af736a60e9eeb907d3b93b6e0e5",
    "execution": {
     "iopub.execute_input": "2021-01-06T20:57:20.418213Z",
     "iopub.status.busy": "2021-01-06T20:57:20.417413Z",
     "iopub.status.idle": "2021-01-06T20:57:26.259108Z",
     "shell.execute_reply": "2021-01-06T20:57:26.258448Z"
    },
    "papermill": {
     "duration": 5.869991,
     "end_time": "2021-01-06T20:57:26.259218",
     "exception": false,
     "start_time": "2021-01-06T20:57:20.389227",
     "status": "completed"
    },
    "tags": []
   },
   "outputs": [],
   "source": [
    "import numpy as np\n",
    "np.random.seed(0)\n",
    "from tensorflow.random import set_seed\n",
    "set_seed(0)\n",
    "\n",
    "import pandas as pd\n",
    "from tensorflow import keras\n",
    "from sklearn.preprocessing import StandardScaler\n",
    "from sklearn.decomposition import PCA\n",
    "from tensorflow.keras import layers\n",
    "from sklearn.metrics import accuracy_score, confusion_matrix\n",
    "import matplotlib.pyplot as plt\n",
    "import seaborn as sns\n",
    "from mpl_toolkits.mplot3d import Axes3D"
   ]
  },
  {
   "cell_type": "markdown",
   "metadata": {
    "papermill": {
     "duration": 0.021793,
     "end_time": "2021-01-06T20:57:26.303339",
     "exception": false,
     "start_time": "2021-01-06T20:57:26.281546",
     "status": "completed"
    },
    "tags": []
   },
   "source": [
    "# Loading Data"
   ]
  },
  {
   "cell_type": "markdown",
   "metadata": {
    "papermill": {
     "duration": 0.021033,
     "end_time": "2021-01-06T20:57:26.345945",
     "exception": false,
     "start_time": "2021-01-06T20:57:26.324912",
     "status": "completed"
    },
    "tags": []
   },
   "source": [
    "The \"actual\" file contains all 72 patients in the study and the labels."
   ]
  },
  {
   "cell_type": "code",
   "execution_count": 2,
   "metadata": {
    "execution": {
     "iopub.execute_input": "2021-01-06T20:57:26.396754Z",
     "iopub.status.busy": "2021-01-06T20:57:26.396191Z",
     "iopub.status.idle": "2021-01-06T20:57:26.420867Z",
     "shell.execute_reply": "2021-01-06T20:57:26.421720Z"
    },
    "papermill": {
     "duration": 0.054858,
     "end_time": "2021-01-06T20:57:26.421909",
     "exception": false,
     "start_time": "2021-01-06T20:57:26.367051",
     "status": "completed"
    },
    "tags": []
   },
   "outputs": [
    {
     "data": {
      "text/html": [
       "<div>\n",
       "<style scoped>\n",
       "    .dataframe tbody tr th:only-of-type {\n",
       "        vertical-align: middle;\n",
       "    }\n",
       "\n",
       "    .dataframe tbody tr th {\n",
       "        vertical-align: top;\n",
       "    }\n",
       "\n",
       "    .dataframe thead th {\n",
       "        text-align: right;\n",
       "    }\n",
       "</style>\n",
       "<table border=\"1\" class=\"dataframe\">\n",
       "  <thead>\n",
       "    <tr style=\"text-align: right;\">\n",
       "      <th></th>\n",
       "      <th>patient</th>\n",
       "      <th>cancer</th>\n",
       "    </tr>\n",
       "  </thead>\n",
       "  <tbody>\n",
       "    <tr>\n",
       "      <th>0</th>\n",
       "      <td>1</td>\n",
       "      <td>ALL</td>\n",
       "    </tr>\n",
       "    <tr>\n",
       "      <th>1</th>\n",
       "      <td>2</td>\n",
       "      <td>ALL</td>\n",
       "    </tr>\n",
       "    <tr>\n",
       "      <th>2</th>\n",
       "      <td>3</td>\n",
       "      <td>ALL</td>\n",
       "    </tr>\n",
       "    <tr>\n",
       "      <th>3</th>\n",
       "      <td>4</td>\n",
       "      <td>ALL</td>\n",
       "    </tr>\n",
       "    <tr>\n",
       "      <th>4</th>\n",
       "      <td>5</td>\n",
       "      <td>ALL</td>\n",
       "    </tr>\n",
       "  </tbody>\n",
       "</table>\n",
       "</div>"
      ],
      "text/plain": [
       "   patient cancer\n",
       "0        1    ALL\n",
       "1        2    ALL\n",
       "2        3    ALL\n",
       "3        4    ALL\n",
       "4        5    ALL"
      ]
     },
     "execution_count": 2,
     "metadata": {},
     "output_type": "execute_result"
    }
   ],
   "source": [
    "actual_df = pd.read_csv('./DATA/kaggle_dataset/actual.csv')\n",
    "actual_df.head()"
   ]
  },
  {
   "cell_type": "code",
   "execution_count": 3,
   "metadata": {
    "execution": {
     "iopub.execute_input": "2021-01-06T20:57:26.487635Z",
     "iopub.status.busy": "2021-01-06T20:57:26.486734Z",
     "iopub.status.idle": "2021-01-06T20:57:26.496147Z",
     "shell.execute_reply": "2021-01-06T20:57:26.496764Z"
    },
    "papermill": {
     "duration": 0.038276,
     "end_time": "2021-01-06T20:57:26.496977",
     "exception": false,
     "start_time": "2021-01-06T20:57:26.458701",
     "status": "completed"
    },
    "tags": []
   },
   "outputs": [
    {
     "data": {
      "text/plain": [
       "cancer\n",
       "ALL    47\n",
       "AML    25\n",
       "Name: count, dtype: int64"
      ]
     },
     "execution_count": 3,
     "metadata": {},
     "output_type": "execute_result"
    }
   ],
   "source": [
    "actual_df['cancer'].value_counts()"
   ]
  },
  {
   "cell_type": "code",
   "execution_count": 4,
   "metadata": {
    "execution": {
     "iopub.execute_input": "2021-01-06T20:57:26.556122Z",
     "iopub.status.busy": "2021-01-06T20:57:26.555202Z",
     "iopub.status.idle": "2021-01-06T20:57:26.560610Z",
     "shell.execute_reply": "2021-01-06T20:57:26.561093Z"
    },
    "papermill": {
     "duration": 0.037179,
     "end_time": "2021-01-06T20:57:26.561200",
     "exception": false,
     "start_time": "2021-01-06T20:57:26.524021",
     "status": "completed"
    },
    "tags": []
   },
   "outputs": [
    {
     "data": {
      "text/plain": [
       "(72, 2)"
      ]
     },
     "execution_count": 4,
     "metadata": {},
     "output_type": "execute_result"
    }
   ],
   "source": [
    "actual_df.shape"
   ]
  },
  {
   "cell_type": "markdown",
   "metadata": {
    "papermill": {
     "duration": 0.022516,
     "end_time": "2021-01-06T20:57:26.606523",
     "exception": false,
     "start_time": "2021-01-06T20:57:26.584007",
     "status": "completed"
    },
    "tags": []
   },
   "source": [
    "Recode label to numeric."
   ]
  },
  {
   "cell_type": "code",
   "execution_count": 5,
   "metadata": {
    "execution": {
     "iopub.execute_input": "2021-01-06T20:57:26.660870Z",
     "iopub.status.busy": "2021-01-06T20:57:26.660280Z",
     "iopub.status.idle": "2021-01-06T20:57:26.662152Z",
     "shell.execute_reply": "2021-01-06T20:57:26.662581Z"
    },
    "papermill": {
     "duration": 0.033495,
     "end_time": "2021-01-06T20:57:26.662690",
     "exception": false,
     "start_time": "2021-01-06T20:57:26.629195",
     "status": "completed"
    },
    "tags": []
   },
   "outputs": [
    {
     "name": "stderr",
     "output_type": "stream",
     "text": [
      "C:\\Users\\lessickyeela\\AppData\\Local\\Temp\\ipykernel_32756\\2421090632.py:1: FutureWarning: Downcasting behavior in `replace` is deprecated and will be removed in a future version. To retain the old behavior, explicitly call `result.infer_objects(copy=False)`. To opt-in to the future behavior, set `pd.set_option('future.no_silent_downcasting', True)`\n",
      "  y = actual_df.replace({'ALL':0, 'AML':1})\n"
     ]
    }
   ],
   "source": [
    "y = actual_df.replace({'ALL':0, 'AML':1})\n",
    "y = y.set_index('patient')\n",
    "labels = ['ALL', 'AML']"
   ]
  },
  {
   "cell_type": "markdown",
   "metadata": {
    "papermill": {
     "duration": 0.023569,
     "end_time": "2021-01-06T20:57:26.709481",
     "exception": false,
     "start_time": "2021-01-06T20:57:26.685912",
     "status": "completed"
    },
    "tags": []
   },
   "source": [
    "Loading training and testing datasets."
   ]
  },
  {
   "cell_type": "code",
   "execution_count": 6,
   "metadata": {
    "_cell_guid": "79c7e3d0-c299-4dcb-8224-4455121ee9b0",
    "_uuid": "d629ff2d2480ee46fbb7e2d37f6b5fab8052498a",
    "execution": {
     "iopub.execute_input": "2021-01-06T20:57:26.762726Z",
     "iopub.status.busy": "2021-01-06T20:57:26.762164Z",
     "iopub.status.idle": "2021-01-06T20:57:27.003280Z",
     "shell.execute_reply": "2021-01-06T20:57:27.002776Z"
    },
    "papermill": {
     "duration": 0.270725,
     "end_time": "2021-01-06T20:57:27.003395",
     "exception": false,
     "start_time": "2021-01-06T20:57:26.732670",
     "status": "completed"
    },
    "tags": []
   },
   "outputs": [],
   "source": [
    "train_df = pd.read_csv('./DATA/kaggle_dataset/data_set_ALL_AML_train.csv')\n",
    "test_df = pd.read_csv('./DATA/kaggle_dataset/data_set_ALL_AML_independent.csv')"
   ]
  },
  {
   "cell_type": "code",
   "execution_count": 7,
   "metadata": {
    "execution": {
     "iopub.execute_input": "2021-01-06T20:57:27.060794Z",
     "iopub.status.busy": "2021-01-06T20:57:27.060025Z",
     "iopub.status.idle": "2021-01-06T20:57:27.064218Z",
     "shell.execute_reply": "2021-01-06T20:57:27.063480Z"
    },
    "papermill": {
     "duration": 0.037519,
     "end_time": "2021-01-06T20:57:27.064325",
     "exception": false,
     "start_time": "2021-01-06T20:57:27.026806",
     "status": "completed"
    },
    "tags": []
   },
   "outputs": [
    {
     "name": "stdout",
     "output_type": "stream",
     "text": [
      "Shape of Training Data:  (7129, 78)\n",
      "Shape of Testing Data:  (7129, 70)\n"
     ]
    }
   ],
   "source": [
    "print(\"Shape of Training Data: \", train_df.shape)\n",
    "print(\"Shape of Testing Data: \", test_df.shape)"
   ]
  },
  {
   "cell_type": "code",
   "execution_count": 8,
   "metadata": {
    "execution": {
     "iopub.execute_input": "2021-01-06T20:57:27.136436Z",
     "iopub.status.busy": "2021-01-06T20:57:27.123643Z",
     "iopub.status.idle": "2021-01-06T20:57:27.146170Z",
     "shell.execute_reply": "2021-01-06T20:57:27.147021Z"
    },
    "papermill": {
     "duration": 0.058376,
     "end_time": "2021-01-06T20:57:27.147226",
     "exception": false,
     "start_time": "2021-01-06T20:57:27.088850",
     "status": "completed"
    },
    "tags": []
   },
   "outputs": [
    {
     "data": {
      "text/html": [
       "<div>\n",
       "<style scoped>\n",
       "    .dataframe tbody tr th:only-of-type {\n",
       "        vertical-align: middle;\n",
       "    }\n",
       "\n",
       "    .dataframe tbody tr th {\n",
       "        vertical-align: top;\n",
       "    }\n",
       "\n",
       "    .dataframe thead th {\n",
       "        text-align: right;\n",
       "    }\n",
       "</style>\n",
       "<table border=\"1\" class=\"dataframe\">\n",
       "  <thead>\n",
       "    <tr style=\"text-align: right;\">\n",
       "      <th></th>\n",
       "      <th>Gene Description</th>\n",
       "      <th>Gene Accession Number</th>\n",
       "      <th>1</th>\n",
       "      <th>call</th>\n",
       "      <th>2</th>\n",
       "      <th>call.1</th>\n",
       "      <th>3</th>\n",
       "      <th>call.2</th>\n",
       "      <th>4</th>\n",
       "      <th>call.3</th>\n",
       "      <th>...</th>\n",
       "      <th>29</th>\n",
       "      <th>call.33</th>\n",
       "      <th>30</th>\n",
       "      <th>call.34</th>\n",
       "      <th>31</th>\n",
       "      <th>call.35</th>\n",
       "      <th>32</th>\n",
       "      <th>call.36</th>\n",
       "      <th>33</th>\n",
       "      <th>call.37</th>\n",
       "    </tr>\n",
       "  </thead>\n",
       "  <tbody>\n",
       "    <tr>\n",
       "      <th>0</th>\n",
       "      <td>AFFX-BioB-5_at (endogenous control)</td>\n",
       "      <td>AFFX-BioB-5_at</td>\n",
       "      <td>-214</td>\n",
       "      <td>A</td>\n",
       "      <td>-139</td>\n",
       "      <td>A</td>\n",
       "      <td>-76</td>\n",
       "      <td>A</td>\n",
       "      <td>-135</td>\n",
       "      <td>A</td>\n",
       "      <td>...</td>\n",
       "      <td>15</td>\n",
       "      <td>A</td>\n",
       "      <td>-318</td>\n",
       "      <td>A</td>\n",
       "      <td>-32</td>\n",
       "      <td>A</td>\n",
       "      <td>-124</td>\n",
       "      <td>A</td>\n",
       "      <td>-135</td>\n",
       "      <td>A</td>\n",
       "    </tr>\n",
       "    <tr>\n",
       "      <th>1</th>\n",
       "      <td>AFFX-BioB-M_at (endogenous control)</td>\n",
       "      <td>AFFX-BioB-M_at</td>\n",
       "      <td>-153</td>\n",
       "      <td>A</td>\n",
       "      <td>-73</td>\n",
       "      <td>A</td>\n",
       "      <td>-49</td>\n",
       "      <td>A</td>\n",
       "      <td>-114</td>\n",
       "      <td>A</td>\n",
       "      <td>...</td>\n",
       "      <td>-114</td>\n",
       "      <td>A</td>\n",
       "      <td>-192</td>\n",
       "      <td>A</td>\n",
       "      <td>-49</td>\n",
       "      <td>A</td>\n",
       "      <td>-79</td>\n",
       "      <td>A</td>\n",
       "      <td>-186</td>\n",
       "      <td>A</td>\n",
       "    </tr>\n",
       "    <tr>\n",
       "      <th>2</th>\n",
       "      <td>AFFX-BioB-3_at (endogenous control)</td>\n",
       "      <td>AFFX-BioB-3_at</td>\n",
       "      <td>-58</td>\n",
       "      <td>A</td>\n",
       "      <td>-1</td>\n",
       "      <td>A</td>\n",
       "      <td>-307</td>\n",
       "      <td>A</td>\n",
       "      <td>265</td>\n",
       "      <td>A</td>\n",
       "      <td>...</td>\n",
       "      <td>2</td>\n",
       "      <td>A</td>\n",
       "      <td>-95</td>\n",
       "      <td>A</td>\n",
       "      <td>49</td>\n",
       "      <td>A</td>\n",
       "      <td>-37</td>\n",
       "      <td>A</td>\n",
       "      <td>-70</td>\n",
       "      <td>A</td>\n",
       "    </tr>\n",
       "    <tr>\n",
       "      <th>3</th>\n",
       "      <td>AFFX-BioC-5_at (endogenous control)</td>\n",
       "      <td>AFFX-BioC-5_at</td>\n",
       "      <td>88</td>\n",
       "      <td>A</td>\n",
       "      <td>283</td>\n",
       "      <td>A</td>\n",
       "      <td>309</td>\n",
       "      <td>A</td>\n",
       "      <td>12</td>\n",
       "      <td>A</td>\n",
       "      <td>...</td>\n",
       "      <td>193</td>\n",
       "      <td>A</td>\n",
       "      <td>312</td>\n",
       "      <td>A</td>\n",
       "      <td>230</td>\n",
       "      <td>P</td>\n",
       "      <td>330</td>\n",
       "      <td>A</td>\n",
       "      <td>337</td>\n",
       "      <td>A</td>\n",
       "    </tr>\n",
       "    <tr>\n",
       "      <th>4</th>\n",
       "      <td>AFFX-BioC-3_at (endogenous control)</td>\n",
       "      <td>AFFX-BioC-3_at</td>\n",
       "      <td>-295</td>\n",
       "      <td>A</td>\n",
       "      <td>-264</td>\n",
       "      <td>A</td>\n",
       "      <td>-376</td>\n",
       "      <td>A</td>\n",
       "      <td>-419</td>\n",
       "      <td>A</td>\n",
       "      <td>...</td>\n",
       "      <td>-51</td>\n",
       "      <td>A</td>\n",
       "      <td>-139</td>\n",
       "      <td>A</td>\n",
       "      <td>-367</td>\n",
       "      <td>A</td>\n",
       "      <td>-188</td>\n",
       "      <td>A</td>\n",
       "      <td>-407</td>\n",
       "      <td>A</td>\n",
       "    </tr>\n",
       "  </tbody>\n",
       "</table>\n",
       "<p>5 rows × 78 columns</p>\n",
       "</div>"
      ],
      "text/plain": [
       "                      Gene Description Gene Accession Number    1 call    2  \\\n",
       "0  AFFX-BioB-5_at (endogenous control)        AFFX-BioB-5_at -214    A -139   \n",
       "1  AFFX-BioB-M_at (endogenous control)        AFFX-BioB-M_at -153    A  -73   \n",
       "2  AFFX-BioB-3_at (endogenous control)        AFFX-BioB-3_at  -58    A   -1   \n",
       "3  AFFX-BioC-5_at (endogenous control)        AFFX-BioC-5_at   88    A  283   \n",
       "4  AFFX-BioC-3_at (endogenous control)        AFFX-BioC-3_at -295    A -264   \n",
       "\n",
       "  call.1    3 call.2    4 call.3  ...   29 call.33   30 call.34   31 call.35  \\\n",
       "0      A  -76      A -135      A  ...   15       A -318       A  -32       A   \n",
       "1      A  -49      A -114      A  ... -114       A -192       A  -49       A   \n",
       "2      A -307      A  265      A  ...    2       A  -95       A   49       A   \n",
       "3      A  309      A   12      A  ...  193       A  312       A  230       P   \n",
       "4      A -376      A -419      A  ...  -51       A -139       A -367       A   \n",
       "\n",
       "    32 call.36   33 call.37  \n",
       "0 -124       A -135       A  \n",
       "1  -79       A -186       A  \n",
       "2  -37       A  -70       A  \n",
       "3  330       A  337       A  \n",
       "4 -188       A -407       A  \n",
       "\n",
       "[5 rows x 78 columns]"
      ]
     },
     "execution_count": 8,
     "metadata": {},
     "output_type": "execute_result"
    }
   ],
   "source": [
    "train_df.head()"
   ]
  },
  {
   "cell_type": "markdown",
   "metadata": {
    "papermill": {
     "duration": 0.024232,
     "end_time": "2021-01-06T20:57:27.199070",
     "exception": false,
     "start_time": "2021-01-06T20:57:27.174838",
     "status": "completed"
    },
    "tags": []
   },
   "source": [
    "The 7129 gene descriptions are provided as the rows and the values for each patient as the columns. This will clearly require some tidying up."
   ]
  },
  {
   "cell_type": "markdown",
   "metadata": {
    "papermill": {
     "duration": 0.024088,
     "end_time": "2021-01-06T20:57:27.247519",
     "exception": false,
     "start_time": "2021-01-06T20:57:27.223431",
     "status": "completed"
    },
    "tags": []
   },
   "source": [
    "We can remove \"call\" columns from training and testing dataframes."
   ]
  },
  {
   "cell_type": "code",
   "execution_count": 9,
   "metadata": {
    "execution": {
     "iopub.execute_input": "2021-01-06T20:57:27.299387Z",
     "iopub.status.busy": "2021-01-06T20:57:27.298853Z",
     "iopub.status.idle": "2021-01-06T20:57:27.308665Z",
     "shell.execute_reply": "2021-01-06T20:57:27.309076Z"
    },
    "papermill": {
     "duration": 0.037123,
     "end_time": "2021-01-06T20:57:27.309186",
     "exception": false,
     "start_time": "2021-01-06T20:57:27.272063",
     "status": "completed"
    },
    "tags": []
   },
   "outputs": [],
   "source": [
    "train_to_keep=[col for col in train_df.columns if \"call\" not in col]\n",
    "test_to_keep=[col for col in test_df.columns if \"call\" not in col]\n",
    "\n",
    "X_train = train_df[train_to_keep]\n",
    "X_test = test_df[test_to_keep]"
   ]
  },
  {
   "cell_type": "markdown",
   "metadata": {
    "papermill": {
     "duration": 0.024213,
     "end_time": "2021-01-06T20:57:27.358227",
     "exception": false,
     "start_time": "2021-01-06T20:57:27.334014",
     "status": "completed"
    },
    "tags": []
   },
   "source": [
    "Now we can simply transpose both training and testing dataframes so that genes become columns(features) and patients become rows."
   ]
  },
  {
   "cell_type": "code",
   "execution_count": 10,
   "metadata": {
    "execution": {
     "iopub.execute_input": "2021-01-06T20:57:27.410481Z",
     "iopub.status.busy": "2021-01-06T20:57:27.409983Z",
     "iopub.status.idle": "2021-01-06T20:57:28.086195Z",
     "shell.execute_reply": "2021-01-06T20:57:28.085665Z"
    },
    "papermill": {
     "duration": 0.703667,
     "end_time": "2021-01-06T20:57:28.086313",
     "exception": false,
     "start_time": "2021-01-06T20:57:27.382646",
     "status": "completed"
    },
    "tags": []
   },
   "outputs": [],
   "source": [
    "X_train = X_train.T\n",
    "X_test = X_test.T"
   ]
  },
  {
   "cell_type": "markdown",
   "metadata": {
    "papermill": {
     "duration": 0.025442,
     "end_time": "2021-01-06T20:57:28.137204",
     "exception": false,
     "start_time": "2021-01-06T20:57:28.111762",
     "status": "completed"
    },
    "tags": []
   },
   "source": [
    "The first 2 rows are duplicated so we can remove 'Gene Description' and set 'Gene Accession Number' as the column headers."
   ]
  },
  {
   "cell_type": "code",
   "execution_count": 11,
   "metadata": {
    "execution": {
     "iopub.execute_input": "2021-01-06T20:57:28.194986Z",
     "iopub.status.busy": "2021-01-06T20:57:28.194443Z",
     "iopub.status.idle": "2021-01-06T20:57:28.208933Z",
     "shell.execute_reply": "2021-01-06T20:57:28.209407Z"
    },
    "papermill": {
     "duration": 0.047208,
     "end_time": "2021-01-06T20:57:28.209531",
     "exception": false,
     "start_time": "2021-01-06T20:57:28.162323",
     "status": "completed"
    },
    "tags": []
   },
   "outputs": [],
   "source": [
    "X_train.columns = X_train.iloc[1]\n",
    "X_test.columns = X_test.iloc[1]\n",
    "\n",
    "X_train = X_train.drop(['Gene Description', 'Gene Accession Number'])\n",
    "X_test = X_test.drop(['Gene Description', 'Gene Accession Number'])"
   ]
  },
  {
   "cell_type": "markdown",
   "metadata": {
    "papermill": {
     "duration": 0.024668,
     "end_time": "2021-01-06T20:57:28.259243",
     "exception": false,
     "start_time": "2021-01-06T20:57:28.234575",
     "status": "completed"
    },
    "tags": []
   },
   "source": [
    "Neither the training and testing row indexes are not in numeric order, so it's important that we reorder these, so that the labels will line up with the corresponding data."
   ]
  },
  {
   "cell_type": "code",
   "execution_count": 12,
   "metadata": {
    "execution": {
     "iopub.execute_input": "2021-01-06T20:57:28.312898Z",
     "iopub.status.busy": "2021-01-06T20:57:28.312363Z",
     "iopub.status.idle": "2021-01-06T20:57:28.333296Z",
     "shell.execute_reply": "2021-01-06T20:57:28.332805Z"
    },
    "papermill": {
     "duration": 0.048665,
     "end_time": "2021-01-06T20:57:28.333412",
     "exception": false,
     "start_time": "2021-01-06T20:57:28.284747",
     "status": "completed"
    },
    "tags": []
   },
   "outputs": [],
   "source": [
    "X_train.index = X_train.index.astype(int)\n",
    "X_train.sort_index(inplace=True)\n",
    "\n",
    "X_test.index = X_test.index.astype(int)\n",
    "X_test.sort_index(inplace=True)"
   ]
  },
  {
   "cell_type": "markdown",
   "metadata": {
    "papermill": {
     "duration": 0.024751,
     "end_time": "2021-01-06T20:57:28.383471",
     "exception": false,
     "start_time": "2021-01-06T20:57:28.358720",
     "status": "completed"
    },
    "tags": []
   },
   "source": [
    "In the end, our data looks like this:"
   ]
  },
  {
   "cell_type": "code",
   "execution_count": 13,
   "metadata": {
    "execution": {
     "iopub.execute_input": "2021-01-06T20:57:28.441628Z",
     "iopub.status.busy": "2021-01-06T20:57:28.440117Z",
     "iopub.status.idle": "2021-01-06T20:57:28.445241Z",
     "shell.execute_reply": "2021-01-06T20:57:28.446098Z"
    },
    "papermill": {
     "duration": 0.037289,
     "end_time": "2021-01-06T20:57:28.446263",
     "exception": false,
     "start_time": "2021-01-06T20:57:28.408974",
     "status": "completed"
    },
    "tags": []
   },
   "outputs": [
    {
     "name": "stdout",
     "output_type": "stream",
     "text": [
      "Shape of Training data:\t (38, 7129)\n",
      "Shape of Testing Data:\t (34, 7129)\n"
     ]
    }
   ],
   "source": [
    "print(\"Shape of Training data:\\t\", X_train.shape)\n",
    "print(\"Shape of Testing Data:\\t\", X_test.shape)"
   ]
  },
  {
   "cell_type": "code",
   "execution_count": 14,
   "metadata": {
    "execution": {
     "iopub.execute_input": "2021-01-06T20:57:28.510892Z",
     "iopub.status.busy": "2021-01-06T20:57:28.510382Z",
     "iopub.status.idle": "2021-01-06T20:57:28.530398Z",
     "shell.execute_reply": "2021-01-06T20:57:28.530917Z"
    },
    "papermill": {
     "duration": 0.052866,
     "end_time": "2021-01-06T20:57:28.531043",
     "exception": false,
     "start_time": "2021-01-06T20:57:28.478177",
     "status": "completed"
    },
    "tags": []
   },
   "outputs": [
    {
     "data": {
      "text/html": [
       "<div>\n",
       "<style scoped>\n",
       "    .dataframe tbody tr th:only-of-type {\n",
       "        vertical-align: middle;\n",
       "    }\n",
       "\n",
       "    .dataframe tbody tr th {\n",
       "        vertical-align: top;\n",
       "    }\n",
       "\n",
       "    .dataframe thead th {\n",
       "        text-align: right;\n",
       "    }\n",
       "</style>\n",
       "<table border=\"1\" class=\"dataframe\">\n",
       "  <thead>\n",
       "    <tr style=\"text-align: right;\">\n",
       "      <th>Gene Accession Number</th>\n",
       "      <th>AFFX-BioB-5_at</th>\n",
       "      <th>AFFX-BioB-M_at</th>\n",
       "      <th>AFFX-BioB-3_at</th>\n",
       "      <th>AFFX-BioC-5_at</th>\n",
       "      <th>AFFX-BioC-3_at</th>\n",
       "      <th>AFFX-BioDn-5_at</th>\n",
       "      <th>AFFX-BioDn-3_at</th>\n",
       "      <th>AFFX-CreX-5_at</th>\n",
       "      <th>AFFX-CreX-3_at</th>\n",
       "      <th>AFFX-BioB-5_st</th>\n",
       "      <th>...</th>\n",
       "      <th>U48730_at</th>\n",
       "      <th>U58516_at</th>\n",
       "      <th>U73738_at</th>\n",
       "      <th>X06956_at</th>\n",
       "      <th>X16699_at</th>\n",
       "      <th>X83863_at</th>\n",
       "      <th>Z17240_at</th>\n",
       "      <th>L49218_f_at</th>\n",
       "      <th>M71243_f_at</th>\n",
       "      <th>Z78285_f_at</th>\n",
       "    </tr>\n",
       "  </thead>\n",
       "  <tbody>\n",
       "    <tr>\n",
       "      <th>1</th>\n",
       "      <td>-214</td>\n",
       "      <td>-153</td>\n",
       "      <td>-58</td>\n",
       "      <td>88</td>\n",
       "      <td>-295</td>\n",
       "      <td>-558</td>\n",
       "      <td>199</td>\n",
       "      <td>-176</td>\n",
       "      <td>252</td>\n",
       "      <td>206</td>\n",
       "      <td>...</td>\n",
       "      <td>185</td>\n",
       "      <td>511</td>\n",
       "      <td>-125</td>\n",
       "      <td>389</td>\n",
       "      <td>-37</td>\n",
       "      <td>793</td>\n",
       "      <td>329</td>\n",
       "      <td>36</td>\n",
       "      <td>191</td>\n",
       "      <td>-37</td>\n",
       "    </tr>\n",
       "    <tr>\n",
       "      <th>2</th>\n",
       "      <td>-139</td>\n",
       "      <td>-73</td>\n",
       "      <td>-1</td>\n",
       "      <td>283</td>\n",
       "      <td>-264</td>\n",
       "      <td>-400</td>\n",
       "      <td>-330</td>\n",
       "      <td>-168</td>\n",
       "      <td>101</td>\n",
       "      <td>74</td>\n",
       "      <td>...</td>\n",
       "      <td>169</td>\n",
       "      <td>837</td>\n",
       "      <td>-36</td>\n",
       "      <td>442</td>\n",
       "      <td>-17</td>\n",
       "      <td>782</td>\n",
       "      <td>295</td>\n",
       "      <td>11</td>\n",
       "      <td>76</td>\n",
       "      <td>-14</td>\n",
       "    </tr>\n",
       "    <tr>\n",
       "      <th>3</th>\n",
       "      <td>-76</td>\n",
       "      <td>-49</td>\n",
       "      <td>-307</td>\n",
       "      <td>309</td>\n",
       "      <td>-376</td>\n",
       "      <td>-650</td>\n",
       "      <td>33</td>\n",
       "      <td>-367</td>\n",
       "      <td>206</td>\n",
       "      <td>-215</td>\n",
       "      <td>...</td>\n",
       "      <td>315</td>\n",
       "      <td>1199</td>\n",
       "      <td>33</td>\n",
       "      <td>168</td>\n",
       "      <td>52</td>\n",
       "      <td>1138</td>\n",
       "      <td>777</td>\n",
       "      <td>41</td>\n",
       "      <td>228</td>\n",
       "      <td>-41</td>\n",
       "    </tr>\n",
       "    <tr>\n",
       "      <th>4</th>\n",
       "      <td>-135</td>\n",
       "      <td>-114</td>\n",
       "      <td>265</td>\n",
       "      <td>12</td>\n",
       "      <td>-419</td>\n",
       "      <td>-585</td>\n",
       "      <td>158</td>\n",
       "      <td>-253</td>\n",
       "      <td>49</td>\n",
       "      <td>31</td>\n",
       "      <td>...</td>\n",
       "      <td>240</td>\n",
       "      <td>835</td>\n",
       "      <td>218</td>\n",
       "      <td>174</td>\n",
       "      <td>-110</td>\n",
       "      <td>627</td>\n",
       "      <td>170</td>\n",
       "      <td>-50</td>\n",
       "      <td>126</td>\n",
       "      <td>-91</td>\n",
       "    </tr>\n",
       "    <tr>\n",
       "      <th>5</th>\n",
       "      <td>-106</td>\n",
       "      <td>-125</td>\n",
       "      <td>-76</td>\n",
       "      <td>168</td>\n",
       "      <td>-230</td>\n",
       "      <td>-284</td>\n",
       "      <td>4</td>\n",
       "      <td>-122</td>\n",
       "      <td>70</td>\n",
       "      <td>252</td>\n",
       "      <td>...</td>\n",
       "      <td>156</td>\n",
       "      <td>649</td>\n",
       "      <td>57</td>\n",
       "      <td>504</td>\n",
       "      <td>-26</td>\n",
       "      <td>250</td>\n",
       "      <td>314</td>\n",
       "      <td>14</td>\n",
       "      <td>56</td>\n",
       "      <td>-25</td>\n",
       "    </tr>\n",
       "  </tbody>\n",
       "</table>\n",
       "<p>5 rows × 7129 columns</p>\n",
       "</div>"
      ],
      "text/plain": [
       "Gene Accession Number AFFX-BioB-5_at AFFX-BioB-M_at AFFX-BioB-3_at  \\\n",
       "1                               -214           -153            -58   \n",
       "2                               -139            -73             -1   \n",
       "3                                -76            -49           -307   \n",
       "4                               -135           -114            265   \n",
       "5                               -106           -125            -76   \n",
       "\n",
       "Gene Accession Number AFFX-BioC-5_at AFFX-BioC-3_at AFFX-BioDn-5_at  \\\n",
       "1                                 88           -295            -558   \n",
       "2                                283           -264            -400   \n",
       "3                                309           -376            -650   \n",
       "4                                 12           -419            -585   \n",
       "5                                168           -230            -284   \n",
       "\n",
       "Gene Accession Number AFFX-BioDn-3_at AFFX-CreX-5_at AFFX-CreX-3_at  \\\n",
       "1                                 199           -176            252   \n",
       "2                                -330           -168            101   \n",
       "3                                  33           -367            206   \n",
       "4                                 158           -253             49   \n",
       "5                                   4           -122             70   \n",
       "\n",
       "Gene Accession Number AFFX-BioB-5_st  ... U48730_at U58516_at U73738_at  \\\n",
       "1                                206  ...       185       511      -125   \n",
       "2                                 74  ...       169       837       -36   \n",
       "3                               -215  ...       315      1199        33   \n",
       "4                                 31  ...       240       835       218   \n",
       "5                                252  ...       156       649        57   \n",
       "\n",
       "Gene Accession Number X06956_at X16699_at X83863_at Z17240_at L49218_f_at  \\\n",
       "1                           389       -37       793       329          36   \n",
       "2                           442       -17       782       295          11   \n",
       "3                           168        52      1138       777          41   \n",
       "4                           174      -110       627       170         -50   \n",
       "5                           504       -26       250       314          14   \n",
       "\n",
       "Gene Accession Number M71243_f_at Z78285_f_at  \n",
       "1                             191         -37  \n",
       "2                              76         -14  \n",
       "3                             228         -41  \n",
       "4                             126         -91  \n",
       "5                              56         -25  \n",
       "\n",
       "[5 rows x 7129 columns]"
      ]
     },
     "execution_count": 14,
     "metadata": {},
     "output_type": "execute_result"
    }
   ],
   "source": [
    "X_train.head()"
   ]
  },
  {
   "cell_type": "markdown",
   "metadata": {
    "papermill": {
     "duration": 0.026215,
     "end_time": "2021-01-06T20:57:28.583005",
     "exception": false,
     "start_time": "2021-01-06T20:57:28.556790",
     "status": "completed"
    },
    "tags": []
   },
   "source": [
    "Now let's split the target labels into training and testing targets."
   ]
  },
  {
   "cell_type": "code",
   "execution_count": 15,
   "metadata": {
    "execution": {
     "iopub.execute_input": "2021-01-06T20:57:28.639100Z",
     "iopub.status.busy": "2021-01-06T20:57:28.638588Z",
     "iopub.status.idle": "2021-01-06T20:57:28.642222Z",
     "shell.execute_reply": "2021-01-06T20:57:28.642645Z"
    },
    "papermill": {
     "duration": 0.033277,
     "end_time": "2021-01-06T20:57:28.642754",
     "exception": false,
     "start_time": "2021-01-06T20:57:28.609477",
     "status": "completed"
    },
    "tags": []
   },
   "outputs": [],
   "source": [
    "y_train = y['cancer'][:38]\n",
    "y_test = y['cancer'][38:]"
   ]
  },
  {
   "cell_type": "markdown",
   "metadata": {
    "papermill": {
     "duration": 0.025722,
     "end_time": "2021-01-06T20:57:28.694450",
     "exception": false,
     "start_time": "2021-01-06T20:57:28.668728",
     "status": "completed"
    },
    "tags": []
   },
   "source": [
    "## Standardizing Features"
   ]
  },
  {
   "cell_type": "markdown",
   "metadata": {
    "papermill": {
     "duration": 0.025204,
     "end_time": "2021-01-06T20:57:28.745659",
     "exception": false,
     "start_time": "2021-01-06T20:57:28.720455",
     "status": "completed"
    },
    "tags": []
   },
   "source": [
    "Note that the test set must use identical scaling to the training set."
   ]
  },
  {
   "cell_type": "code",
   "execution_count": 16,
   "metadata": {
    "execution": {
     "iopub.execute_input": "2021-01-06T20:57:28.800547Z",
     "iopub.status.busy": "2021-01-06T20:57:28.799689Z",
     "iopub.status.idle": "2021-01-06T20:57:28.985184Z",
     "shell.execute_reply": "2021-01-06T20:57:28.985785Z"
    },
    "papermill": {
     "duration": 0.214567,
     "end_time": "2021-01-06T20:57:28.985927",
     "exception": false,
     "start_time": "2021-01-06T20:57:28.771360",
     "status": "completed"
    },
    "tags": []
   },
   "outputs": [],
   "source": [
    "scaler = StandardScaler()\n",
    "X_train_scaled = scaler.fit_transform(X_train)\n",
    "X_test_scaled = scaler.transform(X_test)"
   ]
  },
  {
   "cell_type": "code",
   "execution_count": 17,
   "metadata": {
    "execution": {
     "iopub.execute_input": "2021-01-06T20:57:29.043307Z",
     "iopub.status.busy": "2021-01-06T20:57:29.042496Z",
     "iopub.status.idle": "2021-01-06T20:57:29.840086Z",
     "shell.execute_reply": "2021-01-06T20:57:29.840520Z"
    },
    "papermill": {
     "duration": 0.82781,
     "end_time": "2021-01-06T20:57:29.840643",
     "exception": false,
     "start_time": "2021-01-06T20:57:29.012833",
     "status": "completed"
    },
    "tags": []
   },
   "outputs": [
    {
     "name": "stderr",
     "output_type": "stream",
     "text": [
      "C:\\Users\\lessickyeela\\AppData\\Local\\Temp\\ipykernel_32756\\628790828.py:2: UserWarning: \n",
      "\n",
      "`distplot` is a deprecated function and will be removed in seaborn v0.14.0.\n",
      "\n",
      "Please adapt your code to use either `displot` (a figure-level function with\n",
      "similar flexibility) or `histplot` (an axes-level function for histograms).\n",
      "\n",
      "For a guide to updating your code to use the new functions, please see\n",
      "https://gist.github.com/mwaskom/de44147ed2974457ad6372750bbe5751\n",
      "\n",
      "  sns.distplot(np.concatenate(X_train.values), ax=ax[0]).set_title('Original Data')\n"
     ]
    },
    {
     "name": "stderr",
     "output_type": "stream",
     "text": [
      "C:\\Users\\lessickyeela\\AppData\\Local\\Temp\\ipykernel_32756\\628790828.py:3: UserWarning: \n",
      "\n",
      "`distplot` is a deprecated function and will be removed in seaborn v0.14.0.\n",
      "\n",
      "Please adapt your code to use either `displot` (a figure-level function with\n",
      "similar flexibility) or `histplot` (an axes-level function for histograms).\n",
      "\n",
      "For a guide to updating your code to use the new functions, please see\n",
      "https://gist.github.com/mwaskom/de44147ed2974457ad6372750bbe5751\n",
      "\n",
      "  sns.distplot(np.concatenate(X_train_scaled), ax=ax[1]).set_title('Scaled Data')\n"
     ]
    },
    {
     "data": {
      "image/png": "[encoded data removed]",
      "text/plain": [
       "<Figure size 1500x500 with 2 Axes>"
      ]
     },
     "metadata": {},
     "output_type": "display_data"
    }
   ],
   "source": [
    "fig, ax = plt.subplots(ncols=2, figsize=(15,5))\n",
    "sns.distplot(np.concatenate(X_train.values), ax=ax[0]).set_title('Original Data')\n",
    "sns.distplot(np.concatenate(X_train_scaled), ax=ax[1]).set_title('Scaled Data')\n",
    "plt.tight_layout\n",
    "plt.show()"
   ]
  },
  {
   "cell_type": "markdown",
   "metadata": {
    "papermill": {
     "duration": 0.026403,
     "end_time": "2021-01-06T20:57:29.894062",
     "exception": false,
     "start_time": "2021-01-06T20:57:29.867659",
     "status": "completed"
    },
    "tags": []
   },
   "source": [
    "## Dimentionality reduction(PCA)"
   ]
  },
  {
   "cell_type": "markdown",
   "metadata": {
    "papermill": {
     "duration": 0.027284,
     "end_time": "2021-01-06T20:57:29.948194",
     "exception": false,
     "start_time": "2021-01-06T20:57:29.920910",
     "status": "completed"
    },
    "tags": []
   },
   "source": [
    "You need to apply the same PCA on training and testing sets."
   ]
  },
  {
   "cell_type": "code",
   "execution_count": 18,
   "metadata": {
    "execution": {
     "iopub.execute_input": "2021-01-06T20:57:30.007626Z",
     "iopub.status.busy": "2021-01-06T20:57:30.006758Z",
     "iopub.status.idle": "2021-01-06T20:57:30.085852Z",
     "shell.execute_reply": "2021-01-06T20:57:30.086436Z"
    },
    "papermill": {
     "duration": 0.111623,
     "end_time": "2021-01-06T20:57:30.086619",
     "exception": false,
     "start_time": "2021-01-06T20:57:29.974996",
     "status": "completed"
    },
    "tags": []
   },
   "outputs": [
    {
     "name": "stdout",
     "output_type": "stream",
     "text": [
      "(38, 32)\n",
      "(34, 32)\n"
     ]
    }
   ],
   "source": [
    "pca = PCA(n_components = 0.95)\n",
    "X_train_pca = pca.fit_transform(X_train_scaled)\n",
    "X_test_pca = pca.transform(X_test_scaled)\n",
    "print(X_train_pca.shape)\n",
    "print(X_test_pca.shape)"
   ]
  },
  {
   "cell_type": "markdown",
   "metadata": {
    "papermill": {
     "duration": 0.030292,
     "end_time": "2021-01-06T20:57:30.149907",
     "exception": false,
     "start_time": "2021-01-06T20:57:30.119615",
     "status": "completed"
    },
    "tags": []
   },
   "source": [
    "95% of variance is explained by 32 principal components. We can't plot something in 32 dimensions, so let's just see what the PCA looks like when we just pick the top three compoments."
   ]
  },
  {
   "cell_type": "code",
   "execution_count": 19,
   "metadata": {
    "execution": {
     "iopub.execute_input": "2021-01-06T20:57:30.216103Z",
     "iopub.status.busy": "2021-01-06T20:57:30.215558Z",
     "iopub.status.idle": "2021-01-06T20:57:30.370552Z",
     "shell.execute_reply": "2021-01-06T20:57:30.370053Z"
    },
    "papermill": {
     "duration": 0.19296,
     "end_time": "2021-01-06T20:57:30.370658",
     "exception": false,
     "start_time": "2021-01-06T20:57:30.177698",
     "status": "completed"
    },
    "tags": []
   },
   "outputs": [
    {
     "name": "stderr",
     "output_type": "stream",
     "text": [
      "C:\\Users\\lessickyeela\\AppData\\Local\\Temp\\ipykernel_32756\\3726565206.py:6: UserWarning: No data for colormapping provided via 'c'. Parameters 'cmap' will be ignored\n",
      "  ax.scatter(pca3[:, 0], pca3[:, 1], pca3[:, 2], c=colors, cmap=plt.cm.Paired,linewidths=10)\n"
     ]
    },
    {
     "data": {
      "text/plain": [
       "<Figure size 640x480 with 0 Axes>"
      ]
     },
     "metadata": {},
     "output_type": "display_data"
    }
   ],
   "source": [
    "pca3 = PCA(n_components = 3).fit_transform(X_train_scaled)\n",
    "colors = np.where(y_train==0, 'red', 'blue')\n",
    "plt.clf()\n",
    "fig = plt.figure(1, figsize=(10,6 ))\n",
    "ax = Axes3D(fig, elev=-150, azim=110,)\n",
    "ax.scatter(pca3[:, 0], pca3[:, 1], pca3[:, 2], c=colors, cmap=plt.cm.Paired,linewidths=10)\n",
    "ax.set_title(\"First three PCA directions\")\n",
    "ax.set_xlabel(\"PC1\")\n",
    "ax.set_xticklabels([])\n",
    "ax.set_ylabel(\"PC2\")\n",
    "ax.set_yticklabels([])\n",
    "ax.set_zlabel(\"PC3\")\n",
    "ax.set_zticklabels([])\n",
    "plt.show()"
   ]
  },
  {
   "cell_type": "code",
   "execution_count": 20,
   "metadata": {},
   "outputs": [
    {
     "data": {
      "text/plain": [
       "(32,)"
      ]
     },
     "execution_count": 20,
     "metadata": {},
     "output_type": "execute_result"
    }
   ],
   "source": [
    "X_train_pca[1].shape"
   ]
  },
  {
   "cell_type": "markdown",
   "metadata": {
    "papermill": {
     "duration": 0.032929,
     "end_time": "2021-01-06T20:57:30.441182",
     "exception": false,
     "start_time": "2021-01-06T20:57:30.408253",
     "status": "completed"
    },
    "tags": []
   },
   "source": [
    "# Neural Network"
   ]
  },
  {
   "cell_type": "code",
   "execution_count": 21,
   "metadata": {
    "execution": {
     "iopub.execute_input": "2021-01-06T20:57:30.515887Z",
     "iopub.status.busy": "2021-01-06T20:57:30.515210Z",
     "iopub.status.idle": "2021-01-06T20:57:30.627920Z",
     "shell.execute_reply": "2021-01-06T20:57:30.627363Z"
    },
    "papermill": {
     "duration": 0.147273,
     "end_time": "2021-01-06T20:57:30.628032",
     "exception": false,
     "start_time": "2021-01-06T20:57:30.480759",
     "status": "completed"
    },
    "tags": []
   },
   "outputs": [
    {
     "name": "stderr",
     "output_type": "stream",
     "text": [
      "c:\\Users\\lessickyeela\\AppData\\Local\\Programs\\Python\\Python312\\Lib\\site-packages\\keras\\src\\layers\\core\\dense.py:88: UserWarning: Do not pass an `input_shape`/`input_dim` argument to a layer. When using Sequential models, prefer using an `Input(shape)` object as the first layer in the model instead.\n",
      "  super().__init__(activity_regularizer=activity_regularizer, **kwargs)\n"
     ]
    }
   ],
   "source": [
    "NN_model = keras.Sequential([\n",
    "    layers.Dense(32, activation='relu', input_shape=X_train_pca[1].shape),\n",
    "    layers.Dense(16, activation='relu'),\n",
    "    layers.Dense(1, activation='linear')\n",
    "])"
   ]
  },
  {
   "cell_type": "code",
   "execution_count": 22,
   "metadata": {
    "execution": {
     "iopub.execute_input": "2021-01-06T20:57:30.698313Z",
     "iopub.status.busy": "2021-01-06T20:57:30.697737Z",
     "iopub.status.idle": "2021-01-06T20:57:30.701751Z",
     "shell.execute_reply": "2021-01-06T20:57:30.702150Z"
    },
    "papermill": {
     "duration": 0.044812,
     "end_time": "2021-01-06T20:57:30.702267",
     "exception": false,
     "start_time": "2021-01-06T20:57:30.657455",
     "status": "completed"
    },
    "tags": []
   },
   "outputs": [],
   "source": [
    "NN_model.compile(\n",
    "    loss='binary_crossentropy',\n",
    "    optimizer='adam',\n",
    "    metrics=['binary_accuracy']\n",
    ")\n",
    "\n",
    "NN_model.build()"
   ]
  },
  {
   "cell_type": "code",
   "execution_count": 23,
   "metadata": {},
   "outputs": [
    {
     "name": "stdout",
     "output_type": "stream",
     "text": [
      "Input shape: (None, 32)\n",
      "Output shape: (None, 1)\n"
     ]
    }
   ],
   "source": [
    "# Check input and output specifications\n",
    "print(\"Input shape:\", NN_model.input_shape)\n",
    "print(\"Output shape:\", NN_model.output_shape)"
   ]
  },
  {
   "cell_type": "code",
   "execution_count": 24,
   "metadata": {},
   "outputs": [
    {
     "name": "stdout",
     "output_type": "stream",
     "text": [
      "\u001b[1m1/1\u001b[0m \u001b[32m━━━━━━━━━━━━━━━━━━━━\u001b[0m\u001b[37m\u001b[0m \u001b[1m0s\u001b[0m 147ms/step\n",
      "Dummy Prediction: [[0.]]\n"
     ]
    }
   ],
   "source": [
    "import numpy as np\n",
    "dummy_input = np.zeros((1, 32))  # Create a dummy input that matches the input shape\n",
    "dummy_prediction = NN_model.predict(dummy_input)  # This will finalize the model's structure\n",
    "\n",
    "print(\"Dummy Prediction:\", dummy_prediction)"
   ]
  },
  {
   "cell_type": "code",
   "execution_count": 25,
   "metadata": {
    "execution": {
     "iopub.execute_input": "2021-01-06T20:57:30.764198Z",
     "iopub.status.busy": "2021-01-06T20:57:30.763672Z",
     "iopub.status.idle": "2021-01-06T20:57:30.767235Z",
     "shell.execute_reply": "2021-01-06T20:57:30.767742Z"
    },
    "papermill": {
     "duration": 0.036292,
     "end_time": "2021-01-06T20:57:30.767863",
     "exception": false,
     "start_time": "2021-01-06T20:57:30.731571",
     "status": "completed"
    },
    "tags": []
   },
   "outputs": [],
   "source": [
    "early_stopping = keras.callbacks.EarlyStopping(\n",
    "    patience=5,\n",
    "    min_delta=0.005,\n",
    "    restore_best_weights=True,\n",
    ")"
   ]
  },
  {
   "cell_type": "code",
   "execution_count": 26,
   "metadata": {
    "execution": {
     "iopub.execute_input": "2021-01-06T20:57:30.828519Z",
     "iopub.status.busy": "2021-01-06T20:57:30.828007Z",
     "iopub.status.idle": "2021-01-06T20:57:32.091115Z",
     "shell.execute_reply": "2021-01-06T20:57:32.090513Z"
    },
    "papermill": {
     "duration": 1.294402,
     "end_time": "2021-01-06T20:57:32.091240",
     "exception": false,
     "start_time": "2021-01-06T20:57:30.796838",
     "status": "completed"
    },
    "tags": []
   },
   "outputs": [
    {
     "name": "stdout",
     "output_type": "stream",
     "text": [
      "Epoch 1/200\n"
     ]
    },
    {
     "name": "stdout",
     "output_type": "stream",
     "text": [
      "\u001b[1m5/5\u001b[0m \u001b[32m━━━━━━━━━━━━━━━━━━━━\u001b[0m\u001b[37m\u001b[0m \u001b[1m2s\u001b[0m 90ms/step - binary_accuracy: 0.3829 - loss: 8.9132 - val_binary_accuracy: 0.2941 - val_loss: 8.4065\n",
      "Epoch 2/200\n",
      "\u001b[1m5/5\u001b[0m \u001b[32m━━━━━━━━━━━━━━━━━━━━\u001b[0m\u001b[37m\u001b[0m \u001b[1m0s\u001b[0m 21ms/step - binary_accuracy: 0.4492 - loss: 8.8098 - val_binary_accuracy: 0.3529 - val_loss: 7.8520\n",
      "Epoch 3/200\n",
      "\u001b[1m5/5\u001b[0m \u001b[32m━━━━━━━━━━━━━━━━━━━━\u001b[0m\u001b[37m\u001b[0m \u001b[1m0s\u001b[0m 17ms/step - binary_accuracy: 0.4492 - loss: 8.8098 - val_binary_accuracy: 0.3529 - val_loss: 7.7707\n",
      "Epoch 4/200\n",
      "\u001b[1m5/5\u001b[0m \u001b[32m━━━━━━━━━━━━━━━━━━━━\u001b[0m\u001b[37m\u001b[0m \u001b[1m0s\u001b[0m 19ms/step - binary_accuracy: 0.4492 - loss: 8.8098 - val_binary_accuracy: 0.3824 - val_loss: 7.4070\n",
      "Epoch 5/200\n",
      "\u001b[1m5/5\u001b[0m \u001b[32m━━━━━━━━━━━━━━━━━━━━\u001b[0m\u001b[37m\u001b[0m \u001b[1m0s\u001b[0m 24ms/step - binary_accuracy: 0.4492 - loss: 8.8098 - val_binary_accuracy: 0.3529 - val_loss: 7.3730\n",
      "Epoch 6/200\n",
      "\u001b[1m5/5\u001b[0m \u001b[32m━━━━━━━━━━━━━━━━━━━━\u001b[0m\u001b[37m\u001b[0m \u001b[1m0s\u001b[0m 16ms/step - binary_accuracy: 0.4492 - loss: 8.8098 - val_binary_accuracy: 0.3824 - val_loss: 7.3581\n",
      "Epoch 7/200\n",
      "\u001b[1m5/5\u001b[0m \u001b[32m━━━━━━━━━━━━━━━━━━━━\u001b[0m\u001b[37m\u001b[0m \u001b[1m0s\u001b[0m 16ms/step - binary_accuracy: 0.4492 - loss: 8.8098 - val_binary_accuracy: 0.3824 - val_loss: 7.3500\n",
      "Epoch 8/200\n",
      "\u001b[1m5/5\u001b[0m \u001b[32m━━━━━━━━━━━━━━━━━━━━\u001b[0m\u001b[37m\u001b[0m \u001b[1m0s\u001b[0m 20ms/step - binary_accuracy: 0.4492 - loss: 8.8098 - val_binary_accuracy: 0.3824 - val_loss: 7.3455\n",
      "Epoch 9/200\n",
      "\u001b[1m5/5\u001b[0m \u001b[32m━━━━━━━━━━━━━━━━━━━━\u001b[0m\u001b[37m\u001b[0m \u001b[1m0s\u001b[0m 16ms/step - binary_accuracy: 0.4492 - loss: 8.8098 - val_binary_accuracy: 0.3824 - val_loss: 7.3427\n",
      "Epoch 10/200\n",
      "\u001b[1m5/5\u001b[0m \u001b[32m━━━━━━━━━━━━━━━━━━━━\u001b[0m\u001b[37m\u001b[0m \u001b[1m0s\u001b[0m 19ms/step - binary_accuracy: 0.4492 - loss: 8.8098 - val_binary_accuracy: 0.3824 - val_loss: 7.3411\n",
      "Epoch 11/200\n",
      "\u001b[1m5/5\u001b[0m \u001b[32m━━━━━━━━━━━━━━━━━━━━\u001b[0m\u001b[37m\u001b[0m \u001b[1m0s\u001b[0m 20ms/step - binary_accuracy: 0.4492 - loss: 8.8098 - val_binary_accuracy: 0.3824 - val_loss: 7.3401\n",
      "Epoch 12/200\n",
      "\u001b[1m5/5\u001b[0m \u001b[32m━━━━━━━━━━━━━━━━━━━━\u001b[0m\u001b[37m\u001b[0m \u001b[1m0s\u001b[0m 19ms/step - binary_accuracy: 0.4492 - loss: 8.8098 - val_binary_accuracy: 0.3824 - val_loss: 7.3395\n",
      "Epoch 13/200\n",
      "\u001b[1m5/5\u001b[0m \u001b[32m━━━━━━━━━━━━━━━━━━━━\u001b[0m\u001b[37m\u001b[0m \u001b[1m0s\u001b[0m 18ms/step - binary_accuracy: 0.4492 - loss: 8.8098 - val_binary_accuracy: 0.3824 - val_loss: 7.3391\n",
      "Epoch 14/200\n",
      "\u001b[1m5/5\u001b[0m \u001b[32m━━━━━━━━━━━━━━━━━━━━\u001b[0m\u001b[37m\u001b[0m \u001b[1m0s\u001b[0m 18ms/step - binary_accuracy: 0.4492 - loss: 8.8098 - val_binary_accuracy: 0.3824 - val_loss: 7.3389\n"
     ]
    }
   ],
   "source": [
    "train_history = NN_model.fit(\n",
    "    X_train_pca, y_train,\n",
    "    validation_data=(X_test_pca, y_test),\n",
    "    batch_size = 8,\n",
    "    epochs = 200,\n",
    "    callbacks=[early_stopping]\n",
    ")"
   ]
  },
  {
   "cell_type": "code",
   "execution_count": 27,
   "metadata": {
    "execution": {
     "iopub.execute_input": "2021-01-06T20:57:32.180504Z",
     "iopub.status.busy": "2021-01-06T20:57:32.179678Z",
     "iopub.status.idle": "2021-01-06T20:57:32.284062Z",
     "shell.execute_reply": "2021-01-06T20:57:32.283314Z"
    },
    "papermill": {
     "duration": 0.150068,
     "end_time": "2021-01-06T20:57:32.284164",
     "exception": false,
     "start_time": "2021-01-06T20:57:32.134096",
     "status": "completed"
    },
    "tags": []
   },
   "outputs": [
    {
     "name": "stdout",
     "output_type": "stream",
     "text": [
      "\u001b[1m2/2\u001b[0m \u001b[32m━━━━━━━━━━━━━━━━━━━━\u001b[0m\u001b[37m\u001b[0m \u001b[1m0s\u001b[0m 4ms/step  \n"
     ]
    }
   ],
   "source": [
    "pred = (NN_model.predict(X_test_pca) > 0.5).astype(int)\n"
   ]
  },
  {
   "cell_type": "code",
   "execution_count": 28,
   "metadata": {},
   "outputs": [
    {
     "name": "stdout",
     "output_type": "stream",
     "text": [
      "\u001b[1m2/2\u001b[0m \u001b[32m━━━━━━━━━━━━━━━━━━━━\u001b[0m\u001b[37m\u001b[0m \u001b[1m0s\u001b[0m 7ms/step - binary_accuracy: 0.3695 - loss: 6.1489 \n",
      "Test Loss: 4.6566667556762695, Test MAE: 0.38235294818878174\n"
     ]
    }
   ],
   "source": [
    "test_loss, test_mae = NN_model.evaluate(X_test_pca, y_test)\n",
    "print(f\"Test Loss: {test_loss}, Test MAE: {test_mae}\")"
   ]
  },
  {
   "cell_type": "code",
   "execution_count": 29,
   "metadata": {},
   "outputs": [
    {
     "name": "stdout",
     "output_type": "stream",
     "text": [
      "\u001b[1m1/1\u001b[0m \u001b[32m━━━━━━━━━━━━━━━━━━━━\u001b[0m\u001b[37m\u001b[0m \u001b[1m0s\u001b[0m 245ms/step\n",
      "Test prediction: [[-0.31747156]]\n"
     ]
    }
   ],
   "source": [
    "import numpy as np\n",
    "\n",
    "# Creating a dummy input array that matches the input shape\n",
    "dummy_input = np.random.normal(size=(1, 32))\n",
    "\n",
    "# Making a prediction to initialize everything\n",
    "test_prediction = NN_model.predict(dummy_input)\n",
    "print(\"Test prediction:\", test_prediction)"
   ]
  },
  {
   "cell_type": "code",
   "execution_count": 30,
   "metadata": {},
   "outputs": [
    {
     "data": {
      "text/html": [
       "<pre style=\"white-space:pre;overflow-x:auto;line-height:normal;font-family:Menlo,'DejaVu Sans Mono',consolas,'Courier New',monospace\"><span style=\"font-weight: bold\">Model: \"sequential\"</span>\n",
       "</pre>\n"
      ],
      "text/plain": [
       "\u001b[1mModel: \"sequential\"\u001b[0m\n"
      ]
     },
     "metadata": {},
     "output_type": "display_data"
    },
    {
     "data": {
      "text/html": [
       "<pre style=\"white-space:pre;overflow-x:auto;line-height:normal;font-family:Menlo,'DejaVu Sans Mono',consolas,'Courier New',monospace\">┏━━━━━━━━━━━━━━━━━━━━━━━━━━━━━━━━━┳━━━━━━━━━━━━━━━━━━━━━━━━┳━━━━━━━━━━━━━━━┓\n",
       "┃<span style=\"font-weight: bold\"> Layer (type)                    </span>┃<span style=\"font-weight: bold\"> Output Shape           </span>┃<span style=\"font-weight: bold\">       Param # </span>┃\n",
       "┡━━━━━━━━━━━━━━━━━━━━━━━━━━━━━━━━━╇━━━━━━━━━━━━━━━━━━━━━━━━╇━━━━━━━━━━━━━━━┩\n",
       "│ dense (<span style=\"color: #0087ff; text-decoration-color: #0087ff\">Dense</span>)                   │ (<span style=\"color: #00d7ff; text-decoration-color: #00d7ff\">None</span>, <span style=\"color: #00af00; text-decoration-color: #00af00\">32</span>)             │         <span style=\"color: #00af00; text-decoration-color: #00af00\">1,056</span> │\n",
       "├─────────────────────────────────┼────────────────────────┼───────────────┤\n",
       "│ dense_1 (<span style=\"color: #0087ff; text-decoration-color: #0087ff\">Dense</span>)                 │ (<span style=\"color: #00d7ff; text-decoration-color: #00d7ff\">None</span>, <span style=\"color: #00af00; text-decoration-color: #00af00\">16</span>)             │           <span style=\"color: #00af00; text-decoration-color: #00af00\">528</span> │\n",
       "├─────────────────────────────────┼────────────────────────┼───────────────┤\n",
       "│ dense_2 (<span style=\"color: #0087ff; text-decoration-color: #0087ff\">Dense</span>)                 │ (<span style=\"color: #00d7ff; text-decoration-color: #00d7ff\">None</span>, <span style=\"color: #00af00; text-decoration-color: #00af00\">1</span>)              │            <span style=\"color: #00af00; text-decoration-color: #00af00\">17</span> │\n",
       "└─────────────────────────────────┴────────────────────────┴───────────────┘\n",
       "</pre>\n"
      ],
      "text/plain": [
       "┏━━━━━━━━━━━━━━━━━━━━━━━━━━━━━━━━━┳━━━━━━━━━━━━━━━━━━━━━━━━┳━━━━━━━━━━━━━━━┓\n",
       "┃\u001b[1m \u001b[0m\u001b[1mLayer (type)                   \u001b[0m\u001b[1m \u001b[0m┃\u001b[1m \u001b[0m\u001b[1mOutput Shape          \u001b[0m\u001b[1m \u001b[0m┃\u001b[1m \u001b[0m\u001b[1m      Param #\u001b[0m\u001b[1m \u001b[0m┃\n",
       "┡━━━━━━━━━━━━━━━━━━━━━━━━━━━━━━━━━╇━━━━━━━━━━━━━━━━━━━━━━━━╇━━━━━━━━━━━━━━━┩\n",
       "│ dense (\u001b[38;5;33mDense\u001b[0m)                   │ (\u001b[38;5;45mNone\u001b[0m, \u001b[38;5;34m32\u001b[0m)             │         \u001b[38;5;34m1,056\u001b[0m │\n",
       "├─────────────────────────────────┼────────────────────────┼───────────────┤\n",
       "│ dense_1 (\u001b[38;5;33mDense\u001b[0m)                 │ (\u001b[38;5;45mNone\u001b[0m, \u001b[38;5;34m16\u001b[0m)             │           \u001b[38;5;34m528\u001b[0m │\n",
       "├─────────────────────────────────┼────────────────────────┼───────────────┤\n",
       "│ dense_2 (\u001b[38;5;33mDense\u001b[0m)                 │ (\u001b[38;5;45mNone\u001b[0m, \u001b[38;5;34m1\u001b[0m)              │            \u001b[38;5;34m17\u001b[0m │\n",
       "└─────────────────────────────────┴────────────────────────┴───────────────┘\n"
      ]
     },
     "metadata": {},
     "output_type": "display_data"
    },
    {
     "data": {
      "text/html": [
       "<pre style=\"white-space:pre;overflow-x:auto;line-height:normal;font-family:Menlo,'DejaVu Sans Mono',consolas,'Courier New',monospace\"><span style=\"font-weight: bold\"> Total params: </span><span style=\"color: #00af00; text-decoration-color: #00af00\">4,805</span> (18.77 KB)\n",
       "</pre>\n"
      ],
      "text/plain": [
       "\u001b[1m Total params: \u001b[0m\u001b[38;5;34m4,805\u001b[0m (18.77 KB)\n"
      ]
     },
     "metadata": {},
     "output_type": "display_data"
    },
    {
     "data": {
      "text/html": [
       "<pre style=\"white-space:pre;overflow-x:auto;line-height:normal;font-family:Menlo,'DejaVu Sans Mono',consolas,'Courier New',monospace\"><span style=\"font-weight: bold\"> Trainable params: </span><span style=\"color: #00af00; text-decoration-color: #00af00\">1,601</span> (6.25 KB)\n",
       "</pre>\n"
      ],
      "text/plain": [
       "\u001b[1m Trainable params: \u001b[0m\u001b[38;5;34m1,601\u001b[0m (6.25 KB)\n"
      ]
     },
     "metadata": {},
     "output_type": "display_data"
    },
    {
     "data": {
      "text/html": [
       "<pre style=\"white-space:pre;overflow-x:auto;line-height:normal;font-family:Menlo,'DejaVu Sans Mono',consolas,'Courier New',monospace\"><span style=\"font-weight: bold\"> Non-trainable params: </span><span style=\"color: #00af00; text-decoration-color: #00af00\">0</span> (0.00 B)\n",
       "</pre>\n"
      ],
      "text/plain": [
       "\u001b[1m Non-trainable params: \u001b[0m\u001b[38;5;34m0\u001b[0m (0.00 B)\n"
      ]
     },
     "metadata": {},
     "output_type": "display_data"
    },
    {
     "data": {
      "text/html": [
       "<pre style=\"white-space:pre;overflow-x:auto;line-height:normal;font-family:Menlo,'DejaVu Sans Mono',consolas,'Courier New',monospace\"><span style=\"font-weight: bold\"> Optimizer params: </span><span style=\"color: #00af00; text-decoration-color: #00af00\">3,204</span> (12.52 KB)\n",
       "</pre>\n"
      ],
      "text/plain": [
       "\u001b[1m Optimizer params: \u001b[0m\u001b[38;5;34m3,204\u001b[0m (12.52 KB)\n"
      ]
     },
     "metadata": {},
     "output_type": "display_data"
    }
   ],
   "source": [
    "NN_model.save('NN_model.keras')\n",
    "NN_model.summary()"
   ]
  },
  {
   "cell_type": "code",
   "execution_count": 32,
   "metadata": {},
   "outputs": [
    {
     "name": "stdout",
     "output_type": "stream",
     "text": [
      "Input Tensor:  <KerasTensor shape=(None, 32), dtype=float32, sparse=None, name=keras_tensor>\n",
      "Output Tensor:  <KerasTensor shape=(None, 1), dtype=float32, sparse=False, name=keras_tensor_3>\n"
     ]
    }
   ],
   "source": [
    "input_tensor = NN_model.layers[0].input\n",
    "output_tensor = NN_model.layers[-1].output\n",
    "\n",
    "print(\"Input Tensor: \", input_tensor)\n",
    "print(\"Output Tensor: \", output_tensor)"
   ]
  },
  {
   "cell_type": "code",
   "execution_count": null,
   "metadata": {},
   "outputs": [
    {
     "data": {
      "image/png": "[encoded data removed]",
      "text/plain": [
       "<Figure size 640x480 with 1 Axes>"
      ]
     },
     "metadata": {},
     "output_type": "display_data"
    }
   ],
   "source": [
    "import matplotlib.pyplot as plt\n",
    "\n",
    "plt.plot(train_history.history['loss'], label='Train Loss')\n",
    "plt.plot(train_history.history['val_loss'], label='Validation Loss')\n",
    "plt.title('Model Loss Over Epochs')\n",
    "plt.xlabel('Epochs')\n",
    "plt.ylabel('Loss')\n",
    "plt.legend()\n",
    "plt.show()"
   ]
  },
  {
   "cell_type": "code",
   "execution_count": null,
   "metadata": {
    "execution": {
     "iopub.execute_input": "2021-01-06T20:57:32.378263Z",
     "iopub.status.busy": "2021-01-06T20:57:32.376000Z",
     "iopub.status.idle": "2021-01-06T20:57:32.533132Z",
     "shell.execute_reply": "2021-01-06T20:57:32.532649Z"
    },
    "papermill": {
     "duration": 0.208557,
     "end_time": "2021-01-06T20:57:32.533227",
     "exception": false,
     "start_time": "2021-01-06T20:57:32.324670",
     "status": "completed"
    },
    "tags": []
   },
   "outputs": [
    {
     "data": {
      "image/png": "[encoded data removed]",
      "text/plain": [
       "<Figure size 640x480 with 2 Axes>"
      ]
     },
     "metadata": {},
     "output_type": "display_data"
    }
   ],
   "source": [
    "cm_nn = confusion_matrix(y_test, pred)\n",
    "\n",
    "ax = plt.subplot()\n",
    "sns.heatmap(cm_nn, annot=True, ax = ax, fmt='g', cmap='Greens') \n",
    "\n",
    "# Labels, title and ticks\n",
    "ax.set_xlabel('Predicted labels')\n",
    "ax.set_ylabel('True labels') \n",
    "ax.set_title('Neural Network Confusion Matrix') \n",
    "ax.xaxis.set_ticklabels(labels) \n",
    "ax.yaxis.set_ticklabels(labels, rotation=360);"
   ]
  },
  {
   "cell_type": "code",
   "execution_count": null,
   "metadata": {
    "papermill": {
     "duration": 0.040611,
     "end_time": "2021-01-06T20:57:32.615178",
     "exception": false,
     "start_time": "2021-01-06T20:57:32.574567",
     "status": "completed"
    },
    "tags": []
   },
   "outputs": [],
   "source": []
  }
 ],
 "metadata": {
  "kernelspec": {
   "display_name": "Python 3",
   "language": "python",
   "name": "python3"
  },
  "language_info": {
   "codemirror_mode": {
    "name": "ipython",
    "version": 3
   },
   "file_extension": ".py",
   "mimetype": "text/x-python",
   "name": "python",
   "nbconvert_exporter": "python",
   "pygments_lexer": "ipython3",
   "version": "3.12.3"
  },
  "papermill": {
   "duration": 16.452305,
   "end_time": "2021-01-06T20:57:32.763294",
   "environment_variables": {},
   "exception": null,
   "input_path": "__notebook__.ipynb",
   "output_path": "__notebook__.ipynb",
   "parameters": {},
   "start_time": "2021-01-06T20:57:16.310989",
   "version": "2.1.0"
  }
 },
 "nbformat": 4,
 "nbformat_minor": 4
}
