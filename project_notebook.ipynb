{
 "cells": [
  {
   "cell_type": "code",
   "metadata": {
    "ExecuteTime": {
     "end_time": "2024-08-21T11:03:35.803442Z",
     "start_time": "2024-08-21T11:03:33.798171Z"
    }
   },
   "source": [
    "# Data Processing\n",
    "import pandas as pd\n",
    "import numpy as np\n",
    "from scipy.stats import pearsonr, spearmanr\n",
    "import matplotlib.pyplot as plt\n",
    "from numpy.polynomial.polynomial import polyfit\n",
    "\n",
    "# Modelling\n",
    "from sklearn.metrics import mean_squared_error, r2_score\n",
    "from sklearn.ensemble import RandomForestRegressor\n",
    "from sklearn.model_selection import train_test_split, GridSearchCV\n",
    "from sklearn.linear_model import LinearRegression\n",
    "\n",
    "import openpyxl\n",
    "import math"
   ],
   "outputs": [],
   "execution_count": 1
  },
  {
   "cell_type": "code",
   "metadata": {
    "ExecuteTime": {
     "end_time": "2024-08-21T11:03:35.818927Z",
     "start_time": "2024-08-21T11:03:35.805523Z"
    }
   },
   "source": [
    "# Predicts y_test data according to the given model\n",
    "def evaluate_model(model, X_test, y_test):\n",
    "    # Make predictions on the test set\n",
    "    test_predictions = model.predict(X_test)\n",
    "    \n",
    "    # Ensure the lengths match by applying the mask to both predictions and actual values\n",
    "    # Define a very small value to replace zeros\n",
    "    small_value = 1e-100\n",
    "    \n",
    "    # Replace 0 values with the small value in both predictions and actual values\n",
    "    test_predictions = np.where(test_predictions == 0, small_value, test_predictions)\n",
    "    y_test_filtered = np.where(y_test == 0, small_value, y_test)\n",
    "\n",
    "    \n",
    "    return test_predictions, y_test_filtered"
   ],
   "outputs": [],
   "execution_count": 2
  },
  {
   "cell_type": "code",
   "metadata": {
    "ExecuteTime": {
     "end_time": "2024-08-21T11:03:35.833867Z",
     "start_time": "2024-08-21T11:03:35.820961Z"
    }
   },
   "source": [
    "# Prints statistics of prediction\n",
    "def print_stats(y_test, predictions):\n",
    "    print('Mean Squared Error (MSE):', mean_squared_error(y_test, predictions))\n",
    "    print('Root Mean Squared Error (RMSE):', np.sqrt(mean_squared_error(y_test, predictions)))\n",
    "    mape = np.mean(np.abs((y_test - predictions) / np.abs(y_test)))\n",
    "    print('Mean Absolute Percentage Error (MAPE):', round(mape * 100, 2))\n",
    "    print('Accuracy:', round(100 * (1 - mape), 2))\n",
    "\n",
    "    correlation_coefficient, p_value = spearmanr(y_test, predictions)\n",
    "    print(f\"\\nSpearman Rho:{correlation_coefficient}\\np-value:{p_value}\")\n",
    "    \n",
    "    correlation_coefficient, p_value = pearsonr(y_test, predictions)\n",
    "    print(f\"\\nPearson Rho:{correlation_coefficient}\\np-value:{p_value}\")"
   ],
   "outputs": [],
   "execution_count": 3
  },
  {
   "cell_type": "code",
   "metadata": {
    "ExecuteTime": {
     "end_time": "2024-08-21T11:03:35.849574Z",
     "start_time": "2024-08-21T11:03:35.835935Z"
    }
   },
   "source": [
    "def merge_identical_xlsx_columns(df, col_name1, col_name2, merged_col_name):\n",
    "    df[merged_col_name] = df[col_name1].fillna(df[col_name2])\n",
    "    if merged_col_name == col_name1:\n",
    "        df.drop(col_name2, axis=1, inplace=True)\n",
    "    elif merged_col_name == col_name2:\n",
    "        df.drop(col_name1, axis=1, inplace=True)\n",
    "    else:\n",
    "        df.drop([col_name1, col_name2], axis=1, inplace=True)\n",
    "    return df"
   ],
   "outputs": [],
   "execution_count": 4
  },
  {
   "cell_type": "code",
   "metadata": {
    "collapsed": false,
    "ExecuteTime": {
     "end_time": "2024-08-21T11:03:35.865081Z",
     "start_time": "2024-08-21T11:03:35.851560Z"
    }
   },
   "source": [
    "# Finds and most reliable Cell lines \n",
    "# retrieves a dict cell lines with deviations between doubling of different labs less than diff_pecentage\n",
    "def get_reliable_cell_lines(df, df2, allowed_diff_percentage):\n",
    "    reliable_cell_lines = {}\n",
    "    for index, row in df2.iterrows():\n",
    "        matching_row = df[df['DepMap ID'] == row['Parental cell line ID']] # find correlating row in original data\n",
    "        if not matching_row.empty:\n",
    "            original_val = matching_row.iloc[0]['Doubling Time (hrs)'].item()\n",
    "            ccle_val = row['CCLE Doubling Time (hrs)']\n",
    "            gpp_val = row['GPP (screeners) Cell Doubling Time (hrs)']\n",
    "            depmap_val = row['DepMap expansion Doubling time (hrs)']\n",
    "            \n",
    "            arr = np.array([original_val, ccle_val, gpp_val, depmap_val])\n",
    "            arr = arr[~np.isnan(arr)]\n",
    "            # The lower measured value is at least (100-x)% of the higher measured value\n",
    "            is_min_at_least_percent_of_max = lambda arr: np.min(arr) >= (100-allowed_diff_percentage)/100 * np.max(arr)\n",
    "            if is_min_at_least_percent_of_max(arr):\n",
    "                reliable_cell_lines[matching_row.iloc[0]['DepMap ID']] = float(np.nanmean(arr))\n",
    "    return reliable_cell_lines "
   ],
   "outputs": [],
   "execution_count": 5
  },
  {
   "cell_type": "markdown",
   "metadata": {},
   "source": [
    "Load and Clean Data"
   ]
  },
  {
   "cell_type": "code",
   "metadata": {
    "ExecuteTime": {
     "end_time": "2024-08-21T11:03:35.927889Z",
     "start_time": "2024-08-21T11:03:35.866909Z"
    }
   },
   "source": [
    "# Load original clinical data file\n",
    "df = pd.read_csv('./DATA/ccle_broad_2019/ccle_broad_2019_clinical_data.csv')\n",
    "df.head()"
   ],
   "outputs": [
    {
     "data": {
      "text/plain": "          Study ID                     Patient ID  \\\n0  ccle_broad_2019             127399_SOFT_TISSUE   \n1  ccle_broad_2019  1321N1_CENTRAL_NERVOUS_SYSTEM   \n2  ccle_broad_2019                      143B_BONE   \n3  ccle_broad_2019                      201T_LUNG   \n4  ccle_broad_2019                 22RV1_PROSTATE   \n\n                       Sample ID   Age Annotation Source  \\\n0             127399_SOFT_TISSUE   NaN               NaN   \n1  1321N1_CENTRAL_NERVOUS_SYSTEM   NaN              CCLE   \n2                      143B_BONE  13.0              CCLE   \n3                      201T_LUNG   NaN               NaN   \n4                 22RV1_PROSTATE   NaN              CCLE   \n\n                  Cancer Type     Cancer Type Detailed Cell Line Source  \\\n0         Soft Tissue Sarcoma         Synovial Sarcoma              NaN   \n1                      Glioma              Astrocytoma              NaN   \n2                 Bone Cancer             Osteosarcoma              NaN   \n3  Non-Small Cell Lung Cancer      Lung Adenocarcinoma              NaN   \n4             Prostate Cancer  Prostate Adenocarcinoma             ATCC   \n\n       Characteristics   DepMap ID  ...     Sex  Site of Finding  \\\n0                  NaN  ACH-001270  ...     NaN              NaN   \n1                  NaN  ACH-001000  ...     NaN              NaN   \n2                  NaN  ACH-001001  ...  Female              NaN   \n3                  NaN  ACH-002089  ...     NaN              NaN   \n4  Adherent epithelial  ACH-000956  ...    Male              NaN   \n\n  Site Subtype 1 Site Subtype 2  Site Subtype 3  \\\n0            NaN            NaN             NaN   \n1          brain             NS              NS   \n2             NS             NS              NS   \n3            NaN            NaN             NaN   \n4             NS             NS              NS   \n\n                                             Subtype  Supplements  \\\n0                                           Synovial          NaN   \n1                                        Astrocytoma          NaN   \n2                                       Osteosarcoma          NaN   \n3  Non-Small Cell Lung Cancer (NSCLC), Adenocarci...          NaN   \n4                                     Adenocarcinoma          NaN   \n\n  TMB (nonsynonymous)    Tumor Type  Type Refined  \n0            5.533333           NaN           NaN  \n1                 NaN        glioma        glioma  \n2                 NaN  osteosarcoma  osteosarcoma  \n3           10.100000           NaN      lung_NSC  \n4           73.700000      prostate      prostate  \n\n[5 rows x 51 columns]",
      "text/html": "<div>\n<style scoped>\n    .dataframe tbody tr th:only-of-type {\n        vertical-align: middle;\n    }\n\n    .dataframe tbody tr th {\n        vertical-align: top;\n    }\n\n    .dataframe thead th {\n        text-align: right;\n    }\n</style>\n<table border=\"1\" class=\"dataframe\">\n  <thead>\n    <tr style=\"text-align: right;\">\n      <th></th>\n      <th>Study ID</th>\n      <th>Patient ID</th>\n      <th>Sample ID</th>\n      <th>Age</th>\n      <th>Annotation Source</th>\n      <th>Cancer Type</th>\n      <th>Cancer Type Detailed</th>\n      <th>Cell Line Source</th>\n      <th>Characteristics</th>\n      <th>DepMap ID</th>\n      <th>...</th>\n      <th>Sex</th>\n      <th>Site of Finding</th>\n      <th>Site Subtype 1</th>\n      <th>Site Subtype 2</th>\n      <th>Site Subtype 3</th>\n      <th>Subtype</th>\n      <th>Supplements</th>\n      <th>TMB (nonsynonymous)</th>\n      <th>Tumor Type</th>\n      <th>Type Refined</th>\n    </tr>\n  </thead>\n  <tbody>\n    <tr>\n      <th>0</th>\n      <td>ccle_broad_2019</td>\n      <td>127399_SOFT_TISSUE</td>\n      <td>127399_SOFT_TISSUE</td>\n      <td>NaN</td>\n      <td>NaN</td>\n      <td>Soft Tissue Sarcoma</td>\n      <td>Synovial Sarcoma</td>\n      <td>NaN</td>\n      <td>NaN</td>\n      <td>ACH-001270</td>\n      <td>...</td>\n      <td>NaN</td>\n      <td>NaN</td>\n      <td>NaN</td>\n      <td>NaN</td>\n      <td>NaN</td>\n      <td>Synovial</td>\n      <td>NaN</td>\n      <td>5.533333</td>\n      <td>NaN</td>\n      <td>NaN</td>\n    </tr>\n    <tr>\n      <th>1</th>\n      <td>ccle_broad_2019</td>\n      <td>1321N1_CENTRAL_NERVOUS_SYSTEM</td>\n      <td>1321N1_CENTRAL_NERVOUS_SYSTEM</td>\n      <td>NaN</td>\n      <td>CCLE</td>\n      <td>Glioma</td>\n      <td>Astrocytoma</td>\n      <td>NaN</td>\n      <td>NaN</td>\n      <td>ACH-001000</td>\n      <td>...</td>\n      <td>NaN</td>\n      <td>NaN</td>\n      <td>brain</td>\n      <td>NS</td>\n      <td>NS</td>\n      <td>Astrocytoma</td>\n      <td>NaN</td>\n      <td>NaN</td>\n      <td>glioma</td>\n      <td>glioma</td>\n    </tr>\n    <tr>\n      <th>2</th>\n      <td>ccle_broad_2019</td>\n      <td>143B_BONE</td>\n      <td>143B_BONE</td>\n      <td>13.0</td>\n      <td>CCLE</td>\n      <td>Bone Cancer</td>\n      <td>Osteosarcoma</td>\n      <td>NaN</td>\n      <td>NaN</td>\n      <td>ACH-001001</td>\n      <td>...</td>\n      <td>Female</td>\n      <td>NaN</td>\n      <td>NS</td>\n      <td>NS</td>\n      <td>NS</td>\n      <td>Osteosarcoma</td>\n      <td>NaN</td>\n      <td>NaN</td>\n      <td>osteosarcoma</td>\n      <td>osteosarcoma</td>\n    </tr>\n    <tr>\n      <th>3</th>\n      <td>ccle_broad_2019</td>\n      <td>201T_LUNG</td>\n      <td>201T_LUNG</td>\n      <td>NaN</td>\n      <td>NaN</td>\n      <td>Non-Small Cell Lung Cancer</td>\n      <td>Lung Adenocarcinoma</td>\n      <td>NaN</td>\n      <td>NaN</td>\n      <td>ACH-002089</td>\n      <td>...</td>\n      <td>NaN</td>\n      <td>NaN</td>\n      <td>NaN</td>\n      <td>NaN</td>\n      <td>NaN</td>\n      <td>Non-Small Cell Lung Cancer (NSCLC), Adenocarci...</td>\n      <td>NaN</td>\n      <td>10.100000</td>\n      <td>NaN</td>\n      <td>lung_NSC</td>\n    </tr>\n    <tr>\n      <th>4</th>\n      <td>ccle_broad_2019</td>\n      <td>22RV1_PROSTATE</td>\n      <td>22RV1_PROSTATE</td>\n      <td>NaN</td>\n      <td>CCLE</td>\n      <td>Prostate Cancer</td>\n      <td>Prostate Adenocarcinoma</td>\n      <td>ATCC</td>\n      <td>Adherent epithelial</td>\n      <td>ACH-000956</td>\n      <td>...</td>\n      <td>Male</td>\n      <td>NaN</td>\n      <td>NS</td>\n      <td>NS</td>\n      <td>NS</td>\n      <td>Adenocarcinoma</td>\n      <td>NaN</td>\n      <td>73.700000</td>\n      <td>prostate</td>\n      <td>prostate</td>\n    </tr>\n  </tbody>\n</table>\n<p>5 rows × 51 columns</p>\n</div>"
     },
     "execution_count": 6,
     "metadata": {},
     "output_type": "execute_result"
    }
   ],
   "execution_count": 6
  },
  {
   "cell_type": "code",
   "metadata": {
    "ExecuteTime": {
     "end_time": "2024-08-21T11:03:36.084913Z",
     "start_time": "2024-08-21T11:03:35.929926Z"
    }
   },
   "source": [
    "# Load second clinical data file\n",
    "df2 = pd.read_excel('./DATA/merged_doubling_time_with_site.xlsx')\n",
    "df2 = merge_identical_xlsx_columns(df2, \"CCLE Doubling Time (hrs)\",\"Doubling.Time.Calculated.hrs\",\n",
    "                                    \"CCLE Doubling Time (hrs)\")\n",
    "df2.head()"
   ],
   "outputs": [
    {
     "data": {
      "text/plain": "  Parental cell line ID Cell Line Name  \\\n0            ACH-000014         Hs294T   \n1            ACH-000021       NCIH1693   \n2            ACH-000022      PATU8988S   \n3            ACH-000025        CH157MN   \n4            ACH-000037           S117   \n\n   GPP (screeners) Cell Doubling Time (hrs)  \\\n0                                      66.0   \n1                                      50.0   \n2                                      36.0   \n3                                      35.0   \n4                                      45.0   \n\n   DepMap expansion Doubling time (hrs)  CCLE Doubling Time (hrs)  \\\n0                                   NaN                      67.5   \n1                                   NaN                      94.7   \n2                                   NaN                     110.0   \n3                                   NaN                       NaN   \n4                                   NaN                     107.6   \n\n             Site_Primary  \n0                    skin  \n1                    lung  \n2                pancreas  \n3  central_nervous_system  \n4             soft_tissue  ",
      "text/html": "<div>\n<style scoped>\n    .dataframe tbody tr th:only-of-type {\n        vertical-align: middle;\n    }\n\n    .dataframe tbody tr th {\n        vertical-align: top;\n    }\n\n    .dataframe thead th {\n        text-align: right;\n    }\n</style>\n<table border=\"1\" class=\"dataframe\">\n  <thead>\n    <tr style=\"text-align: right;\">\n      <th></th>\n      <th>Parental cell line ID</th>\n      <th>Cell Line Name</th>\n      <th>GPP (screeners) Cell Doubling Time (hrs)</th>\n      <th>DepMap expansion Doubling time (hrs)</th>\n      <th>CCLE Doubling Time (hrs)</th>\n      <th>Site_Primary</th>\n    </tr>\n  </thead>\n  <tbody>\n    <tr>\n      <th>0</th>\n      <td>ACH-000014</td>\n      <td>Hs294T</td>\n      <td>66.0</td>\n      <td>NaN</td>\n      <td>67.5</td>\n      <td>skin</td>\n    </tr>\n    <tr>\n      <th>1</th>\n      <td>ACH-000021</td>\n      <td>NCIH1693</td>\n      <td>50.0</td>\n      <td>NaN</td>\n      <td>94.7</td>\n      <td>lung</td>\n    </tr>\n    <tr>\n      <th>2</th>\n      <td>ACH-000022</td>\n      <td>PATU8988S</td>\n      <td>36.0</td>\n      <td>NaN</td>\n      <td>110.0</td>\n      <td>pancreas</td>\n    </tr>\n    <tr>\n      <th>3</th>\n      <td>ACH-000025</td>\n      <td>CH157MN</td>\n      <td>35.0</td>\n      <td>NaN</td>\n      <td>NaN</td>\n      <td>central_nervous_system</td>\n    </tr>\n    <tr>\n      <th>4</th>\n      <td>ACH-000037</td>\n      <td>S117</td>\n      <td>45.0</td>\n      <td>NaN</td>\n      <td>107.6</td>\n      <td>soft_tissue</td>\n    </tr>\n  </tbody>\n</table>\n</div>"
     },
     "execution_count": 7,
     "metadata": {},
     "output_type": "execute_result"
    }
   ],
   "execution_count": 7
  },
  {
   "cell_type": "code",
   "metadata": {
    "collapsed": false,
    "ExecuteTime": {
     "end_time": "2024-08-21T11:03:37.470909Z",
     "start_time": "2024-08-21T11:03:36.087042Z"
    }
   },
   "source": [
    "reliable_cell_lines = get_reliable_cell_lines(df=df, df2=df2, allowed_diff_percentage=50)\n",
    "len(reliable_cell_lines)\n",
    "#reliable_cell_lines\n"
   ],
   "outputs": [
    {
     "data": {
      "text/plain": "777"
     },
     "execution_count": 8,
     "metadata": {},
     "output_type": "execute_result"
    }
   ],
   "execution_count": 8
  },
  {
   "cell_type": "markdown",
   "metadata": {
    "collapsed": false
   },
   "source": [
    "Note:\n",
    "df2 contains 3 columns with doubling time:\n",
    "“GPP (screeners) Cell Doubling Time (hrs)”\n",
    "“DepMap expansion Doubling time (hrs)”\n",
    "“CCLE Doubling Time (hrs)”"
   ]
  },
  {
   "cell_type": "code",
   "metadata": {
    "ExecuteTime": {
     "end_time": "2024-08-21T11:03:38.313194Z",
     "start_time": "2024-08-21T11:03:37.471944Z"
    }
   },
   "source": [
    "for cell_line_name, doubling_time in reliable_cell_lines.items():\n",
    "    matching_row = df[df['DepMap ID'] == cell_line_name] # find correlating row in original data\n",
    "    if not matching_row.empty:\n",
    "        df.loc[matching_row.index, 'Doubling Time (hrs)'] = doubling_time\n",
    "\n",
    "df_cleaned = df.dropna(subset=['Doubling Time (hrs)']) # Clean 'NA' labels\n",
    "patient_IDs = df_cleaned[\"Patient ID\"].tolist() # who was left after cleaning NA\n",
    "\n",
    "df_cleaned.head()\n",
    "\n",
    "# Save DataFrame to a CSV file\n",
    "#df_cleaned.to_csv('output.csv', index=False)\n",
    "#len(patient_IDs)"
   ],
   "outputs": [
    {
     "data": {
      "text/plain": "          Study ID                     Patient ID  \\\n0  ccle_broad_2019             127399_SOFT_TISSUE   \n2  ccle_broad_2019                      143B_BONE   \n4  ccle_broad_2019                 22RV1_PROSTATE   \n5  ccle_broad_2019                2313287_STOMACH   \n8  ccle_broad_2019  42MGBA_CENTRAL_NERVOUS_SYSTEM   \n\n                       Sample ID   Age Annotation Source  \\\n0             127399_SOFT_TISSUE   NaN               NaN   \n2                      143B_BONE  13.0              CCLE   \n4                 22RV1_PROSTATE   NaN              CCLE   \n5                2313287_STOMACH  72.0              CCLE   \n8  42MGBA_CENTRAL_NERVOUS_SYSTEM  63.0              CCLE   \n\n              Cancer Type     Cancer Type Detailed Cell Line Source  \\\n0     Soft Tissue Sarcoma         Synovial Sarcoma              NaN   \n2             Bone Cancer             Osteosarcoma              NaN   \n4         Prostate Cancer  Prostate Adenocarcinoma             ATCC   \n5  Esophagogastric Cancer   Stomach Adenocarcinoma             DSMZ   \n8                  Glioma              Astrocytoma             DSMZ   \n\n                                     Characteristics   DepMap ID  ...     Sex  \\\n0                                                NaN  ACH-001270  ...     NaN   \n2                                                NaN  ACH-001001  ...  Female   \n4                                Adherent epithelial  ACH-000956  ...    Male   \n5  aderent epithelial cells growing as confluent ...  ACH-000948  ...    Male   \n8                                           Adherent  ACH-000323  ...    Male   \n\n   Site of Finding Site Subtype 1 Site Subtype 2  Site Subtype 3  \\\n0              NaN            NaN            NaN             NaN   \n2              NaN             NS             NS              NS   \n4              NaN             NS             NS              NS   \n5              NaN             NS             NS              NS   \n8              NaN          brain             NS              NS   \n\n          Subtype  Supplements TMB (nonsynonymous)    Tumor Type  Type Refined  \n0        Synovial          NaN            5.533333           NaN           NaN  \n2    Osteosarcoma          NaN                 NaN  osteosarcoma  osteosarcoma  \n4  Adenocarcinoma          NaN           73.700000      prostate      prostate  \n5  Adenocarcinoma          NaN           76.266667       stomach       stomach  \n8     Astrocytoma          NaN            7.033333        glioma        glioma  \n\n[5 rows x 51 columns]",
      "text/html": "<div>\n<style scoped>\n    .dataframe tbody tr th:only-of-type {\n        vertical-align: middle;\n    }\n\n    .dataframe tbody tr th {\n        vertical-align: top;\n    }\n\n    .dataframe thead th {\n        text-align: right;\n    }\n</style>\n<table border=\"1\" class=\"dataframe\">\n  <thead>\n    <tr style=\"text-align: right;\">\n      <th></th>\n      <th>Study ID</th>\n      <th>Patient ID</th>\n      <th>Sample ID</th>\n      <th>Age</th>\n      <th>Annotation Source</th>\n      <th>Cancer Type</th>\n      <th>Cancer Type Detailed</th>\n      <th>Cell Line Source</th>\n      <th>Characteristics</th>\n      <th>DepMap ID</th>\n      <th>...</th>\n      <th>Sex</th>\n      <th>Site of Finding</th>\n      <th>Site Subtype 1</th>\n      <th>Site Subtype 2</th>\n      <th>Site Subtype 3</th>\n      <th>Subtype</th>\n      <th>Supplements</th>\n      <th>TMB (nonsynonymous)</th>\n      <th>Tumor Type</th>\n      <th>Type Refined</th>\n    </tr>\n  </thead>\n  <tbody>\n    <tr>\n      <th>0</th>\n      <td>ccle_broad_2019</td>\n      <td>127399_SOFT_TISSUE</td>\n      <td>127399_SOFT_TISSUE</td>\n      <td>NaN</td>\n      <td>NaN</td>\n      <td>Soft Tissue Sarcoma</td>\n      <td>Synovial Sarcoma</td>\n      <td>NaN</td>\n      <td>NaN</td>\n      <td>ACH-001270</td>\n      <td>...</td>\n      <td>NaN</td>\n      <td>NaN</td>\n      <td>NaN</td>\n      <td>NaN</td>\n      <td>NaN</td>\n      <td>Synovial</td>\n      <td>NaN</td>\n      <td>5.533333</td>\n      <td>NaN</td>\n      <td>NaN</td>\n    </tr>\n    <tr>\n      <th>2</th>\n      <td>ccle_broad_2019</td>\n      <td>143B_BONE</td>\n      <td>143B_BONE</td>\n      <td>13.0</td>\n      <td>CCLE</td>\n      <td>Bone Cancer</td>\n      <td>Osteosarcoma</td>\n      <td>NaN</td>\n      <td>NaN</td>\n      <td>ACH-001001</td>\n      <td>...</td>\n      <td>Female</td>\n      <td>NaN</td>\n      <td>NS</td>\n      <td>NS</td>\n      <td>NS</td>\n      <td>Osteosarcoma</td>\n      <td>NaN</td>\n      <td>NaN</td>\n      <td>osteosarcoma</td>\n      <td>osteosarcoma</td>\n    </tr>\n    <tr>\n      <th>4</th>\n      <td>ccle_broad_2019</td>\n      <td>22RV1_PROSTATE</td>\n      <td>22RV1_PROSTATE</td>\n      <td>NaN</td>\n      <td>CCLE</td>\n      <td>Prostate Cancer</td>\n      <td>Prostate Adenocarcinoma</td>\n      <td>ATCC</td>\n      <td>Adherent epithelial</td>\n      <td>ACH-000956</td>\n      <td>...</td>\n      <td>Male</td>\n      <td>NaN</td>\n      <td>NS</td>\n      <td>NS</td>\n      <td>NS</td>\n      <td>Adenocarcinoma</td>\n      <td>NaN</td>\n      <td>73.700000</td>\n      <td>prostate</td>\n      <td>prostate</td>\n    </tr>\n    <tr>\n      <th>5</th>\n      <td>ccle_broad_2019</td>\n      <td>2313287_STOMACH</td>\n      <td>2313287_STOMACH</td>\n      <td>72.0</td>\n      <td>CCLE</td>\n      <td>Esophagogastric Cancer</td>\n      <td>Stomach Adenocarcinoma</td>\n      <td>DSMZ</td>\n      <td>aderent epithelial cells growing as confluent ...</td>\n      <td>ACH-000948</td>\n      <td>...</td>\n      <td>Male</td>\n      <td>NaN</td>\n      <td>NS</td>\n      <td>NS</td>\n      <td>NS</td>\n      <td>Adenocarcinoma</td>\n      <td>NaN</td>\n      <td>76.266667</td>\n      <td>stomach</td>\n      <td>stomach</td>\n    </tr>\n    <tr>\n      <th>8</th>\n      <td>ccle_broad_2019</td>\n      <td>42MGBA_CENTRAL_NERVOUS_SYSTEM</td>\n      <td>42MGBA_CENTRAL_NERVOUS_SYSTEM</td>\n      <td>63.0</td>\n      <td>CCLE</td>\n      <td>Glioma</td>\n      <td>Astrocytoma</td>\n      <td>DSMZ</td>\n      <td>Adherent</td>\n      <td>ACH-000323</td>\n      <td>...</td>\n      <td>Male</td>\n      <td>NaN</td>\n      <td>brain</td>\n      <td>NS</td>\n      <td>NS</td>\n      <td>Astrocytoma</td>\n      <td>NaN</td>\n      <td>7.033333</td>\n      <td>glioma</td>\n      <td>glioma</td>\n    </tr>\n  </tbody>\n</table>\n<p>5 rows × 51 columns</p>\n</div>"
     },
     "execution_count": 9,
     "metadata": {},
     "output_type": "execute_result"
    }
   ],
   "execution_count": 9
  },
  {
   "cell_type": "code",
   "metadata": {
    "ExecuteTime": {
     "end_time": "2024-08-21T11:03:45.295334Z",
     "start_time": "2024-08-21T11:03:38.316299Z"
    }
   },
   "source": [
    "# Load RNA expression data (use Reads Per Kilobase data)\n",
    "expression_df = pd.read_csv('./DATA/ccle_broad_2019/data_mrna_seq_rpkm.txt',  sep='\\t')"
   ],
   "outputs": [],
   "execution_count": 10
  },
  {
   "cell_type": "code",
   "metadata": {
    "ExecuteTime": {
     "end_time": "2024-08-21T11:03:45.467841Z",
     "start_time": "2024-08-21T11:03:45.297373Z"
    }
   },
   "source": [
    "# Remove patients with NA Doubling Time\n",
    "selected_columns = ['Hugo_Symbol'] + [col for col in patient_IDs if col in expression_df.columns]\n",
    "expression_df = expression_df[selected_columns]\n",
    "expression_df.head()"
   ],
   "outputs": [
    {
     "data": {
      "text/plain": "  Hugo_Symbol  127399_SOFT_TISSUE  143B_BONE  22RV1_PROSTATE  2313287_STOMACH  \\\n0     DDX11L1             0.08018    0.00000         0.00000          0.03755   \n1      WASH7P             7.22956   11.75542        12.63011         10.14155   \n2  MIR1302-11             0.05536    0.36737         0.04289          0.01037   \n3     FAM138A             0.00000    0.00932         0.00000          0.00869   \n4      OR4G4P             0.01194    0.00000         0.00000          0.00000   \n\n   42MGBA_CENTRAL_NERVOUS_SYSTEM  5637_URINARY_TRACT  59M_OVARY  \\\n0                        0.00000             0.01378    0.01463   \n1                        7.61752             6.19356    4.62277   \n2                        0.08765             0.00000    0.00808   \n3                        0.00000             0.00637    0.00000   \n4                        0.00000             0.00000    0.00000   \n\n   639V_URINARY_TRACT  647V_URINARY_TRACT  ...  YAMATO_SOFT_TISSUE  \\\n0             0.03085             0.00000  ...             0.00000   \n1             6.00767             4.70699  ...            11.81688   \n2             0.09373             0.02568  ...             0.17586   \n3             0.01427             0.00000  ...             0.02266   \n4             0.00000             0.00000  ...             0.01459   \n\n   YAPC_PANCREAS  YD10B_UPPER_AERODIGESTIVE_TRACT  YD15_SALIVARY_GLAND  \\\n0        0.00000                          0.00000              0.07603   \n1        4.57684                          9.38655              6.16807   \n2        0.07086                          0.19758              0.00000   \n3        0.00000                          0.00000              0.00000   \n4        0.00000                          0.00000              0.00000   \n\n   YD38_UPPER_AERODIGESTIVE_TRACT  YD8_UPPER_AERODIGESTIVE_TRACT  \\\n0                         0.00000                        0.04757   \n1                         5.25951                        7.25056   \n2                         0.00000                        0.15767   \n3                         0.00000                        0.00000   \n4                         0.00000                        0.00000   \n\n   YH13_CENTRAL_NERVOUS_SYSTEM  YKG1_CENTRAL_NERVOUS_SYSTEM  ZR751_BREAST  \\\n0                      0.00000                      0.08533       0.26518   \n1                      6.15860                      7.83898      14.24817   \n2                      0.00000                      0.14140       0.01831   \n3                      0.01719                      0.17371       0.00000   \n4                      0.00000                      0.00000       0.00000   \n\n   ZR7530_BREAST  \n0        0.01725  \n1        7.94108  \n2        0.00000  \n3        0.00000  \n4        0.00000  \n\n[5 rows x 929 columns]",
      "text/html": "<div>\n<style scoped>\n    .dataframe tbody tr th:only-of-type {\n        vertical-align: middle;\n    }\n\n    .dataframe tbody tr th {\n        vertical-align: top;\n    }\n\n    .dataframe thead th {\n        text-align: right;\n    }\n</style>\n<table border=\"1\" class=\"dataframe\">\n  <thead>\n    <tr style=\"text-align: right;\">\n      <th></th>\n      <th>Hugo_Symbol</th>\n      <th>127399_SOFT_TISSUE</th>\n      <th>143B_BONE</th>\n      <th>22RV1_PROSTATE</th>\n      <th>2313287_STOMACH</th>\n      <th>42MGBA_CENTRAL_NERVOUS_SYSTEM</th>\n      <th>5637_URINARY_TRACT</th>\n      <th>59M_OVARY</th>\n      <th>639V_URINARY_TRACT</th>\n      <th>647V_URINARY_TRACT</th>\n      <th>...</th>\n      <th>YAMATO_SOFT_TISSUE</th>\n      <th>YAPC_PANCREAS</th>\n      <th>YD10B_UPPER_AERODIGESTIVE_TRACT</th>\n      <th>YD15_SALIVARY_GLAND</th>\n      <th>YD38_UPPER_AERODIGESTIVE_TRACT</th>\n      <th>YD8_UPPER_AERODIGESTIVE_TRACT</th>\n      <th>YH13_CENTRAL_NERVOUS_SYSTEM</th>\n      <th>YKG1_CENTRAL_NERVOUS_SYSTEM</th>\n      <th>ZR751_BREAST</th>\n      <th>ZR7530_BREAST</th>\n    </tr>\n  </thead>\n  <tbody>\n    <tr>\n      <th>0</th>\n      <td>DDX11L1</td>\n      <td>0.08018</td>\n      <td>0.00000</td>\n      <td>0.00000</td>\n      <td>0.03755</td>\n      <td>0.00000</td>\n      <td>0.01378</td>\n      <td>0.01463</td>\n      <td>0.03085</td>\n      <td>0.00000</td>\n      <td>...</td>\n      <td>0.00000</td>\n      <td>0.00000</td>\n      <td>0.00000</td>\n      <td>0.07603</td>\n      <td>0.00000</td>\n      <td>0.04757</td>\n      <td>0.00000</td>\n      <td>0.08533</td>\n      <td>0.26518</td>\n      <td>0.01725</td>\n    </tr>\n    <tr>\n      <th>1</th>\n      <td>WASH7P</td>\n      <td>7.22956</td>\n      <td>11.75542</td>\n      <td>12.63011</td>\n      <td>10.14155</td>\n      <td>7.61752</td>\n      <td>6.19356</td>\n      <td>4.62277</td>\n      <td>6.00767</td>\n      <td>4.70699</td>\n      <td>...</td>\n      <td>11.81688</td>\n      <td>4.57684</td>\n      <td>9.38655</td>\n      <td>6.16807</td>\n      <td>5.25951</td>\n      <td>7.25056</td>\n      <td>6.15860</td>\n      <td>7.83898</td>\n      <td>14.24817</td>\n      <td>7.94108</td>\n    </tr>\n    <tr>\n      <th>2</th>\n      <td>MIR1302-11</td>\n      <td>0.05536</td>\n      <td>0.36737</td>\n      <td>0.04289</td>\n      <td>0.01037</td>\n      <td>0.08765</td>\n      <td>0.00000</td>\n      <td>0.00808</td>\n      <td>0.09373</td>\n      <td>0.02568</td>\n      <td>...</td>\n      <td>0.17586</td>\n      <td>0.07086</td>\n      <td>0.19758</td>\n      <td>0.00000</td>\n      <td>0.00000</td>\n      <td>0.15767</td>\n      <td>0.00000</td>\n      <td>0.14140</td>\n      <td>0.01831</td>\n      <td>0.00000</td>\n    </tr>\n    <tr>\n      <th>3</th>\n      <td>FAM138A</td>\n      <td>0.00000</td>\n      <td>0.00932</td>\n      <td>0.00000</td>\n      <td>0.00869</td>\n      <td>0.00000</td>\n      <td>0.00637</td>\n      <td>0.00000</td>\n      <td>0.01427</td>\n      <td>0.00000</td>\n      <td>...</td>\n      <td>0.02266</td>\n      <td>0.00000</td>\n      <td>0.00000</td>\n      <td>0.00000</td>\n      <td>0.00000</td>\n      <td>0.00000</td>\n      <td>0.01719</td>\n      <td>0.17371</td>\n      <td>0.00000</td>\n      <td>0.00000</td>\n    </tr>\n    <tr>\n      <th>4</th>\n      <td>OR4G4P</td>\n      <td>0.01194</td>\n      <td>0.00000</td>\n      <td>0.00000</td>\n      <td>0.00000</td>\n      <td>0.00000</td>\n      <td>0.00000</td>\n      <td>0.00000</td>\n      <td>0.00000</td>\n      <td>0.00000</td>\n      <td>...</td>\n      <td>0.01459</td>\n      <td>0.00000</td>\n      <td>0.00000</td>\n      <td>0.00000</td>\n      <td>0.00000</td>\n      <td>0.00000</td>\n      <td>0.00000</td>\n      <td>0.00000</td>\n      <td>0.00000</td>\n      <td>0.00000</td>\n    </tr>\n  </tbody>\n</table>\n<p>5 rows × 929 columns</p>\n</div>"
     },
     "execution_count": 11,
     "metadata": {},
     "output_type": "execute_result"
    }
   ],
   "execution_count": 11
  },
  {
   "cell_type": "code",
   "metadata": {
    "ExecuteTime": {
     "end_time": "2024-08-21T11:03:45.824511Z",
     "start_time": "2024-08-21T11:03:45.469164Z"
    }
   },
   "source": [
    " # sort by patient ID\n",
    "expression_df_sorted = expression_df[expression_df.columns[0]].to_frame().join(expression_df[expression_df.columns[1:]].sort_index(axis=1))\n",
    "df_cleaned_sorted = df_cleaned.sort_values(by='Patient ID')\n",
    "#df_cleaned_sorted"
   ],
   "outputs": [],
   "execution_count": 12
  },
  {
   "cell_type": "code",
   "metadata": {
    "ExecuteTime": {
     "end_time": "2024-08-21T11:03:45.840537Z",
     "start_time": "2024-08-21T11:03:45.825567Z"
    }
   },
   "source": [
    "# Get all column names except for the first one and store them in a list\n",
    "patient_ID_list = expression_df_sorted.columns[1:].tolist()\n",
    "\n",
    "# Filter out rows where 'Patient ID' is not in the allowed list\n",
    "df_cleaned_sorted_filtered = df_cleaned_sorted[df_cleaned_sorted['Patient ID'].isin(patient_ID_list)]\n",
    "\n",
    "num_rows, num_columns = df_cleaned_sorted_filtered.shape\n",
    "print(f'Successfully loaded data.\\nNumber of rows:{num_rows}\\nNumber of columns:{num_columns-1}')\n",
    "#print(df_cleaned_sorted_filtered.head())"
   ],
   "outputs": [
    {
     "name": "stdout",
     "output_type": "stream",
     "text": [
      "Successfully loaded data.\n",
      "Number of rows:928\n",
      "Number of columns:50\n"
     ]
    }
   ],
   "execution_count": 13
  },
  {
   "cell_type": "code",
   "metadata": {
    "ExecuteTime": {
     "end_time": "2024-08-21T11:03:46.167894Z",
     "start_time": "2024-08-21T11:03:45.841537Z"
    }
   },
   "source": [
    "# Prepare counts\n",
    "counts = expression_df_sorted\n",
    "counts.set_index('Hugo_Symbol', inplace=True)\n",
    "counts = counts[counts.sum(axis=1) > 0]   #remove rows containing only 0\n",
    "\n",
    "# Transpose the DataFrame to have samples as rows and genes as columns\n",
    "counts = counts.T #(=x.train)\n",
    "counts.index.name = 'Sample'"
   ],
   "outputs": [],
   "execution_count": 14
  },
  {
   "metadata": {
    "ExecuteTime": {
     "end_time": "2024-08-21T11:03:46.183347Z",
     "start_time": "2024-08-21T11:03:46.168891Z"
    }
   },
   "cell_type": "code",
   "source": [
    "# prepare metadata (=y.train)\n",
    "metadata = pd.DataFrame(zip(counts.index, df_cleaned_sorted_filtered['Doubling Time (hrs)']),\n",
    "                        columns=['Sample', 'Doubling Time (hrs)'])\n",
    "metadata = metadata.set_index('Sample')"
   ],
   "outputs": [],
   "execution_count": 15
  },
  {
   "cell_type": "code",
   "source": [
    "metadata = metadata.sort_index()\n",
    "metadata.shape"
   ],
   "metadata": {
    "collapsed": false,
    "ExecuteTime": {
     "end_time": "2024-08-21T11:03:46.198849Z",
     "start_time": "2024-08-21T11:03:46.184345Z"
    }
   },
   "outputs": [
    {
     "data": {
      "text/plain": "(928, 1)"
     },
     "execution_count": 16,
     "metadata": {},
     "output_type": "execute_result"
    }
   ],
   "execution_count": 16
  },
  {
   "metadata": {
    "ExecuteTime": {
     "end_time": "2024-08-21T11:03:46.403766Z",
     "start_time": "2024-08-21T11:03:46.200447Z"
    }
   },
   "cell_type": "code",
   "source": [
    "counts = counts.sort_index()\n",
    "counts.shape"
   ],
   "outputs": [
    {
     "data": {
      "text/plain": "(928, 53758)"
     },
     "execution_count": 17,
     "metadata": {},
     "output_type": "execute_result"
    }
   ],
   "execution_count": 17
  },
  {
   "metadata": {
    "ExecuteTime": {
     "end_time": "2024-08-21T11:03:46.529636Z",
     "start_time": "2024-08-21T11:03:46.404347Z"
    }
   },
   "cell_type": "code",
   "source": [
    "counts.head()"
   ],
   "outputs": [
    {
     "data": {
      "text/plain": "Hugo_Symbol                    DDX11L1    WASH7P  MIR1302-11  FAM138A  \\\nSample                                                                  \n127399_SOFT_TISSUE             0.08018   7.22956     0.05536  0.00000   \n143B_BONE                      0.00000  11.75542     0.36737  0.00932   \n22RV1_PROSTATE                 0.00000  12.63011     0.04289  0.00000   \n2313287_STOMACH                0.03755  10.14155     0.01037  0.00869   \n42MGBA_CENTRAL_NERVOUS_SYSTEM  0.00000   7.61752     0.08765  0.00000   \n\nHugo_Symbol                     OR4G4P  OR4G11P    OR4F5  RP11-34P13.7  \\\nSample                                                                   \n127399_SOFT_TISSUE             0.01194      0.0  0.02463       0.08245   \n143B_BONE                      0.00000      0.0  0.00000       0.10132   \n22RV1_PROSTATE                 0.00000      0.0  0.00000       0.44714   \n2313287_STOMACH                0.00000      0.0  0.00000       0.34327   \n42MGBA_CENTRAL_NERVOUS_SYSTEM  0.00000      0.0  0.00000       0.09428   \n\nHugo_Symbol                     CICP27  AL627309.1  ...      MT-ND3    MT-TR  \\\nSample                                              ...                        \n127399_SOFT_TISSUE             0.07118     0.22517  ...   852.71008  0.00000   \n143B_BONE                      0.20574     1.93494  ...  1042.40210  0.17486   \n22RV1_PROSTATE                 0.37909     6.17780  ...  1176.81189  0.00000   \n2313287_STOMACH                0.09168     6.56648  ...  1009.34979  0.00000   \n42MGBA_CENTRAL_NERVOUS_SYSTEM  0.07513     1.01231  ...  1049.68384  0.13768   \n\nHugo_Symbol                      MT-TH   MT-TS2   MT-TL2      MT-ND5  \\\nSample                                                                 \n127399_SOFT_TISSUE             0.65539  0.57485  0.00000   627.78180   \n143B_BONE                      0.16473  0.00000  0.00000   462.55017   \n22RV1_PROSTATE                 0.00000  0.00000  0.12335  2393.80298   \n2313287_STOMACH                0.00000  0.00000  0.00000  1960.96802   \n42MGBA_CENTRAL_NERVOUS_SYSTEM  0.00000  0.00000  0.25209  1178.93579   \n\nHugo_Symbol                        MT-ND6    MT-TE      MT-CYB    MT-TT  \nSample                                                                   \n127399_SOFT_TISSUE              359.01724  0.49154  1396.61133  0.00000  \n143B_BONE                       248.79994  0.16473   736.91791  0.17221  \n22RV1_PROSTATE                 1825.52332  0.25386  4923.78223  0.00000  \n2313287_STOMACH                2056.64697  0.00000  3827.00537  0.00000  \n42MGBA_CENTRAL_NERVOUS_SYSTEM  1616.96484  0.12970  2343.92407  0.00000  \n\n[5 rows x 53758 columns]",
      "text/html": "<div>\n<style scoped>\n    .dataframe tbody tr th:only-of-type {\n        vertical-align: middle;\n    }\n\n    .dataframe tbody tr th {\n        vertical-align: top;\n    }\n\n    .dataframe thead th {\n        text-align: right;\n    }\n</style>\n<table border=\"1\" class=\"dataframe\">\n  <thead>\n    <tr style=\"text-align: right;\">\n      <th>Hugo_Symbol</th>\n      <th>DDX11L1</th>\n      <th>WASH7P</th>\n      <th>MIR1302-11</th>\n      <th>FAM138A</th>\n      <th>OR4G4P</th>\n      <th>OR4G11P</th>\n      <th>OR4F5</th>\n      <th>RP11-34P13.7</th>\n      <th>CICP27</th>\n      <th>AL627309.1</th>\n      <th>...</th>\n      <th>MT-ND3</th>\n      <th>MT-TR</th>\n      <th>MT-TH</th>\n      <th>MT-TS2</th>\n      <th>MT-TL2</th>\n      <th>MT-ND5</th>\n      <th>MT-ND6</th>\n      <th>MT-TE</th>\n      <th>MT-CYB</th>\n      <th>MT-TT</th>\n    </tr>\n    <tr>\n      <th>Sample</th>\n      <th></th>\n      <th></th>\n      <th></th>\n      <th></th>\n      <th></th>\n      <th></th>\n      <th></th>\n      <th></th>\n      <th></th>\n      <th></th>\n      <th></th>\n      <th></th>\n      <th></th>\n      <th></th>\n      <th></th>\n      <th></th>\n      <th></th>\n      <th></th>\n      <th></th>\n      <th></th>\n      <th></th>\n    </tr>\n  </thead>\n  <tbody>\n    <tr>\n      <th>127399_SOFT_TISSUE</th>\n      <td>0.08018</td>\n      <td>7.22956</td>\n      <td>0.05536</td>\n      <td>0.00000</td>\n      <td>0.01194</td>\n      <td>0.0</td>\n      <td>0.02463</td>\n      <td>0.08245</td>\n      <td>0.07118</td>\n      <td>0.22517</td>\n      <td>...</td>\n      <td>852.71008</td>\n      <td>0.00000</td>\n      <td>0.65539</td>\n      <td>0.57485</td>\n      <td>0.00000</td>\n      <td>627.78180</td>\n      <td>359.01724</td>\n      <td>0.49154</td>\n      <td>1396.61133</td>\n      <td>0.00000</td>\n    </tr>\n    <tr>\n      <th>143B_BONE</th>\n      <td>0.00000</td>\n      <td>11.75542</td>\n      <td>0.36737</td>\n      <td>0.00932</td>\n      <td>0.00000</td>\n      <td>0.0</td>\n      <td>0.00000</td>\n      <td>0.10132</td>\n      <td>0.20574</td>\n      <td>1.93494</td>\n      <td>...</td>\n      <td>1042.40210</td>\n      <td>0.17486</td>\n      <td>0.16473</td>\n      <td>0.00000</td>\n      <td>0.00000</td>\n      <td>462.55017</td>\n      <td>248.79994</td>\n      <td>0.16473</td>\n      <td>736.91791</td>\n      <td>0.17221</td>\n    </tr>\n    <tr>\n      <th>22RV1_PROSTATE</th>\n      <td>0.00000</td>\n      <td>12.63011</td>\n      <td>0.04289</td>\n      <td>0.00000</td>\n      <td>0.00000</td>\n      <td>0.0</td>\n      <td>0.00000</td>\n      <td>0.44714</td>\n      <td>0.37909</td>\n      <td>6.17780</td>\n      <td>...</td>\n      <td>1176.81189</td>\n      <td>0.00000</td>\n      <td>0.00000</td>\n      <td>0.00000</td>\n      <td>0.12335</td>\n      <td>2393.80298</td>\n      <td>1825.52332</td>\n      <td>0.25386</td>\n      <td>4923.78223</td>\n      <td>0.00000</td>\n    </tr>\n    <tr>\n      <th>2313287_STOMACH</th>\n      <td>0.03755</td>\n      <td>10.14155</td>\n      <td>0.01037</td>\n      <td>0.00869</td>\n      <td>0.00000</td>\n      <td>0.0</td>\n      <td>0.00000</td>\n      <td>0.34327</td>\n      <td>0.09168</td>\n      <td>6.56648</td>\n      <td>...</td>\n      <td>1009.34979</td>\n      <td>0.00000</td>\n      <td>0.00000</td>\n      <td>0.00000</td>\n      <td>0.00000</td>\n      <td>1960.96802</td>\n      <td>2056.64697</td>\n      <td>0.00000</td>\n      <td>3827.00537</td>\n      <td>0.00000</td>\n    </tr>\n    <tr>\n      <th>42MGBA_CENTRAL_NERVOUS_SYSTEM</th>\n      <td>0.00000</td>\n      <td>7.61752</td>\n      <td>0.08765</td>\n      <td>0.00000</td>\n      <td>0.00000</td>\n      <td>0.0</td>\n      <td>0.00000</td>\n      <td>0.09428</td>\n      <td>0.07513</td>\n      <td>1.01231</td>\n      <td>...</td>\n      <td>1049.68384</td>\n      <td>0.13768</td>\n      <td>0.00000</td>\n      <td>0.00000</td>\n      <td>0.25209</td>\n      <td>1178.93579</td>\n      <td>1616.96484</td>\n      <td>0.12970</td>\n      <td>2343.92407</td>\n      <td>0.00000</td>\n    </tr>\n  </tbody>\n</table>\n<p>5 rows × 53758 columns</p>\n</div>"
     },
     "execution_count": 18,
     "metadata": {},
     "output_type": "execute_result"
    }
   ],
   "execution_count": 18
  },
  {
   "cell_type": "markdown",
   "metadata": {},
   "source": [
    "Get Features (Genes)"
   ]
  },
  {
   "metadata": {
    "ExecuteTime": {
     "end_time": "2024-08-21T11:03:46.802354Z",
     "start_time": "2024-08-21T11:03:46.530672Z"
    }
   },
   "cell_type": "code",
   "source": [
    "lumin = pd.read_csv('./Lumin/combined_log_rpkm.csv')\n",
    "remaining_genes = lumin.columns.tolist()\n",
    "all_genes = counts.columns.tolist()\n",
    "\n",
    "remaining_genes = list(set(remaining_genes) & set(all_genes))\n",
    "\n",
    "selected_genes = counts[counts.columns[counts.columns.isin(remaining_genes)]]"
   ],
   "outputs": [],
   "execution_count": 19
  },
  {
   "cell_type": "code",
   "outputs": [
    {
     "data": {
      "text/plain": "Hugo_Symbol                        NOC2L   RNF223  C1orf174      DFFA  \\\nSample                                                                  \n127399_SOFT_TISSUE              49.58183  0.47552   9.84523  30.11764   \n143B_BONE                       69.87789  0.00598  16.54878  20.10276   \n22RV1_PROSTATE                  81.77332  0.13814  17.94143  16.05227   \n2313287_STOMACH                 50.33073  1.63693  11.94114  10.59793   \n42MGBA_CENTRAL_NERVOUS_SYSTEM  110.67287  0.03764  10.35040  11.60358   \n\nHugo_Symbol                      CASZ1      SDHB  ARHGEF10L     MRTO4  \\\nSample                                                                  \n127399_SOFT_TISSUE             1.92624  49.91928    2.41611  37.11734   \n143B_BONE                      0.46762  43.15172    0.71989  61.92191   \n22RV1_PROSTATE                 6.75470  45.61941    3.11732  33.70990   \n2313287_STOMACH                2.24687  41.31023    0.60325  23.25575   \n42MGBA_CENTRAL_NERVOUS_SYSTEM  0.22650  30.25760    1.20663  29.68279   \n\nHugo_Symbol                        RPL11    ZNF593  ...     POF1B   PCDH19  \\\nSample                                              ...                      \n127399_SOFT_TISSUE             721.44769  11.16093  ...   0.00281  0.00579   \n143B_BONE                      626.07715  10.86642  ...   0.06489  0.02330   \n22RV1_PROSTATE                 226.45226   6.66715  ...   1.69773  0.68496   \n2313287_STOMACH                214.44760   7.93163  ...  23.99493  0.00109   \n42MGBA_CENTRAL_NERVOUS_SYSTEM  395.46844  12.98476  ...   0.01777  0.05687   \n\nHugo_Symbol                      TIMM8A     BEX5  GPRASP1      NRK   FRMPD3  \\\nSample                                                                        \n127399_SOFT_TISSUE              8.33393  0.00000  0.15217  0.00134  0.00123   \n143B_BONE                      11.84174  6.07336  0.23231  0.10069  0.38351   \n22RV1_PROSTATE                  8.07859  5.84978  0.53847  0.10655  0.33950   \n2313287_STOMACH                 5.08349  1.06597  1.13325  0.00000  0.00000   \n42MGBA_CENTRAL_NERVOUS_SYSTEM   5.50099  1.54908  0.38813  0.00000  0.04202   \n\nHugo_Symbol                    DCAF12L2    UTP14A    PLXNA3  \nSample                                                       \n127399_SOFT_TISSUE              0.00000  12.92641   9.99681  \n143B_BONE                       0.00000  28.24716   1.62773  \n22RV1_PROSTATE                  3.01537  15.06271   6.03201  \n2313287_STOMACH                 0.00000  11.56161   2.52047  \n42MGBA_CENTRAL_NERVOUS_SYSTEM   0.01070  13.42509  17.77709  \n\n[5 rows x 922 columns]",
      "text/html": "<div>\n<style scoped>\n    .dataframe tbody tr th:only-of-type {\n        vertical-align: middle;\n    }\n\n    .dataframe tbody tr th {\n        vertical-align: top;\n    }\n\n    .dataframe thead th {\n        text-align: right;\n    }\n</style>\n<table border=\"1\" class=\"dataframe\">\n  <thead>\n    <tr style=\"text-align: right;\">\n      <th>Hugo_Symbol</th>\n      <th>NOC2L</th>\n      <th>RNF223</th>\n      <th>C1orf174</th>\n      <th>DFFA</th>\n      <th>CASZ1</th>\n      <th>SDHB</th>\n      <th>ARHGEF10L</th>\n      <th>MRTO4</th>\n      <th>RPL11</th>\n      <th>ZNF593</th>\n      <th>...</th>\n      <th>POF1B</th>\n      <th>PCDH19</th>\n      <th>TIMM8A</th>\n      <th>BEX5</th>\n      <th>GPRASP1</th>\n      <th>NRK</th>\n      <th>FRMPD3</th>\n      <th>DCAF12L2</th>\n      <th>UTP14A</th>\n      <th>PLXNA3</th>\n    </tr>\n    <tr>\n      <th>Sample</th>\n      <th></th>\n      <th></th>\n      <th></th>\n      <th></th>\n      <th></th>\n      <th></th>\n      <th></th>\n      <th></th>\n      <th></th>\n      <th></th>\n      <th></th>\n      <th></th>\n      <th></th>\n      <th></th>\n      <th></th>\n      <th></th>\n      <th></th>\n      <th></th>\n      <th></th>\n      <th></th>\n      <th></th>\n    </tr>\n  </thead>\n  <tbody>\n    <tr>\n      <th>127399_SOFT_TISSUE</th>\n      <td>49.58183</td>\n      <td>0.47552</td>\n      <td>9.84523</td>\n      <td>30.11764</td>\n      <td>1.92624</td>\n      <td>49.91928</td>\n      <td>2.41611</td>\n      <td>37.11734</td>\n      <td>721.44769</td>\n      <td>11.16093</td>\n      <td>...</td>\n      <td>0.00281</td>\n      <td>0.00579</td>\n      <td>8.33393</td>\n      <td>0.00000</td>\n      <td>0.15217</td>\n      <td>0.00134</td>\n      <td>0.00123</td>\n      <td>0.00000</td>\n      <td>12.92641</td>\n      <td>9.99681</td>\n    </tr>\n    <tr>\n      <th>143B_BONE</th>\n      <td>69.87789</td>\n      <td>0.00598</td>\n      <td>16.54878</td>\n      <td>20.10276</td>\n      <td>0.46762</td>\n      <td>43.15172</td>\n      <td>0.71989</td>\n      <td>61.92191</td>\n      <td>626.07715</td>\n      <td>10.86642</td>\n      <td>...</td>\n      <td>0.06489</td>\n      <td>0.02330</td>\n      <td>11.84174</td>\n      <td>6.07336</td>\n      <td>0.23231</td>\n      <td>0.10069</td>\n      <td>0.38351</td>\n      <td>0.00000</td>\n      <td>28.24716</td>\n      <td>1.62773</td>\n    </tr>\n    <tr>\n      <th>22RV1_PROSTATE</th>\n      <td>81.77332</td>\n      <td>0.13814</td>\n      <td>17.94143</td>\n      <td>16.05227</td>\n      <td>6.75470</td>\n      <td>45.61941</td>\n      <td>3.11732</td>\n      <td>33.70990</td>\n      <td>226.45226</td>\n      <td>6.66715</td>\n      <td>...</td>\n      <td>1.69773</td>\n      <td>0.68496</td>\n      <td>8.07859</td>\n      <td>5.84978</td>\n      <td>0.53847</td>\n      <td>0.10655</td>\n      <td>0.33950</td>\n      <td>3.01537</td>\n      <td>15.06271</td>\n      <td>6.03201</td>\n    </tr>\n    <tr>\n      <th>2313287_STOMACH</th>\n      <td>50.33073</td>\n      <td>1.63693</td>\n      <td>11.94114</td>\n      <td>10.59793</td>\n      <td>2.24687</td>\n      <td>41.31023</td>\n      <td>0.60325</td>\n      <td>23.25575</td>\n      <td>214.44760</td>\n      <td>7.93163</td>\n      <td>...</td>\n      <td>23.99493</td>\n      <td>0.00109</td>\n      <td>5.08349</td>\n      <td>1.06597</td>\n      <td>1.13325</td>\n      <td>0.00000</td>\n      <td>0.00000</td>\n      <td>0.00000</td>\n      <td>11.56161</td>\n      <td>2.52047</td>\n    </tr>\n    <tr>\n      <th>42MGBA_CENTRAL_NERVOUS_SYSTEM</th>\n      <td>110.67287</td>\n      <td>0.03764</td>\n      <td>10.35040</td>\n      <td>11.60358</td>\n      <td>0.22650</td>\n      <td>30.25760</td>\n      <td>1.20663</td>\n      <td>29.68279</td>\n      <td>395.46844</td>\n      <td>12.98476</td>\n      <td>...</td>\n      <td>0.01777</td>\n      <td>0.05687</td>\n      <td>5.50099</td>\n      <td>1.54908</td>\n      <td>0.38813</td>\n      <td>0.00000</td>\n      <td>0.04202</td>\n      <td>0.01070</td>\n      <td>13.42509</td>\n      <td>17.77709</td>\n    </tr>\n  </tbody>\n</table>\n<p>5 rows × 922 columns</p>\n</div>"
     },
     "execution_count": 20,
     "metadata": {},
     "output_type": "execute_result"
    }
   ],
   "source": [
    "selected_genes.head()"
   ],
   "metadata": {
    "collapsed": false,
    "ExecuteTime": {
     "end_time": "2024-08-21T11:03:46.833710Z",
     "start_time": "2024-08-21T11:03:46.804382Z"
    }
   },
   "execution_count": 20
  },
  {
   "metadata": {
    "ExecuteTime": {
     "end_time": "2024-08-21T11:03:46.849927Z",
     "start_time": "2024-08-21T11:03:46.835297Z"
    }
   },
   "cell_type": "code",
   "source": [
    "# Convert categorical string values to dummies\n",
    "#selected_genes = pd.get_dummies(selected_genes[['Cancer Type']])\n",
    "#selected_genes.head()"
   ],
   "outputs": [],
   "execution_count": 21
  },
  {
   "cell_type": "markdown",
   "metadata": {},
   "source": [
    "Train Models and Predict"
   ]
  },
  {
   "cell_type": "code",
   "outputs": [],
   "source": [
    "# Split the data into training and testing sets\n",
    "#X_train, X_test, y_train, y_test = train_test_split(selected_genes, metadata['Doubling Time (hrs)'], test_size=0.2, random_state=42)\n",
    "\n",
    "X_train = selected_genes\n",
    "y_train = metadata['Doubling Time (hrs)']\n",
    "\n",
    "# Testing set\n",
    "X_test = pd.read_csv('./Lumin/combined_log_rpkm.csv')\n",
    "y_test = pd.read_csv('./Lumin/filtered_DT.csv')\n",
    "\n",
    "# set 1st column as index\n",
    "X_test.set_index(X_test.columns[0], inplace=True)\n",
    "y_test.set_index(y_test.columns[0], inplace=True)\n",
    "\n",
    "X_test = X_test[X_test.columns[X_test.columns.isin(remaining_genes)]]"
   ],
   "metadata": {
    "collapsed": false,
    "ExecuteTime": {
     "end_time": "2024-08-21T11:03:47.168317Z",
     "start_time": "2024-08-21T11:03:46.850925Z"
    }
   },
   "execution_count": 22
  },
  {
   "cell_type": "code",
   "outputs": [
    {
     "data": {
      "text/plain": "               ENPP4      KAL1    TOMM34     PSMA4     NOP16   TMEM260  \\\nUnnamed: 0                                                               \nCTG-0009    1.613275  0.960525  3.875551  6.759119  3.656944  3.867031   \nCTG-0011    3.651490  0.115931  4.684969  7.166263  4.685744  2.376986   \nCTG-0012    2.168765  1.036598  4.458557  6.670618  3.764220  2.677217   \nCTG-0017    2.455650  0.187858  5.048179  6.237024  5.333927  2.051440   \nCTG-0018    3.152483  0.642562  4.854341  6.855189  4.517472  2.664369   \n\n                 FRY     EIF3I   PIK3IP1     DHODH  ...      E2F4    LINGO4  \\\nUnnamed: 0                                          ...                       \nCTG-0009    4.225634  6.339660  2.880406  2.069627  ...  4.236899  0.165779   \nCTG-0011    2.763375  7.652996  4.224947  2.269102  ...  5.531295  0.003786   \nCTG-0012    1.589721  6.467151  2.009356  3.651353  ...  5.738254  0.102089   \nCTG-0017    1.787633  6.709730  1.706277  2.018154  ...  5.039181  0.183502   \nCTG-0018    3.114197  6.150320  2.707983  2.366836  ...  4.469872  0.176382   \n\n             PCDHA13  C16orf95      KARS    DOPEY2    CACFD1  HIST2H2BE  \\\nUnnamed: 0                                                                \nCTG-0009    0.558859  1.742979  6.074241  2.299244  2.104836   1.965150   \nCTG-0011    0.000000  1.984114  7.088162  3.295596  4.579914   4.001112   \nCTG-0012    0.112200  3.453634  7.279551  2.422575  2.619096   3.707307   \nCTG-0017    0.000000  1.669882  7.004236  3.042576  3.863053   3.846557   \nCTG-0018    0.048165  1.609896  6.185294  3.742345  4.590483   2.337792   \n\n            KIAA1147  CSTL1  \nUnnamed: 0                   \nCTG-0009    3.432090    0.0  \nCTG-0011    3.362655    0.0  \nCTG-0012    4.016456    0.0  \nCTG-0017    1.972661    0.0  \nCTG-0018    3.164877    0.0  \n\n[5 rows x 916 columns]",
      "text/html": "<div>\n<style scoped>\n    .dataframe tbody tr th:only-of-type {\n        vertical-align: middle;\n    }\n\n    .dataframe tbody tr th {\n        vertical-align: top;\n    }\n\n    .dataframe thead th {\n        text-align: right;\n    }\n</style>\n<table border=\"1\" class=\"dataframe\">\n  <thead>\n    <tr style=\"text-align: right;\">\n      <th></th>\n      <th>ENPP4</th>\n      <th>KAL1</th>\n      <th>TOMM34</th>\n      <th>PSMA4</th>\n      <th>NOP16</th>\n      <th>TMEM260</th>\n      <th>FRY</th>\n      <th>EIF3I</th>\n      <th>PIK3IP1</th>\n      <th>DHODH</th>\n      <th>...</th>\n      <th>E2F4</th>\n      <th>LINGO4</th>\n      <th>PCDHA13</th>\n      <th>C16orf95</th>\n      <th>KARS</th>\n      <th>DOPEY2</th>\n      <th>CACFD1</th>\n      <th>HIST2H2BE</th>\n      <th>KIAA1147</th>\n      <th>CSTL1</th>\n    </tr>\n    <tr>\n      <th>Unnamed: 0</th>\n      <th></th>\n      <th></th>\n      <th></th>\n      <th></th>\n      <th></th>\n      <th></th>\n      <th></th>\n      <th></th>\n      <th></th>\n      <th></th>\n      <th></th>\n      <th></th>\n      <th></th>\n      <th></th>\n      <th></th>\n      <th></th>\n      <th></th>\n      <th></th>\n      <th></th>\n      <th></th>\n      <th></th>\n    </tr>\n  </thead>\n  <tbody>\n    <tr>\n      <th>CTG-0009</th>\n      <td>1.613275</td>\n      <td>0.960525</td>\n      <td>3.875551</td>\n      <td>6.759119</td>\n      <td>3.656944</td>\n      <td>3.867031</td>\n      <td>4.225634</td>\n      <td>6.339660</td>\n      <td>2.880406</td>\n      <td>2.069627</td>\n      <td>...</td>\n      <td>4.236899</td>\n      <td>0.165779</td>\n      <td>0.558859</td>\n      <td>1.742979</td>\n      <td>6.074241</td>\n      <td>2.299244</td>\n      <td>2.104836</td>\n      <td>1.965150</td>\n      <td>3.432090</td>\n      <td>0.0</td>\n    </tr>\n    <tr>\n      <th>CTG-0011</th>\n      <td>3.651490</td>\n      <td>0.115931</td>\n      <td>4.684969</td>\n      <td>7.166263</td>\n      <td>4.685744</td>\n      <td>2.376986</td>\n      <td>2.763375</td>\n      <td>7.652996</td>\n      <td>4.224947</td>\n      <td>2.269102</td>\n      <td>...</td>\n      <td>5.531295</td>\n      <td>0.003786</td>\n      <td>0.000000</td>\n      <td>1.984114</td>\n      <td>7.088162</td>\n      <td>3.295596</td>\n      <td>4.579914</td>\n      <td>4.001112</td>\n      <td>3.362655</td>\n      <td>0.0</td>\n    </tr>\n    <tr>\n      <th>CTG-0012</th>\n      <td>2.168765</td>\n      <td>1.036598</td>\n      <td>4.458557</td>\n      <td>6.670618</td>\n      <td>3.764220</td>\n      <td>2.677217</td>\n      <td>1.589721</td>\n      <td>6.467151</td>\n      <td>2.009356</td>\n      <td>3.651353</td>\n      <td>...</td>\n      <td>5.738254</td>\n      <td>0.102089</td>\n      <td>0.112200</td>\n      <td>3.453634</td>\n      <td>7.279551</td>\n      <td>2.422575</td>\n      <td>2.619096</td>\n      <td>3.707307</td>\n      <td>4.016456</td>\n      <td>0.0</td>\n    </tr>\n    <tr>\n      <th>CTG-0017</th>\n      <td>2.455650</td>\n      <td>0.187858</td>\n      <td>5.048179</td>\n      <td>6.237024</td>\n      <td>5.333927</td>\n      <td>2.051440</td>\n      <td>1.787633</td>\n      <td>6.709730</td>\n      <td>1.706277</td>\n      <td>2.018154</td>\n      <td>...</td>\n      <td>5.039181</td>\n      <td>0.183502</td>\n      <td>0.000000</td>\n      <td>1.669882</td>\n      <td>7.004236</td>\n      <td>3.042576</td>\n      <td>3.863053</td>\n      <td>3.846557</td>\n      <td>1.972661</td>\n      <td>0.0</td>\n    </tr>\n    <tr>\n      <th>CTG-0018</th>\n      <td>3.152483</td>\n      <td>0.642562</td>\n      <td>4.854341</td>\n      <td>6.855189</td>\n      <td>4.517472</td>\n      <td>2.664369</td>\n      <td>3.114197</td>\n      <td>6.150320</td>\n      <td>2.707983</td>\n      <td>2.366836</td>\n      <td>...</td>\n      <td>4.469872</td>\n      <td>0.176382</td>\n      <td>0.048165</td>\n      <td>1.609896</td>\n      <td>6.185294</td>\n      <td>3.742345</td>\n      <td>4.590483</td>\n      <td>2.337792</td>\n      <td>3.164877</td>\n      <td>0.0</td>\n    </tr>\n  </tbody>\n</table>\n<p>5 rows × 916 columns</p>\n</div>"
     },
     "execution_count": 23,
     "metadata": {},
     "output_type": "execute_result"
    }
   ],
   "source": [
    "X_test.head()"
   ],
   "metadata": {
    "collapsed": false,
    "ExecuteTime": {
     "end_time": "2024-08-21T11:03:47.199275Z",
     "start_time": "2024-08-21T11:03:47.169998Z"
    }
   },
   "execution_count": 23
  },
  {
   "cell_type": "code",
   "source": [
    "############## Random Forest ##############\n",
    "print(\"\\n--- Random Forest ---\\n\")\n",
    "\n",
    "# Define the parameter grid for GridSearchCV\n",
    "param_grid = {\n",
    "    'n_estimators': [50, 100, 200],\n",
    "    'max_depth': [10, 20, 30],\n",
    "    'min_samples_split': [2, 5, 10],\n",
    "    'min_samples_leaf': [1, 2, 4],\n",
    "    'criterion': ['squared_error', 'absolute_error'],\n",
    "    'max_features': ['auto', 'sqrt'],\n",
    "    'bootstrap': [True, False],\n",
    "    \n",
    "}\n",
    "\n",
    "# Create the RandomForestRegressor model\n",
    "rf_model = RandomForestRegressor(random_state=42)\n",
    "\n",
    "# Chosen scoring method\n",
    "scoring_method = 'd2_absolute_error_score'\n",
    "\n",
    "# Create the GridSearchCV object (Cost validation)\n",
    "grid_search = GridSearchCV(estimator=rf_model, param_grid=param_grid, cv=5, n_jobs=-1, scoring=scoring_method, verbose=2)\n",
    "\n",
    "# Fit the grid search to the training data\n",
    "grid_search.fit(X_train, y_train)\n",
    "\n",
    "# Get the best model from the grid search\n",
    "best_rf_model = grid_search.best_estimator_"
   ],
   "metadata": {
    "collapsed": false,
    "is_executing": true,
    "ExecuteTime": {
     "start_time": "2024-08-21T11:03:47.201310Z"
    }
   },
   "outputs": [
    {
     "name": "stdout",
     "output_type": "stream",
     "text": [
      "\n",
      "--- Random Forest ---\n",
      "\n",
      "Fitting 5 folds for each of 648 candidates, totalling 3240 fits\n"
     ]
    }
   ],
   "execution_count": null
  },
  {
   "metadata": {
    "is_executing": true
   },
   "cell_type": "code",
   "source": [
    "# Evaluate the best model\n",
    "predictions, y_test_filtered = evaluate_model(best_rf_model, X_test, y_test)\n",
    "\n",
    "# Evaluate\n",
    "#print_stats(np.log10(y_test_filtered), np.log10(predictions))\n",
    "print_stats(y_test_filtered, predictions)"
   ],
   "outputs": [],
   "execution_count": null
  },
  {
   "cell_type": "code",
   "metadata": {
    "is_executing": true
   },
   "source": [
    "# Correlation Figure\n",
    "plt.scatter(np.log10(predictions), np.log10(y_test_filtered), color='blue', label='Data points')\n",
    "b, m = polyfit(np.log10(predictions), np.log10(y_test_filtered), 1) # Fit with polyfit\n",
    "plt.plot(np.log10(predictions), b + m * np.log10(predictions), '.')\n",
    "plt.xlabel('log(Predictions)')\n",
    "plt.ylabel('log(y_test) values')\n",
    "plt.title('Correlation Figure')\n",
    "plt.legend()\n",
    "plt.show()"
   ],
   "outputs": [],
   "execution_count": null
  },
  {
   "metadata": {
    "is_executing": true
   },
   "cell_type": "code",
   "source": [
    "test_df = y_test.to_frame()\n",
    "test_df['Prediction'] = predictions\n",
    "test_df"
   ],
   "outputs": [],
   "execution_count": null
  },
  {
   "cell_type": "code",
   "source": [
    "# Split the data into training and testing sets\n",
    "X_train, X_test, y_train, y_test = train_test_split(selected_genes, metadata['Doubling Time (hrs)'], test_size=0.2, random_state=42)"
   ],
   "metadata": {
    "collapsed": false,
    "is_executing": true
   },
   "outputs": [],
   "execution_count": null
  },
  {
   "cell_type": "code",
   "source": [
    "############## Linear Regression ##############\n",
    "print(\"\\n--- Linear Regression ---\\n\")\n",
    "\n",
    "lr_model = LinearRegression() #uses gradient descent internally\n",
    "lr_model.fit(X_train, y_train)\n",
    "\n",
    "# Evaluate the model\n",
    "predictions, y_test_filtered = evaluate_model(lr_model, X_test, y_test)\n",
    "\n",
    "# Evaluate\n",
    "#print_stats(np.log10(y_test_filtered), np.log10(predictions))\n",
    "print_stats(y_test_filtered, predictions)"
   ],
   "metadata": {
    "collapsed": false,
    "is_executing": true
   },
   "outputs": [],
   "execution_count": null
  },
  {
   "cell_type": "code",
   "metadata": {
    "is_executing": true
   },
   "source": [
    "# Correlation Figure\n",
    "\n",
    "plt.scatter(np.log10(predictions), np.log10(y_test_filtered), color='blue', label='Data points')\n",
    "b, m = polyfit(np.log10(predictions), np.log10(y_test_filtered), 1) # Fit with polyfit\n",
    "plt.plot(np.log10(predictions), b + m * np.log10(predictions), '.')\n",
    "plt.xlabel('log(Predictions)')\n",
    "plt.ylabel('log(y_test) values')\n",
    "plt.title('Correlation Figure')\n",
    "plt.legend()\n",
    "plt.show()"
   ],
   "outputs": [],
   "execution_count": null
  },
  {
   "metadata": {
    "is_executing": true
   },
   "cell_type": "code",
   "source": [
    "test_df = y_test.to_frame()\n",
    "test_df['Prediction'] = predictions\n",
    "test_df"
   ],
   "outputs": [],
   "execution_count": null
  },
  {
   "cell_type": "markdown",
   "metadata": {},
   "source": []
  }
 ],
 "metadata": {
  "kernelspec": {
   "display_name": "Python 3",
   "language": "python",
   "name": "python3"
  },
  "language_info": {
   "codemirror_mode": {
    "name": "ipython",
    "version": 3
   },
   "file_extension": ".py",
   "mimetype": "text/x-python",
   "name": "python",
   "nbconvert_exporter": "python",
   "pygments_lexer": "ipython3",
   "version": "3.10.0"
  }
 },
 "nbformat": 4,
 "nbformat_minor": 2
}
